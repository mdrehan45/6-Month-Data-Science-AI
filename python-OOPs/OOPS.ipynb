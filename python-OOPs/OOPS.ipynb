{
 "cells": [
  {
   "cell_type": "markdown",
   "id": "2126e50f-5fcd-47d3-971c-25abeda95aa3",
   "metadata": {},
   "source": [
    "**Introduction to OOPS in PYthon :-**\n",
    "OOP (Object-Oriented Programming) is a way of structuring code around objects instead of just functions and logic.\n",
    "Key Concepts:\n",
    "1) Class → A blueprint (like a template) for creating objects.\n",
    "2) Object → An instance of a class (real-world entity).\n",
    "3) Attributes → Variables inside a class (data/properties).\n",
    "4) Methods → Functions inside a class (behavior).\n",
    "5) Inheritance → One class can use features of another.\n",
    "6) Encapsulation → Restricting direct access to data (using private/public).\n",
    "7) Polymorphism → Same function/method name but different behavior.\n",
    "8) Abstraction → Hiding implementation details, showing only essentials."
   ]
  },
  {
   "cell_type": "code",
   "execution_count": 14,
   "id": "7e511ddd-cea4-4ef6-8a03-6da5a01aa29e",
   "metadata": {},
   "outputs": [
    {
     "name": "stdout",
     "output_type": "stream",
     "text": [
      "i5 8gb\n"
     ]
    }
   ],
   "source": [
    "# simple function\n",
    "def computer():\n",
    "    print('i5','8gb')\n",
    "computer()\n"
   ]
  },
  {
   "cell_type": "code",
   "execution_count": 15,
   "id": "ef5f64a7-ccad-477f-93ec-d6df62e0fe66",
   "metadata": {},
   "outputs": [
    {
     "name": "stdout",
     "output_type": "stream",
     "text": [
      "i5 8gb\n",
      "i7 16gb\n"
     ]
    }
   ],
   "source": [
    "#class\n",
    "class computer: \n",
    "    def laptop():  # method\n",
    "        print('i5','8gb')\n",
    "        print('i7','16gb')\n",
    "obj = computer() # object\n",
    "# if i try to print output like this\n",
    "computer.laptop() # output will come"
   ]
  },
  {
   "cell_type": "code",
   "execution_count": 16,
   "id": "b5f0625b-307e-41f3-b3b7-1c21306d386a",
   "metadata": {},
   "outputs": [
    {
     "ename": "TypeError",
     "evalue": "computer.laptop() takes 0 positional arguments but 1 was given",
     "output_type": "error",
     "traceback": [
      "\u001b[1;31m---------------------------------------------------------------------------\u001b[0m",
      "\u001b[1;31mTypeError\u001b[0m                                 Traceback (most recent call last)",
      "Cell \u001b[1;32mIn[16], line 7\u001b[0m\n\u001b[0;32m      5\u001b[0m obj \u001b[38;5;241m=\u001b[39m computer() \u001b[38;5;66;03m# object\u001b[39;00m\n\u001b[0;32m      6\u001b[0m \u001b[38;5;66;03m# But if i try to print output like this\u001b[39;00m\n\u001b[1;32m----> 7\u001b[0m obj\u001b[38;5;241m.\u001b[39mlaptop()\n",
      "\u001b[1;31mTypeError\u001b[0m: computer.laptop() takes 0 positional arguments but 1 was given"
     ]
    }
   ],
   "source": [
    "class computer: \n",
    "    def laptop():  # method\n",
    "        print('i5','8gb')\n",
    "        print('i7','16gb')\n",
    "obj = computer() # object\n",
    "# But if i try to print output like this\n",
    "obj.laptop() # it will show error lets understand why\n",
    "#- In Python, methods inside a class automatically expect the first parameter to be self (which refers to the object itself).\n",
    "# Always use self as the first parameter in instance methods.\n"
   ]
  },
  {
   "cell_type": "code",
   "execution_count": null,
   "id": "a7cc3d9f-e106-4169-9af5-a94dd63c54fb",
   "metadata": {},
   "outputs": [],
   "source": [
    "# correct code\n",
    "class computer: \n",
    "    def laptop(self):  \n",
    "        print('i5','8gb')\n",
    "        print('i7','16gb')\n",
    "obj = computer() # object\n",
    "\n",
    "obj.laptop()\n"
   ]
  },
  {
   "cell_type": "code",
   "execution_count": null,
   "id": "95e0176b-e141-4226-bed5-0797eb995dba",
   "metadata": {},
   "outputs": [],
   "source": [
    "# we undesrtand class , method , object , face one problem and solve using self.\n",
    "# in class self act as argument and also act as object lets see"
   ]
  },
  {
   "cell_type": "code",
   "execution_count": 17,
   "id": "58bd3c57-7d24-46a8-bc1d-c723bc176c4d",
   "metadata": {},
   "outputs": [
    {
     "name": "stdout",
     "output_type": "stream",
     "text": [
      "laptop conf : i5 8gb\n"
     ]
    }
   ],
   "source": [
    "class computer:\n",
    "    def laptop(self,spec,ram):\n",
    "        self.spec = spec\n",
    "        self.ram = ram\n",
    "        print(r\"laptop conf : \"+self.spec,self.ram)\n",
    "\n",
    "lap = computer()\n",
    "lap.laptop('i5','8gb')"
   ]
  },
  {
   "cell_type": "code",
   "execution_count": 18,
   "id": "72432a80-a144-4e68-bdaf-86f374766946",
   "metadata": {},
   "outputs": [],
   "source": [
    "# now lets understand new concept __init__ ( special method )\n",
    "# in above examples we saw we need to call the method inside the class.\n",
    "# __init__ It’s a constructor method in Python classes.Runs automatically whenever you create a new object.\n",
    "# lets see in code"
   ]
  },
  {
   "cell_type": "code",
   "execution_count": 19,
   "id": "9abc76c9-e6c4-4a3c-89a7-31b6fb03b38a",
   "metadata": {},
   "outputs": [
    {
     "name": "stdout",
     "output_type": "stream",
     "text": [
      "now this code no need to call just define object it will run\n"
     ]
    }
   ],
   "source": [
    "class computer:\n",
    "    def __init__(self):\n",
    "        print(\"now this code no need to call just define object it will run\")\n",
    "\n",
    "obj1 = computer()"
   ]
  },
  {
   "cell_type": "code",
   "execution_count": 20,
   "id": "b61cc085-862f-4d03-a2c1-c9595a20e686",
   "metadata": {},
   "outputs": [],
   "source": [
    "# lets do same practice questions\n",
    "#- Create a class Car with attributes brand and model. Use __init__ to initialize them and create a method show_details() to print them."
   ]
  },
  {
   "cell_type": "code",
   "execution_count": 21,
   "id": "2dd3951e-5f5b-49f1-845e-5c339ba41b68",
   "metadata": {},
   "outputs": [
    {
     "name": "stdout",
     "output_type": "stream",
     "text": [
      "car details: BMW  A3\n"
     ]
    }
   ],
   "source": [
    "class car:\n",
    "   def __init__(self,brand,model):\n",
    "       self.brand = brand\n",
    "       self.model = model\n",
    "   def show_details(self):\n",
    "        print(\"car details: \"+self.brand,' '+self.model)\n",
    "\n",
    "detail = car('BMW','A3')\n",
    "detail.show_details()\n"
   ]
  },
  {
   "cell_type": "raw",
   "id": "6972c360-fa62-4d13-81bf-52228c323f66",
   "metadata": {},
   "source": [
    "# Make a class Student that takes name and marks (out of 100). Add a method grade() that prints:\n",
    "A if marks ≥ 90\n",
    "B if marks ≥ 75\n",
    "C if marks ≥ 50\n",
    "Fail otherwise."
   ]
  },
  {
   "cell_type": "code",
   "execution_count": 22,
   "id": "60a2adde-9434-4aff-9510-984e5d52fc06",
   "metadata": {},
   "outputs": [
    {
     "name": "stdout",
     "output_type": "stream",
     "text": [
      "grade A\n"
     ]
    }
   ],
   "source": [
    "class student:\n",
    "    def __init__(self,name,marks):\n",
    "        self.name = name\n",
    "        self.marks = marks\n",
    "    def grade(self):\n",
    "        if ( self.marks>=90):\n",
    "            print(\"grade A\")\n",
    "        elif(self.marks>=75):\n",
    "            print(\"grade B\")\n",
    "        elif(self.marks>=50):\n",
    "            print(\"grade C\")\n",
    "        else :\n",
    "            print(\"fail!\")\n",
    "obj = student('steve',99)\n",
    "obj.grade()"
   ]
  },
  {
   "cell_type": "raw",
   "id": "e72725e6-d375-40e6-97e3-2de0129e94d4",
   "metadata": {},
   "source": [
    "Q) Create a class BankAccount with:\n",
    "Attributes: account_number, balance\n",
    "Methods: deposit(amount), withdraw(amount), and check_balance()\n",
    "Test with different deposits and withdrawals."
   ]
  },
  {
   "cell_type": "code",
   "execution_count": 23,
   "id": "bfa0380f-36b2-4915-9c8e-42ae4d394a4d",
   "metadata": {},
   "outputs": [
    {
     "name": "stdout",
     "output_type": "stream",
     "text": [
      "Your Current account balance : 1500\n"
     ]
    }
   ],
   "source": [
    "class Bank:\n",
    "    def __init__(self,accountnum,balance):\n",
    "        self.accountnum = accountnum\n",
    "        self.balance = balance\n",
    "    def deposit(self,money):\n",
    "        self.balance = self.balance+money\n",
    "        print(f\"Your Current account balance : {self.balance}\")\n",
    "    def withdraw(self,money):\n",
    "        self.balance = self.balance-money\n",
    "        print(f\"your current balance : {self.balance}\")\n",
    "    def check_balance (self):\n",
    "        print(f\"Your balace is : {self.balance}\")\n",
    "\n",
    "user = Bank(1234,1000)\n",
    "user.deposit(500)"
   ]
  },
  {
   "cell_type": "code",
   "execution_count": 24,
   "id": "f73b5815-6e61-435b-9f1f-1e3875dde50b",
   "metadata": {},
   "outputs": [
    {
     "name": "stdout",
     "output_type": "stream",
     "text": [
      "your current balance : 1400\n"
     ]
    }
   ],
   "source": [
    "user.withdraw(100)"
   ]
  },
  {
   "cell_type": "code",
   "execution_count": 25,
   "id": "c815303c-321d-4729-baba-672d054c97df",
   "metadata": {},
   "outputs": [
    {
     "name": "stdout",
     "output_type": "stream",
     "text": [
      "Your Current account balance : 3400\n"
     ]
    }
   ],
   "source": [
    "user.deposit(2000)"
   ]
  },
  {
   "cell_type": "code",
   "execution_count": 26,
   "id": "9d6db0a1-11fb-41f4-9bb2-adc33a94901d",
   "metadata": {},
   "outputs": [
    {
     "name": "stdout",
     "output_type": "stream",
     "text": [
      "your current balance : 100\n"
     ]
    }
   ],
   "source": [
    "user.withdraw(3300)"
   ]
  },
  {
   "cell_type": "code",
   "execution_count": 27,
   "id": "652d3a4b-f4b7-4a51-a309-82e7ae8a400e",
   "metadata": {},
   "outputs": [
    {
     "name": "stdout",
     "output_type": "stream",
     "text": [
      "Your balace is : 100\n"
     ]
    }
   ],
   "source": [
    "user.check_balance()"
   ]
  },
  {
   "cell_type": "code",
   "execution_count": 65,
   "id": "898b032c-edce-4ce0-8eaa-3ac85224c77b",
   "metadata": {},
   "outputs": [],
   "source": [
    "class shoppongcart:\n",
    "   def __init__ (self,cart_id):\n",
    "       self.cart_id = cart_id\n",
    "       self.cart = []\n",
    "   def additem(self,item):\n",
    "        self.cart.append(item)\n",
    "   def removeitem (self,item):\n",
    "       self.cart.remove(item)\n",
    "   def showcart(self):\n",
    "       print(f\"see your cart : {self.cart}\")\n",
    "\n",
    "   \n",
    "cart = shoppongcart(1)\n",
    "       "
   ]
  },
  {
   "cell_type": "code",
   "execution_count": 66,
   "id": "745d556d-43f8-409f-bbee-1b375e5f114d",
   "metadata": {},
   "outputs": [
    {
     "name": "stdout",
     "output_type": "stream",
     "text": [
      "see your cart : []\n"
     ]
    }
   ],
   "source": [
    "cart.showcart()"
   ]
  },
  {
   "cell_type": "code",
   "execution_count": 67,
   "id": "bf6c86e5-040b-463b-9c07-bf9475072fd4",
   "metadata": {},
   "outputs": [],
   "source": [
    "cart.additem(\"shoe\")"
   ]
  },
  {
   "cell_type": "code",
   "execution_count": 68,
   "id": "d44b3c66-2cee-489b-91d2-27c2fdafaf7d",
   "metadata": {},
   "outputs": [
    {
     "name": "stdout",
     "output_type": "stream",
     "text": [
      "see your cart : ['shoe']\n"
     ]
    }
   ],
   "source": [
    "cart.showcart()"
   ]
  },
  {
   "cell_type": "code",
   "execution_count": 69,
   "id": "11fd1a31-d1ec-4d99-a8d1-3b08225db017",
   "metadata": {},
   "outputs": [],
   "source": [
    "cart.additem(\"bag\")"
   ]
  },
  {
   "cell_type": "code",
   "execution_count": 70,
   "id": "edb40cd9-8497-4902-9bf5-c2ba5f6094ac",
   "metadata": {},
   "outputs": [
    {
     "name": "stdout",
     "output_type": "stream",
     "text": [
      "see your cart : ['shoe', 'bag']\n"
     ]
    }
   ],
   "source": [
    "cart.showcart()"
   ]
  },
  {
   "cell_type": "code",
   "execution_count": 71,
   "id": "be687e38-5933-4676-8647-d59b4c5c0bc6",
   "metadata": {},
   "outputs": [],
   "source": [
    "cart.removeitem(\"shoe\")"
   ]
  },
  {
   "cell_type": "code",
   "execution_count": 72,
   "id": "d229f184-aff0-4a54-b49c-05f64188b910",
   "metadata": {},
   "outputs": [
    {
     "name": "stdout",
     "output_type": "stream",
     "text": [
      "see your cart : ['bag']\n"
     ]
    }
   ],
   "source": [
    "cart.showcart()"
   ]
  },
  {
   "cell_type": "code",
   "execution_count": null,
   "id": "c3ee9ef7-f95f-43b2-8135-0ce8c8dd0f16",
   "metadata": {},
   "outputs": [],
   "source": []
  }
 ],
 "metadata": {
  "kernelspec": {
   "display_name": "Python 3 (ipykernel)",
   "language": "python",
   "name": "python3"
  },
  "language_info": {
   "codemirror_mode": {
    "name": "ipython",
    "version": 3
   },
   "file_extension": ".py",
   "mimetype": "text/x-python",
   "name": "python",
   "nbconvert_exporter": "python",
   "pygments_lexer": "ipython3",
   "version": "3.12.7"
  }
 },
 "nbformat": 4,
 "nbformat_minor": 5
}
