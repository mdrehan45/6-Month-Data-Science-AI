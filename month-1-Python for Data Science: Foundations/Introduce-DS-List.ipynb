{
 "cells": [
  {
   "cell_type": "code",
   "execution_count": 9,
   "id": "4d18c7d9-d7c8-483a-9e53-424b79d0d5cd",
   "metadata": {},
   "outputs": [
    {
     "data": {
      "text/plain": [
       "[]"
      ]
     },
     "execution_count": 9,
     "metadata": {},
     "output_type": "execute_result"
    }
   ],
   "source": [
    "l = []\n",
    "l"
   ]
  },
  {
   "cell_type": "code",
   "execution_count": 10,
   "id": "179f299a-7ae0-4c51-a65f-1cda139faf30",
   "metadata": {},
   "outputs": [
    {
     "data": {
      "text/plain": [
       "list"
      ]
     },
     "execution_count": 10,
     "metadata": {},
     "output_type": "execute_result"
    }
   ],
   "source": [
    "type(l)"
   ]
  },
  {
   "cell_type": "code",
   "execution_count": 11,
   "id": "bff2bcc7-1a5e-40d7-96c1-38a2ab2c6a05",
   "metadata": {},
   "outputs": [],
   "source": [
    "l.append(3)"
   ]
  },
  {
   "cell_type": "code",
   "execution_count": 12,
   "id": "162bb72c-1c10-4b88-9780-b6ce68c85fc8",
   "metadata": {},
   "outputs": [
    {
     "data": {
      "text/plain": [
       "[3]"
      ]
     },
     "execution_count": 12,
     "metadata": {},
     "output_type": "execute_result"
    }
   ],
   "source": [
    "l"
   ]
  },
  {
   "cell_type": "code",
   "execution_count": 13,
   "id": "1064b8e1-91e8-4a3b-a1bb-9a0190fa3378",
   "metadata": {},
   "outputs": [],
   "source": [
    "l.append(4)\n",
    "l.append(5)\n",
    "l.append(6)\n",
    "l.append(6) # i add 6 number two time and it is allows duplicate values in a list because Python lists allow duplicates by default.\n",
    "\n"
   ]
  },
  {
   "cell_type": "code",
   "execution_count": 14,
   "id": "a428eff3-f9b9-4d19-b176-684f9c9b90f9",
   "metadata": {},
   "outputs": [
    {
     "data": {
      "text/plain": [
       "[3, 4, 5, 6, 6]"
      ]
     },
     "execution_count": 14,
     "metadata": {},
     "output_type": "execute_result"
    }
   ],
   "source": [
    "l"
   ]
  },
  {
   "cell_type": "code",
   "execution_count": 15,
   "id": "a6a838c8-a0b8-48ae-89dc-9316e8dfe9e0",
   "metadata": {},
   "outputs": [
    {
     "ename": "TypeError",
     "evalue": "list.append() takes exactly one argument (3 given)",
     "output_type": "error",
     "traceback": [
      "\u001b[1;31m---------------------------------------------------------------------------\u001b[0m",
      "\u001b[1;31mTypeError\u001b[0m                                 Traceback (most recent call last)",
      "Cell \u001b[1;32mIn[15], line 1\u001b[0m\n\u001b[1;32m----> 1\u001b[0m l\u001b[38;5;241m.\u001b[39mappend(\u001b[38;5;241m7\u001b[39m,\u001b[38;5;241m8\u001b[39m,\u001b[38;5;241m9\u001b[39m)\n",
      "\u001b[1;31mTypeError\u001b[0m: list.append() takes exactly one argument (3 given)"
     ]
    }
   ],
   "source": [
    "l.append(7,8,9) # error cuz list.append takes only one argument "
   ]
  },
  {
   "cell_type": "code",
   "execution_count": 16,
   "id": "f6b1f059-4763-44a5-89e1-e4bacf756bca",
   "metadata": {},
   "outputs": [],
   "source": [
    "l1 = [] # creating a new list"
   ]
  },
  {
   "cell_type": "code",
   "execution_count": 17,
   "id": "d52dfcfc-99f2-4918-b657-4fc965635527",
   "metadata": {},
   "outputs": [],
   "source": [
    "l1.append('nit')\n",
    "l1.append(True)\n",
    "l1.append(2.3)\n",
    "l1.append(1+2j) # now i am append a multipe type value in a lsit"
   ]
  },
  {
   "cell_type": "code",
   "execution_count": 18,
   "id": "50dbc0ff-8bf0-432f-8cd5-46021626c8aa",
   "metadata": {},
   "outputs": [
    {
     "data": {
      "text/plain": [
       "['nit', True, 2.3, (1+2j)]"
      ]
     },
     "execution_count": 18,
     "metadata": {},
     "output_type": "execute_result"
    }
   ],
   "source": [
    "l1"
   ]
  },
  {
   "cell_type": "code",
   "execution_count": 19,
   "id": "c0aa09a8-c666-4299-b3f3-e86cbd91ae61",
   "metadata": {},
   "outputs": [],
   "source": [
    "l1.append([1,2,3]) # we can append a list inside another list"
   ]
  },
  {
   "cell_type": "code",
   "execution_count": 20,
   "id": "b692e35a-cf0f-4fb5-87ce-85fce115b86b",
   "metadata": {},
   "outputs": [
    {
     "data": {
      "text/plain": [
       "['nit', True, 2.3, (1+2j), [1, 2, 3]]"
      ]
     },
     "execution_count": 20,
     "metadata": {},
     "output_type": "execute_result"
    }
   ],
   "source": [
    "l1\n"
   ]
  },
  {
   "cell_type": "code",
   "execution_count": 21,
   "id": "72535093-11ca-4408-ab1c-af276c18f2b6",
   "metadata": {},
   "outputs": [
    {
     "data": {
      "text/plain": [
       "['nit', True, 2.3, (1+2j), [1, 2, 3]]"
      ]
     },
     "execution_count": 21,
     "metadata": {},
     "output_type": "execute_result"
    }
   ],
   "source": [
    "l1"
   ]
  },
  {
   "cell_type": "code",
   "execution_count": 22,
   "id": "e41a531f-85d3-4534-8f4e-fff14e704b68",
   "metadata": {},
   "outputs": [
    {
     "data": {
      "text/plain": [
       "'nit'"
      ]
     },
     "execution_count": 22,
     "metadata": {},
     "output_type": "execute_result"
    }
   ],
   "source": [
    "l1[0] # Let’s understand the zeroth index of a list "
   ]
  },
  {
   "cell_type": "code",
   "execution_count": 23,
   "id": "5433b76d-a61a-4507-b507-99ec103658b6",
   "metadata": {},
   "outputs": [
    {
     "data": {
      "text/plain": [
       "2.3"
      ]
     },
     "execution_count": 23,
     "metadata": {},
     "output_type": "execute_result"
    }
   ],
   "source": [
    "l1[2] # forword indexing"
   ]
  },
  {
   "cell_type": "code",
   "execution_count": 24,
   "id": "2d3f0749-ed46-4fce-8817-aac766652826",
   "metadata": {},
   "outputs": [
    {
     "data": {
      "text/plain": [
       "[1, 2, 3]"
      ]
     },
     "execution_count": 24,
     "metadata": {},
     "output_type": "execute_result"
    }
   ],
   "source": [
    "l1[-1] # backword indexing"
   ]
  },
  {
   "cell_type": "code",
   "execution_count": 25,
   "id": "a21e03a3-a5e4-492b-b10c-4b690794640a",
   "metadata": {},
   "outputs": [
    {
     "data": {
      "text/plain": [
       "(1+2j)"
      ]
     },
     "execution_count": 25,
     "metadata": {},
     "output_type": "execute_result"
    }
   ],
   "source": [
    "l1[-2]"
   ]
  },
  {
   "cell_type": "code",
   "execution_count": 26,
   "id": "02301d4b-e961-444c-8083-89857a866336",
   "metadata": {},
   "outputs": [
    {
     "data": {
      "text/plain": [
       "['nit', True, 2.3, (1+2j), [1, 2, 3]]"
      ]
     },
     "execution_count": 26,
     "metadata": {},
     "output_type": "execute_result"
    }
   ],
   "source": [
    "l1"
   ]
  },
  {
   "cell_type": "code",
   "execution_count": 27,
   "id": "18dc21a1-3428-478e-b2b0-8766f0285649",
   "metadata": {},
   "outputs": [
    {
     "data": {
      "text/plain": [
       "[True, 2.3]"
      ]
     },
     "execution_count": 27,
     "metadata": {},
     "output_type": "execute_result"
    }
   ],
   "source": [
    "l1[1:3] # slice from index 1 to 3 (not including 3)"
   ]
  },
  {
   "cell_type": "code",
   "execution_count": 28,
   "id": "b0c85739-d0bf-4d39-be86-eabe8af2a6c4",
   "metadata": {},
   "outputs": [],
   "source": [
    "l1[0] = 100 # list is changeable"
   ]
  },
  {
   "cell_type": "code",
   "execution_count": 29,
   "id": "6a8b61c0-1c40-4dec-8c3c-b5c110be1a42",
   "metadata": {},
   "outputs": [],
   "source": [
    "numbers = [] # creating a new empty list"
   ]
  },
  {
   "cell_type": "code",
   "execution_count": 30,
   "id": "97cc9367-4529-4b8e-ab53-883851f6e5e8",
   "metadata": {},
   "outputs": [],
   "source": [
    "numbers.append(1)\n",
    "numbers.append(2)\n",
    "numbers.append(3)\n",
    "numbers.append(4)\n",
    "numbers.append(5)"
   ]
  },
  {
   "cell_type": "code",
   "execution_count": 31,
   "id": "5954ebe1-e9f5-40ca-b917-7256198db9f7",
   "metadata": {},
   "outputs": [
    {
     "data": {
      "text/plain": [
       "[1, 2, 3, 4, 5]"
      ]
     },
     "execution_count": 31,
     "metadata": {},
     "output_type": "execute_result"
    }
   ],
   "source": [
    "numbers"
   ]
  },
  {
   "cell_type": "markdown",
   "id": "950c890f-800a-45bf-aaa9-2f85c5a880c2",
   "metadata": {},
   "source": [
    "copy method"
   ]
  },
  {
   "cell_type": "code",
   "execution_count": 32,
   "id": "f19c60bf-4bc7-4096-bc78-125a8d53e97c",
   "metadata": {},
   "outputs": [],
   "source": [
    "data = numbers.copy()"
   ]
  },
  {
   "cell_type": "code",
   "execution_count": 33,
   "id": "917e048f-bb82-4290-b763-56f8557e5730",
   "metadata": {},
   "outputs": [
    {
     "data": {
      "text/plain": [
       "[1, 2, 3, 4, 5]"
      ]
     },
     "execution_count": 33,
     "metadata": {},
     "output_type": "execute_result"
    }
   ],
   "source": [
    "data"
   ]
  },
  {
   "cell_type": "code",
   "execution_count": 34,
   "id": "5e99f89b-edd3-402f-b957-3c25f557b01a",
   "metadata": {},
   "outputs": [],
   "source": [
    "# it is show an error cuz first we need to declare a empty list for variable data"
   ]
  },
  {
   "cell_type": "code",
   "execution_count": 35,
   "id": "524dc617-5896-4d9a-908a-496cc469cc71",
   "metadata": {},
   "outputs": [],
   "source": [
    "data = []"
   ]
  },
  {
   "cell_type": "code",
   "execution_count": 36,
   "id": "591fec97-8045-4063-a05f-43ffc2e0b43b",
   "metadata": {},
   "outputs": [],
   "source": [
    "data = numbers.copy()"
   ]
  },
  {
   "cell_type": "code",
   "execution_count": 37,
   "id": "a58e98b7-8212-457c-8381-e762ad12cf90",
   "metadata": {},
   "outputs": [
    {
     "data": {
      "text/plain": [
       "[1, 2, 3, 4, 5]"
      ]
     },
     "execution_count": 37,
     "metadata": {},
     "output_type": "execute_result"
    }
   ],
   "source": [
    "data"
   ]
  },
  {
   "cell_type": "markdown",
   "id": "d56e236c-ef75-4aa0-841f-ed4ca4275ac1",
   "metadata": {},
   "source": [
    "count method"
   ]
  },
  {
   "cell_type": "code",
   "execution_count": 38,
   "id": "b30d6107-ac62-475b-90b1-a9e1de3ad490",
   "metadata": {},
   "outputs": [],
   "source": [
    "numbers.append(2)\n",
    "numbers.append(3)\n",
    "numbers.append(2) # add duplicate values in list"
   ]
  },
  {
   "cell_type": "code",
   "execution_count": 39,
   "id": "338bf81b-e19c-41cd-9595-a4cb682959bb",
   "metadata": {},
   "outputs": [
    {
     "data": {
      "text/plain": [
       "2"
      ]
     },
     "execution_count": 39,
     "metadata": {},
     "output_type": "execute_result"
    }
   ],
   "source": [
    "numbers.count(3) # the count method disply the how many times same item present in the list"
   ]
  },
  {
   "cell_type": "code",
   "execution_count": 40,
   "id": "1bf37b24-ee89-48bd-bbbb-3d4a1454fc24",
   "metadata": {},
   "outputs": [
    {
     "data": {
      "text/plain": [
       "3"
      ]
     },
     "execution_count": 40,
     "metadata": {},
     "output_type": "execute_result"
    }
   ],
   "source": [
    "numbers.count(2) # now counting a how many times ' 2 ' present in the list"
   ]
  },
  {
   "cell_type": "code",
   "execution_count": 41,
   "id": "1dd323e7-ddf7-4895-842b-a0b3702c573b",
   "metadata": {},
   "outputs": [
    {
     "data": {
      "text/plain": [
       "[1, 2, 3, 4, 5, 2, 3, 2]"
      ]
     },
     "execution_count": 41,
     "metadata": {},
     "output_type": "execute_result"
    }
   ],
   "source": [
    "numbers"
   ]
  },
  {
   "cell_type": "markdown",
   "id": "899557a0-7e63-4c09-9b4b-1e191547a7d8",
   "metadata": {},
   "source": [
    "pop method"
   ]
  },
  {
   "cell_type": "code",
   "execution_count": 42,
   "id": "fe0f12e9-5946-40a8-8fbc-c2b3713d88d8",
   "metadata": {},
   "outputs": [],
   "source": [
    "#removes and returns an item from a list.\n",
    "\n"
   ]
  },
  {
   "cell_type": "code",
   "execution_count": 43,
   "id": "94905a0c-dd33-4c05-b2ab-fc7b484d048e",
   "metadata": {},
   "outputs": [
    {
     "data": {
      "text/plain": [
       "2"
      ]
     },
     "execution_count": 43,
     "metadata": {},
     "output_type": "execute_result"
    }
   ],
   "source": [
    "numbers.pop() # If no index is given → removes the last item by default."
   ]
  },
  {
   "cell_type": "code",
   "execution_count": 44,
   "id": "605a323f-363e-4b6d-9e33-a27cf107532c",
   "metadata": {},
   "outputs": [
    {
     "data": {
      "text/plain": [
       "[1, 2, 3, 4, 5, 2, 3]"
      ]
     },
     "execution_count": 44,
     "metadata": {},
     "output_type": "execute_result"
    }
   ],
   "source": [
    "numbers"
   ]
  },
  {
   "cell_type": "code",
   "execution_count": 45,
   "id": "6ab7a3aa-38e8-4934-a083-30818dba6b44",
   "metadata": {},
   "outputs": [
    {
     "data": {
      "text/plain": [
       "4"
      ]
     },
     "execution_count": 45,
     "metadata": {},
     "output_type": "execute_result"
    }
   ],
   "source": [
    "numbers.pop(3) #If an index is given → removes the item at that index."
   ]
  },
  {
   "cell_type": "code",
   "execution_count": 46,
   "id": "49ae145b-8b50-4e8a-b905-6b7b1e1d0c94",
   "metadata": {},
   "outputs": [
    {
     "data": {
      "text/plain": [
       "[1, 2, 3, 5, 2, 3]"
      ]
     },
     "execution_count": 46,
     "metadata": {},
     "output_type": "execute_result"
    }
   ],
   "source": [
    "numbers"
   ]
  },
  {
   "cell_type": "markdown",
   "id": "33656931-9645-4695-b611-0bbcc445c198",
   "metadata": {},
   "source": [
    "remove method "
   ]
  },
  {
   "cell_type": "code",
   "execution_count": 47,
   "id": "1da594e2-8968-4bb7-a92a-870299add5c3",
   "metadata": {},
   "outputs": [
    {
     "data": {
      "text/plain": [
       "[1, 2, 3, 4, 5]"
      ]
     },
     "execution_count": 47,
     "metadata": {},
     "output_type": "execute_result"
    }
   ],
   "source": [
    "data"
   ]
  },
  {
   "cell_type": "code",
   "execution_count": 48,
   "id": "294306c3-1732-4c90-acca-2cb7953fdfd0",
   "metadata": {},
   "outputs": [
    {
     "ename": "TypeError",
     "evalue": "list.remove() takes exactly one argument (0 given)",
     "output_type": "error",
     "traceback": [
      "\u001b[1;31m---------------------------------------------------------------------------\u001b[0m",
      "\u001b[1;31mTypeError\u001b[0m                                 Traceback (most recent call last)",
      "Cell \u001b[1;32mIn[48], line 1\u001b[0m\n\u001b[1;32m----> 1\u001b[0m data\u001b[38;5;241m.\u001b[39mremove()\n",
      "\u001b[1;31mTypeError\u001b[0m: list.remove() takes exactly one argument (0 given)"
     ]
    }
   ],
   "source": [
    "data.remove() # it's show error cuz remove method take one argument"
   ]
  },
  {
   "cell_type": "code",
   "execution_count": 49,
   "id": "e6b46e90-3d04-4eff-bc5f-a1fe7d598c34",
   "metadata": {},
   "outputs": [],
   "source": [
    "data.append('hello')\n",
    "data.append('hi')"
   ]
  },
  {
   "cell_type": "code",
   "execution_count": 50,
   "id": "72a88ea9-3a24-4c30-9d0a-d6961c1197bf",
   "metadata": {},
   "outputs": [
    {
     "data": {
      "text/plain": [
       "[1, 2, 3, 4, 5, 'hello', 'hi']"
      ]
     },
     "execution_count": 50,
     "metadata": {},
     "output_type": "execute_result"
    }
   ],
   "source": [
    "data"
   ]
  },
  {
   "cell_type": "code",
   "execution_count": 51,
   "id": "13e3ff0d-fd56-4c2c-9053-9a61dfe0073b",
   "metadata": {},
   "outputs": [],
   "source": [
    "data.remove('hello')"
   ]
  },
  {
   "cell_type": "code",
   "execution_count": 52,
   "id": "fbfe7c67-6c13-4da2-b3d3-e4848e00fb0a",
   "metadata": {},
   "outputs": [
    {
     "data": {
      "text/plain": [
       "[1, 2, 3, 4, 5, 'hi']"
      ]
     },
     "execution_count": 52,
     "metadata": {},
     "output_type": "execute_result"
    }
   ],
   "source": [
    "data"
   ]
  },
  {
   "cell_type": "code",
   "execution_count": 53,
   "id": "865fb1d5-2869-42e5-9b99-882875d42397",
   "metadata": {},
   "outputs": [],
   "source": [
    "# It does not return anything — just modifies the list."
   ]
  },
  {
   "cell_type": "code",
   "execution_count": 54,
   "id": "943e5f0e-947e-411f-9252-951ad454c6ff",
   "metadata": {},
   "outputs": [],
   "source": [
    "# pop() Returns the removed element and remove() Does not return anything. this is a main difference between pop and remove method "
   ]
  },
  {
   "cell_type": "markdown",
   "id": "7a6efc58-494f-47d5-9218-309ee45b435d",
   "metadata": {},
   "source": [
    "insert method"
   ]
  },
  {
   "cell_type": "code",
   "execution_count": 55,
   "id": "fee0d6ca-6935-4276-9424-da4af8fda497",
   "metadata": {},
   "outputs": [],
   "source": [
    "# It inserts an element at a specific index without replacing any existing item."
   ]
  },
  {
   "cell_type": "code",
   "execution_count": 56,
   "id": "62b17939-13ac-46e8-8e12-e7020e658e42",
   "metadata": {},
   "outputs": [],
   "source": [
    "# list.insert(index, value)\n",
    "# index: the position where you want to insert the value\n",
    "# value: the item you want to add"
   ]
  },
  {
   "cell_type": "code",
   "execution_count": 58,
   "id": "574e1b86-4d75-4c36-b40d-b3bc989335a4",
   "metadata": {},
   "outputs": [],
   "source": [
    "num = [1,2,3,5,6,7]"
   ]
  },
  {
   "cell_type": "code",
   "execution_count": 59,
   "id": "95367a25-a37f-45e3-8df5-44abe2083cec",
   "metadata": {},
   "outputs": [
    {
     "data": {
      "text/plain": [
       "[1, 2, 3, 5, 6, 7]"
      ]
     },
     "execution_count": 59,
     "metadata": {},
     "output_type": "execute_result"
    }
   ],
   "source": [
    "num"
   ]
  },
  {
   "cell_type": "code",
   "execution_count": 60,
   "id": "4e919b41-b92a-41bb-81d3-65d48494a56a",
   "metadata": {},
   "outputs": [],
   "source": [
    "num.insert(3,4) # inserting value ' 4 ' at index 3 ."
   ]
  },
  {
   "cell_type": "code",
   "execution_count": 61,
   "id": "51b57d7d-b4ea-4488-95dc-699f5024b877",
   "metadata": {},
   "outputs": [
    {
     "data": {
      "text/plain": [
       "[1, 2, 3, 4, 5, 6, 7]"
      ]
     },
     "execution_count": 61,
     "metadata": {},
     "output_type": "execute_result"
    }
   ],
   "source": [
    "num"
   ]
  },
  {
   "cell_type": "markdown",
   "id": "affd6199-76ca-4446-97a5-c933886b6cb4",
   "metadata": {},
   "source": [
    "extend method"
   ]
  },
  {
   "cell_type": "code",
   "execution_count": 62,
   "id": "5908c707-b2e6-4a2b-8bc4-591f55079e36",
   "metadata": {},
   "outputs": [],
   "source": [
    "#extend() adds each element from another list to the end of the current list."
   ]
  },
  {
   "cell_type": "code",
   "execution_count": 63,
   "id": "d1f75699-49f4-41a3-8641-fbd3cba673fd",
   "metadata": {},
   "outputs": [
    {
     "data": {
      "text/plain": [
       "[3, 4, 5, 6, 6]"
      ]
     },
     "execution_count": 63,
     "metadata": {},
     "output_type": "execute_result"
    }
   ],
   "source": [
    "l"
   ]
  },
  {
   "cell_type": "code",
   "execution_count": 64,
   "id": "46dc15c4-0697-4711-89d3-e42a20fd81cc",
   "metadata": {},
   "outputs": [
    {
     "data": {
      "text/plain": [
       "[1, 2, 3, 4, 5, 6, 7]"
      ]
     },
     "execution_count": 64,
     "metadata": {},
     "output_type": "execute_result"
    }
   ],
   "source": [
    "num"
   ]
  },
  {
   "cell_type": "code",
   "execution_count": 65,
   "id": "91606370-1ba7-4688-be92-e3ca57452005",
   "metadata": {},
   "outputs": [],
   "source": [
    "num.extend(l) #marging two lsit"
   ]
  },
  {
   "cell_type": "code",
   "execution_count": 66,
   "id": "76dc5b79-341a-467b-937a-4db78fc68a78",
   "metadata": {},
   "outputs": [
    {
     "data": {
      "text/plain": [
       "[1, 2, 3, 4, 5, 6, 7, 3, 4, 5, 6, 6]"
      ]
     },
     "execution_count": 66,
     "metadata": {},
     "output_type": "execute_result"
    }
   ],
   "source": [
    "num"
   ]
  },
  {
   "cell_type": "markdown",
   "id": "e6fab707-b9b3-4df4-baf0-39744c78a0b8",
   "metadata": {},
   "source": [
    "reverse method"
   ]
  },
  {
   "cell_type": "code",
   "execution_count": 67,
   "id": "867f0a16-a3fd-4bd9-abe4-c3b33deb4752",
   "metadata": {},
   "outputs": [
    {
     "data": {
      "text/plain": [
       "[1, 2, 3, 4, 5, 6, 7, 3, 4, 5, 6, 6]"
      ]
     },
     "execution_count": 67,
     "metadata": {},
     "output_type": "execute_result"
    }
   ],
   "source": [
    "num"
   ]
  },
  {
   "cell_type": "code",
   "execution_count": 68,
   "id": "51921d7d-5184-413b-acc0-06d68d9d8e41",
   "metadata": {},
   "outputs": [],
   "source": [
    "num.reverse() #reverse() reverses the order of elements in a list (modifies the original list)."
   ]
  },
  {
   "cell_type": "code",
   "execution_count": 69,
   "id": "83881847-69ec-4986-a14f-797d8c372d1e",
   "metadata": {},
   "outputs": [
    {
     "data": {
      "text/plain": [
       "[6, 6, 5, 4, 3, 7, 6, 5, 4, 3, 2, 1]"
      ]
     },
     "execution_count": 69,
     "metadata": {},
     "output_type": "execute_result"
    }
   ],
   "source": [
    "num"
   ]
  },
  {
   "cell_type": "markdown",
   "id": "f96ad3d6-4207-4aa9-9d24-0db21fccfc1b",
   "metadata": {},
   "source": [
    "sort method"
   ]
  },
  {
   "cell_type": "code",
   "execution_count": 70,
   "id": "55e9bde8-e392-4e02-8b19-f1ffd7578a7a",
   "metadata": {},
   "outputs": [
    {
     "data": {
      "text/plain": [
       "[1, 2, 3, 4, 5, 'hi']"
      ]
     },
     "execution_count": 70,
     "metadata": {},
     "output_type": "execute_result"
    }
   ],
   "source": [
    "data"
   ]
  },
  {
   "cell_type": "code",
   "execution_count": 71,
   "id": "1486b253-2bf7-46f6-8c60-011cb9f7e423",
   "metadata": {},
   "outputs": [],
   "source": [
    "data.remove('hi')"
   ]
  },
  {
   "cell_type": "code",
   "execution_count": 72,
   "id": "4ca80a87-034d-4aa9-bac9-5f99bdbe0772",
   "metadata": {},
   "outputs": [
    {
     "data": {
      "text/plain": [
       "[1, 2, 3, 4, 5]"
      ]
     },
     "execution_count": 72,
     "metadata": {},
     "output_type": "execute_result"
    }
   ],
   "source": [
    "data"
   ]
  },
  {
   "cell_type": "code",
   "execution_count": 73,
   "id": "d39e039f-c731-4a78-b319-9f825928dd33",
   "metadata": {},
   "outputs": [],
   "source": [
    "# sort() arranges the elements of a list in ascending (default) or descending order."
   ]
  },
  {
   "cell_type": "code",
   "execution_count": 78,
   "id": "83536409-b131-4b9a-9af1-9598901d88c2",
   "metadata": {},
   "outputs": [],
   "source": [
    "data.sort( reverse = True ) #Descending order"
   ]
  },
  {
   "cell_type": "code",
   "execution_count": 79,
   "id": "0de0b422-46dd-412c-801e-41b980ae9737",
   "metadata": {},
   "outputs": [
    {
     "data": {
      "text/plain": [
       "[5, 4, 3, 2, 1]"
      ]
     },
     "execution_count": 79,
     "metadata": {},
     "output_type": "execute_result"
    }
   ],
   "source": [
    "data"
   ]
  },
  {
   "cell_type": "code",
   "execution_count": 80,
   "id": "feb5b881-db78-4417-bfb8-4563f12b6d5d",
   "metadata": {},
   "outputs": [],
   "source": [
    "data.sort() # by default ascending order"
   ]
  },
  {
   "cell_type": "code",
   "execution_count": 81,
   "id": "26849a82-91da-4e2f-9315-7855198d663e",
   "metadata": {},
   "outputs": [
    {
     "data": {
      "text/plain": [
       "[1, 2, 3, 4, 5]"
      ]
     },
     "execution_count": 81,
     "metadata": {},
     "output_type": "execute_result"
    }
   ],
   "source": [
    "data"
   ]
  },
  {
   "cell_type": "markdown",
   "id": "9dbcff1a-9fbb-48b5-a78d-f7097188a8e3",
   "metadata": {},
   "source": [
    "Clear Method"
   ]
  },
  {
   "cell_type": "code",
   "execution_count": 82,
   "id": "81c44202-2c6c-4eb9-bc2a-662e91fb476b",
   "metadata": {},
   "outputs": [
    {
     "data": {
      "text/plain": [
       "[1, 2, 3, 4, 5]"
      ]
     },
     "execution_count": 82,
     "metadata": {},
     "output_type": "execute_result"
    }
   ],
   "source": [
    "data"
   ]
  },
  {
   "cell_type": "code",
   "execution_count": 84,
   "id": "204f6c5e-123e-4e6f-add5-6b52d4958e9d",
   "metadata": {},
   "outputs": [],
   "source": [
    "data.clear() # remove all elements from list"
   ]
  },
  {
   "cell_type": "code",
   "execution_count": 85,
   "id": "36306c27-5880-4937-a35d-7f1aa8fff49b",
   "metadata": {},
   "outputs": [
    {
     "data": {
      "text/plain": [
       "[]"
      ]
     },
     "execution_count": 85,
     "metadata": {},
     "output_type": "execute_result"
    }
   ],
   "source": [
    "data"
   ]
  },
  {
   "cell_type": "markdown",
   "id": "58836cc5-5874-41a8-ad82-59c8977ff1ae",
   "metadata": {},
   "source": [
    "del listname"
   ]
  },
  {
   "cell_type": "code",
   "execution_count": 86,
   "id": "4bf5b31d-8049-4685-aa50-629c6a449830",
   "metadata": {},
   "outputs": [],
   "source": [
    "del data # del deletes the entire list from memory"
   ]
  },
  {
   "cell_type": "code",
   "execution_count": 87,
   "id": "2a266100-be57-4321-826a-976b8ed2e8e7",
   "metadata": {},
   "outputs": [
    {
     "ename": "NameError",
     "evalue": "name 'data' is not defined",
     "output_type": "error",
     "traceback": [
      "\u001b[1;31m---------------------------------------------------------------------------\u001b[0m",
      "\u001b[1;31mNameError\u001b[0m                                 Traceback (most recent call last)",
      "Cell \u001b[1;32mIn[87], line 1\u001b[0m\n\u001b[1;32m----> 1\u001b[0m data\n",
      "\u001b[1;31mNameError\u001b[0m: name 'data' is not defined"
     ]
    }
   ],
   "source": [
    "data # error cuz delete the data variable from the memoery"
   ]
  },
  {
   "cell_type": "markdown",
   "id": "31ccc7fb-5303-41c9-87ed-80f222828fcf",
   "metadata": {},
   "source": [
    "len ()"
   ]
  },
  {
   "cell_type": "code",
   "execution_count": 88,
   "id": "a399b286-952c-48ee-ad17-44de0e437394",
   "metadata": {},
   "outputs": [
    {
     "data": {
      "text/plain": [
       "[3, 4, 5, 6, 6]"
      ]
     },
     "execution_count": 88,
     "metadata": {},
     "output_type": "execute_result"
    }
   ],
   "source": [
    "l"
   ]
  },
  {
   "cell_type": "code",
   "execution_count": 89,
   "id": "dc678955-d827-42f4-9de2-17fe03bd9f0d",
   "metadata": {},
   "outputs": [
    {
     "data": {
      "text/plain": [
       "5"
      ]
     },
     "execution_count": 89,
     "metadata": {},
     "output_type": "execute_result"
    }
   ],
   "source": [
    "len(l) # calculate and display lenght of content in the list"
   ]
  },
  {
   "cell_type": "code",
   "execution_count": 90,
   "id": "c0d4d69b-be29-4641-80e0-dec6965f2e14",
   "metadata": {},
   "outputs": [
    {
     "data": {
      "text/plain": [
       "[3, 4, 5, 6, 6]"
      ]
     },
     "execution_count": 90,
     "metadata": {},
     "output_type": "execute_result"
    }
   ],
   "source": [
    "l"
   ]
  },
  {
   "cell_type": "code",
   "execution_count": 91,
   "id": "372e1dfb-06fa-48b4-bc81-3544853843f8",
   "metadata": {},
   "outputs": [
    {
     "data": {
      "text/plain": [
       "True"
      ]
     },
     "execution_count": 91,
     "metadata": {},
     "output_type": "execute_result"
    }
   ],
   "source": [
    "5 in l # check and ans value '5' present or not in the list"
   ]
  },
  {
   "cell_type": "code",
   "execution_count": 92,
   "id": "ef8e77e8-7627-47a5-9042-31155f23c1c6",
   "metadata": {},
   "outputs": [
    {
     "data": {
      "text/plain": [
       "[3, 4, 5, 6, 6]"
      ]
     },
     "execution_count": 92,
     "metadata": {},
     "output_type": "execute_result"
    }
   ],
   "source": [
    "l"
   ]
  },
  {
   "cell_type": "code",
   "execution_count": 93,
   "id": "a473b118-22bc-444f-9ab7-fd1ae8a8b08f",
   "metadata": {},
   "outputs": [],
   "source": [
    "l.append('rehan')"
   ]
  },
  {
   "cell_type": "code",
   "execution_count": 94,
   "id": "bc98107b-1685-4147-b50e-a2aa37832ba8",
   "metadata": {},
   "outputs": [
    {
     "data": {
      "text/plain": [
       "[3, 4, 5, 6, 6, 'rehan']"
      ]
     },
     "execution_count": 94,
     "metadata": {},
     "output_type": "execute_result"
    }
   ],
   "source": [
    "l"
   ]
  },
  {
   "cell_type": "code",
   "execution_count": 95,
   "id": "42b84117-c1dc-4f42-8736-f9017234df4d",
   "metadata": {},
   "outputs": [
    {
     "data": {
      "text/plain": [
       "'rehan'"
      ]
     },
     "execution_count": 95,
     "metadata": {},
     "output_type": "execute_result"
    }
   ],
   "source": [
    "l[5]"
   ]
  },
  {
   "cell_type": "code",
   "execution_count": 96,
   "id": "abfd9c70-cd7f-40e2-81bf-5c0fd60637a9",
   "metadata": {},
   "outputs": [
    {
     "data": {
      "text/plain": [
       "'r'"
      ]
     },
     "execution_count": 96,
     "metadata": {},
     "output_type": "execute_result"
    }
   ],
   "source": [
    "l[5][0] # nested indexing"
   ]
  },
  {
   "cell_type": "code",
   "execution_count": null,
   "id": "9178aeef-eebf-4446-bfe4-00d40c1844ac",
   "metadata": {},
   "outputs": [],
   "source": [
    "# list completed..."
   ]
  }
 ],
 "metadata": {
  "kernelspec": {
   "display_name": "Python 3 (ipykernel)",
   "language": "python",
   "name": "python3"
  },
  "language_info": {
   "codemirror_mode": {
    "name": "ipython",
    "version": 3
   },
   "file_extension": ".py",
   "mimetype": "text/x-python",
   "name": "python",
   "nbconvert_exporter": "python",
   "pygments_lexer": "ipython3",
   "version": "3.12.7"
  }
 },
 "nbformat": 4,
 "nbformat_minor": 5
}
