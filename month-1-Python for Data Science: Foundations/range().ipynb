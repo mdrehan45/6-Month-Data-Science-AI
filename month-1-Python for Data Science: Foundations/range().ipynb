{
 "cells": [
  {
   "cell_type": "markdown",
   "id": "410e374d-a08d-453a-8f10-73110f9c20c2",
   "metadata": {},
   "source": [
    "range()"
   ]
  },
  {
   "cell_type": "raw",
   "id": "bbd5a9f1-d086-416b-9ff4-798da0413f48",
   "metadata": {},
   "source": [
    "The range() function returns a sequence of numbers"
   ]
  },
  {
   "cell_type": "code",
   "execution_count": 18,
   "id": "af1bbcdd-784b-46b3-9d39-371d57ffbbea",
   "metadata": {},
   "outputs": [],
   "source": [
    "# range(start, stop, step)"
   ]
  },
  {
   "cell_type": "raw",
   "id": "d8ca056e-7bbe-4abe-92ee-aa903b49ff61",
   "metadata": {},
   "source": [
    " start ---> Starting number (default is 0)\n",
    " stop --->  End (excluded in output)\n",
    " step --->  Difference between each number (default is 1)"
   ]
  },
  {
   "cell_type": "code",
   "execution_count": 19,
   "id": "8dc07949-f590-415a-b168-fac23e07a418",
   "metadata": {},
   "outputs": [
    {
     "data": {
      "text/plain": [
       "[10, 11, 12, 13, 14, 15, 16, 17, 18, 19]"
      ]
     },
     "execution_count": 19,
     "metadata": {},
     "output_type": "execute_result"
    }
   ],
   "source": [
    "list(range(10,20)) # example creating list using range(). with two arguments."
   ]
  },
  {
   "cell_type": "code",
   "execution_count": 20,
   "id": "ee9915e5-5f7c-4e71-8eea-bb335baf394e",
   "metadata": {},
   "outputs": [
    {
     "data": {
      "text/plain": [
       "[10, 13, 16, 19]"
      ]
     },
     "execution_count": 20,
     "metadata": {},
     "output_type": "execute_result"
    }
   ],
   "source": [
    "list(range(10,20,3)) # wiht three arguments "
   ]
  },
  {
   "cell_type": "code",
   "execution_count": 21,
   "id": "4029fb42-a4da-4e64-a32f-04187edc7656",
   "metadata": {},
   "outputs": [
    {
     "ename": "TypeError",
     "evalue": "range expected at most 3 arguments, got 4",
     "output_type": "error",
     "traceback": [
      "\u001b[1;31m---------------------------------------------------------------------------\u001b[0m",
      "\u001b[1;31mTypeError\u001b[0m                                 Traceback (most recent call last)",
      "Cell \u001b[1;32mIn[21], line 1\u001b[0m\n\u001b[1;32m----> 1\u001b[0m \u001b[38;5;28mlist\u001b[39m(\u001b[38;5;28mrange\u001b[39m(\u001b[38;5;241m10\u001b[39m,\u001b[38;5;241m20\u001b[39m,\u001b[38;5;241m5\u001b[39m,\u001b[38;5;241m4\u001b[39m))\n",
      "\u001b[1;31mTypeError\u001b[0m: range expected at most 3 arguments, got 4"
     ]
    }
   ],
   "source": [
    "list(range(10,20,5,4)) # it show error cuz you can pass only three arguments."
   ]
  },
  {
   "cell_type": "code",
   "execution_count": 22,
   "id": "f0faacab-e756-4be8-af5b-c1210a30c603",
   "metadata": {},
   "outputs": [],
   "source": [
    "r =list(range(10,20,5,)) # storing in variable."
   ]
  },
  {
   "cell_type": "code",
   "execution_count": 23,
   "id": "f59cb92d-7989-4888-8c8b-e1269bb48e12",
   "metadata": {},
   "outputs": [
    {
     "data": {
      "text/plain": [
       "[10, 15]"
      ]
     },
     "execution_count": 23,
     "metadata": {},
     "output_type": "execute_result"
    }
   ],
   "source": [
    "r"
   ]
  },
  {
   "cell_type": "code",
   "execution_count": 24,
   "id": "84f4d354-a541-466c-956c-e67ca0faadd6",
   "metadata": {},
   "outputs": [
    {
     "name": "stdout",
     "output_type": "stream",
     "text": [
      "10\n",
      "15\n"
     ]
    }
   ],
   "source": [
    "for i in r : \n",
    "    print(i)"
   ]
  },
  {
   "cell_type": "code",
   "execution_count": 25,
   "id": "4ee646d1-52aa-4ee4-bd83-45bdaeb8d560",
   "metadata": {},
   "outputs": [],
   "source": [
    "a = range(0,10)"
   ]
  },
  {
   "cell_type": "code",
   "execution_count": 26,
   "id": "edfe2734-b6a4-455a-856b-820f3cbf9bb6",
   "metadata": {},
   "outputs": [
    {
     "data": {
      "text/plain": [
       "[0, 1, 2, 3, 4, 5, 6, 7, 8, 9]"
      ]
     },
     "execution_count": 26,
     "metadata": {},
     "output_type": "execute_result"
    }
   ],
   "source": [
    "list(a)"
   ]
  },
  {
   "cell_type": "code",
   "execution_count": 27,
   "id": "825ddeb7-033a-45aa-9740-e7bfdbb1b759",
   "metadata": {},
   "outputs": [],
   "source": [
    "# advance slicing"
   ]
  },
  {
   "cell_type": "code",
   "execution_count": 28,
   "id": "459bda84-7846-4431-a849-4efefb33ea1a",
   "metadata": {},
   "outputs": [],
   "source": [
    "l = [ 1,2,3,'rehan',True,5]"
   ]
  },
  {
   "cell_type": "code",
   "execution_count": 29,
   "id": "bb9420e7-1a6b-444d-b886-b8c782f77237",
   "metadata": {},
   "outputs": [
    {
     "data": {
      "text/plain": [
       "[1, 2, 3, 'rehan', True, 5]"
      ]
     },
     "execution_count": 29,
     "metadata": {},
     "output_type": "execute_result"
    }
   ],
   "source": [
    "l"
   ]
  },
  {
   "cell_type": "code",
   "execution_count": 30,
   "id": "4bd2d4f6-fa0f-4619-8a73-7bff8ba25d9c",
   "metadata": {},
   "outputs": [
    {
     "data": {
      "text/plain": [
       "[1, 2, 3, 'rehan', True, 5]"
      ]
     },
     "execution_count": 30,
     "metadata": {},
     "output_type": "execute_result"
    }
   ],
   "source": [
    "l[:]"
   ]
  },
  {
   "cell_type": "code",
   "execution_count": 31,
   "id": "f88b7480-c94a-4b60-ba99-65ac091d719a",
   "metadata": {},
   "outputs": [
    {
     "data": {
      "text/plain": [
       "[2, 3, 'rehan', True, 5]"
      ]
     },
     "execution_count": 31,
     "metadata": {},
     "output_type": "execute_result"
    }
   ],
   "source": [
    "l[1:] # forword slicing"
   ]
  },
  {
   "cell_type": "code",
   "execution_count": 32,
   "id": "d64ec06b-4dfc-4e63-b896-01f4b18e75c9",
   "metadata": {},
   "outputs": [
    {
     "data": {
      "text/plain": [
       "['rehan', True, 5]"
      ]
     },
     "execution_count": 32,
     "metadata": {},
     "output_type": "execute_result"
    }
   ],
   "source": [
    "l[-3:] # backword slicing"
   ]
  },
  {
   "cell_type": "code",
   "execution_count": 33,
   "id": "cf24a1aa-de55-470a-8d7a-0ee537a24925",
   "metadata": {},
   "outputs": [],
   "source": [
    "# step slicing"
   ]
  },
  {
   "cell_type": "code",
   "execution_count": 34,
   "id": "c8c1f5b7-cd9c-4fbe-8bb4-24d92d689930",
   "metadata": {},
   "outputs": [
    {
     "data": {
      "text/plain": [
       "[1, 2, 3, 'rehan', True, 5]"
      ]
     },
     "execution_count": 34,
     "metadata": {},
     "output_type": "execute_result"
    }
   ],
   "source": [
    "l"
   ]
  },
  {
   "cell_type": "code",
   "execution_count": 35,
   "id": "2af538ab-f051-4dcb-a6a4-f4b667479a9c",
   "metadata": {},
   "outputs": [
    {
     "data": {
      "text/plain": [
       "[3]"
      ]
     },
     "execution_count": 35,
     "metadata": {},
     "output_type": "execute_result"
    }
   ],
   "source": [
    "l[2:4:2]"
   ]
  },
  {
   "cell_type": "code",
   "execution_count": 36,
   "id": "9d8b9004-4d5e-4e41-94d8-10441fb44236",
   "metadata": {},
   "outputs": [
    {
     "data": {
      "text/plain": [
       "[5, True, 'rehan', 3, 2, 1]"
      ]
     },
     "execution_count": 36,
     "metadata": {},
     "output_type": "execute_result"
    }
   ],
   "source": [
    "l[::-1] # reverse list items"
   ]
  },
  {
   "cell_type": "code",
   "execution_count": 37,
   "id": "70db1d8b-5db1-40b4-9c91-6ba253a9b494",
   "metadata": {},
   "outputs": [
    {
     "data": {
      "text/plain": [
       "[]"
      ]
     },
     "execution_count": 37,
     "metadata": {},
     "output_type": "execute_result"
    }
   ],
   "source": [
    "l[-2:4]"
   ]
  },
  {
   "cell_type": "code",
   "execution_count": 38,
   "id": "848865af-2e96-4991-94f0-ba3bf803f2da",
   "metadata": {},
   "outputs": [
    {
     "data": {
      "text/plain": [
       "[5, 'rehan', 2]"
      ]
     },
     "execution_count": 38,
     "metadata": {},
     "output_type": "execute_result"
    }
   ],
   "source": [
    "l[::-2]"
   ]
  }
 ],
 "metadata": {
  "kernelspec": {
   "display_name": "Python 3 (ipykernel)",
   "language": "python",
   "name": "python3"
  },
  "language_info": {
   "codemirror_mode": {
    "name": "ipython",
    "version": 3
   },
   "file_extension": ".py",
   "mimetype": "text/x-python",
   "name": "python",
   "nbconvert_exporter": "python",
   "pygments_lexer": "ipython3",
   "version": "3.12.7"
  }
 },
 "nbformat": 4,
 "nbformat_minor": 5
}
