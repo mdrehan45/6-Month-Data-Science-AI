{
 "cells": [
  {
   "cell_type": "markdown",
   "id": "c85e4db0-adf3-4995-a46d-684bc03a59c0",
   "metadata": {},
   "source": [
    "* Manipulating Strings "
   ]
  },
  {
   "cell_type": "raw",
   "id": "b75a097a-8fcb-45b8-975e-b960ab70f604",
   "metadata": {},
   "source": [
    "# Escape Characters is Created by typing a backslash ` \\ ` ."
   ]
  },
  {
   "cell_type": "code",
   "execution_count": 44,
   "id": "61b8a139-0077-42a0-b149-dcfaf70b307a",
   "metadata": {},
   "outputs": [
    {
     "name": "stdout",
     "output_type": "stream",
     "text": [
      " hello \n",
      " how are you \n",
      " bye \n"
     ]
    }
   ],
   "source": [
    "print ( \" hello \\n how are you \\n bye \") # \\n for new line"
   ]
  },
  {
   "cell_type": "code",
   "execution_count": 45,
   "id": "5409d12c-1d29-4836-92b6-ed410eaec659",
   "metadata": {},
   "outputs": [
    {
     "name": "stdout",
     "output_type": "stream",
     "text": [
      " it' ok \n"
     ]
    }
   ],
   "source": [
    "print ( \" it\\' ok \")"
   ]
  },
  {
   "cell_type": "code",
   "execution_count": 46,
   "id": "1c781fd9-d758-449d-a5a8-7ec9aff829b4",
   "metadata": {},
   "outputs": [
    {
     "name": "stdout",
     "output_type": "stream",
     "text": [
      "hello\n"
     ]
    }
   ],
   "source": [
    "print( \"helloo\\b\" ) # \\b for backspace"
   ]
  },
  {
   "cell_type": "code",
   "execution_count": 47,
   "id": "eb87d184-a116-4d60-9a13-d8c2120b5720",
   "metadata": {},
   "outputs": [
    {
     "name": "stdout",
     "output_type": "stream",
     "text": [
      " it\"s ok \n"
     ]
    }
   ],
   "source": [
    "print( ' it\\\"s ok ')"
   ]
  },
  {
   "cell_type": "code",
   "execution_count": 48,
   "id": "d953544a-84ab-4208-a028-aa64a481a375",
   "metadata": {},
   "outputs": [
    {
     "name": "stdout",
     "output_type": "stream",
     "text": [
      "hello\tworld\n"
     ]
    }
   ],
   "source": [
    "print(\"hello\\tworld\")"
   ]
  },
  {
   "cell_type": "code",
   "execution_count": 49,
   "id": "bf3e8414-b11d-41d2-afe8-61bf17dbed77",
   "metadata": {},
   "outputs": [
    {
     "name": "stdout",
     "output_type": "stream",
     "text": [
      " world\n"
     ]
    }
   ],
   "source": [
    "print(\" hello\\r world\")"
   ]
  },
  {
   "cell_type": "markdown",
   "id": "44750111-4cb7-48de-abfa-7c77ed5eeb72",
   "metadata": {},
   "source": [
    "Raw Strings"
   ]
  },
  {
   "cell_type": "raw",
   "id": "dcc92cbb-d85a-4824-b0b8-04cdef7bd717",
   "metadata": {},
   "source": [
    "A raw string entirely ignores all escape characters and prints any backslash that appears in the string."
   ]
  },
  {
   "cell_type": "code",
   "execution_count": 50,
   "id": "52bf555f-3098-42ee-a148-76f1f75d7354",
   "metadata": {},
   "outputs": [
    {
     "name": "stdout",
     "output_type": "stream",
     "text": [
      "hello \\n how are you \\n bye \n"
     ]
    }
   ],
   "source": [
    "print(r\"hello \\n how are you \\n bye \")"
   ]
  },
  {
   "cell_type": "markdown",
   "id": "dd9e87df-e7d9-472b-8381-267a0222a30d",
   "metadata": {},
   "source": [
    "Multiline String "
   ]
  },
  {
   "cell_type": "code",
   "execution_count": 51,
   "id": "420dc432-efb3-425d-9cf3-eb52bde78814",
   "metadata": {},
   "outputs": [
    {
     "name": "stdout",
     "output_type": "stream",
     "text": [
      " hello \n",
      "how are you guys,\n",
      "my name is rehan.\n",
      "This is multiline string.\n"
     ]
    }
   ],
   "source": [
    "print(''' hello \n",
    "how are you guys,\n",
    "my name is rehan.\n",
    "This is multiline string.''')"
   ]
  },
  {
   "cell_type": "code",
   "execution_count": 52,
   "id": "4e9562ef-855a-4317-80a9-a30a9411ece9",
   "metadata": {},
   "outputs": [],
   "source": [
    "name = \"rehan\""
   ]
  },
  {
   "cell_type": "code",
   "execution_count": 53,
   "id": "8618fb38-cbba-4a88-b1d8-0e351025be9c",
   "metadata": {},
   "outputs": [
    {
     "data": {
      "text/plain": [
       "'rehan'"
      ]
     },
     "execution_count": 53,
     "metadata": {},
     "output_type": "execute_result"
    }
   ],
   "source": [
    "name"
   ]
  },
  {
   "cell_type": "code",
   "execution_count": 54,
   "id": "e299522a-69db-4f17-ac6c-be92d204bc15",
   "metadata": {},
   "outputs": [
    {
     "data": {
      "text/plain": [
       "'r'"
      ]
     },
     "execution_count": 54,
     "metadata": {},
     "output_type": "execute_result"
    }
   ],
   "source": [
    "name[0]"
   ]
  },
  {
   "cell_type": "code",
   "execution_count": 55,
   "id": "42a6a798-4fd9-4dce-87c1-12e3f2c993ea",
   "metadata": {},
   "outputs": [
    {
     "data": {
      "text/plain": [
       "'n'"
      ]
     },
     "execution_count": 55,
     "metadata": {},
     "output_type": "execute_result"
    }
   ],
   "source": [
    "name[-1]"
   ]
  },
  {
   "cell_type": "code",
   "execution_count": 56,
   "id": "fdd0e451-b8fb-4823-8883-9174509ed9c6",
   "metadata": {},
   "outputs": [
    {
     "data": {
      "text/plain": [
       "'reh'"
      ]
     },
     "execution_count": 56,
     "metadata": {},
     "output_type": "execute_result"
    }
   ],
   "source": [
    "name[0:3]"
   ]
  },
  {
   "cell_type": "code",
   "execution_count": 57,
   "id": "a524f51d-7018-4f26-b0e1-65459587c49d",
   "metadata": {},
   "outputs": [
    {
     "data": {
      "text/plain": [
       "'naher'"
      ]
     },
     "execution_count": 57,
     "metadata": {},
     "output_type": "execute_result"
    }
   ],
   "source": [
    "name[::-1] # reverse string"
   ]
  },
  {
   "cell_type": "code",
   "execution_count": 58,
   "id": "a53dbec3-1433-42d6-835f-8228610cb340",
   "metadata": {},
   "outputs": [],
   "source": [
    "a = \"fine\""
   ]
  },
  {
   "cell_type": "code",
   "execution_count": 59,
   "id": "7be5280a-39a0-403b-97d4-4e4e79a4cee0",
   "metadata": {},
   "outputs": [
    {
     "ename": "TypeError",
     "evalue": "'str' object does not support item assignment",
     "output_type": "error",
     "traceback": [
      "\u001b[1;31m---------------------------------------------------------------------------\u001b[0m",
      "\u001b[1;31mTypeError\u001b[0m                                 Traceback (most recent call last)",
      "Cell \u001b[1;32mIn[59], line 1\u001b[0m\n\u001b[1;32m----> 1\u001b[0m a[\u001b[38;5;241m0\u001b[39m] \u001b[38;5;241m=\u001b[39m \u001b[38;5;124m\"\u001b[39m\u001b[38;5;124md\u001b[39m\u001b[38;5;124m\"\u001b[39m\n",
      "\u001b[1;31mTypeError\u001b[0m: 'str' object does not support item assignment"
     ]
    }
   ],
   "source": [
    "a[0] = \"d\" # if we want to change fine into dine and try this way the it show a error."
   ]
  },
  {
   "cell_type": "code",
   "execution_count": 60,
   "id": "b2e4daf7-1f2d-4927-ae3c-e60c0b40b7f5",
   "metadata": {},
   "outputs": [],
   "source": [
    "# logic for changing fine into dine."
   ]
  },
  {
   "cell_type": "code",
   "execution_count": 61,
   "id": "12346b13-48be-42dc-b75a-e4360d859f0d",
   "metadata": {},
   "outputs": [
    {
     "data": {
      "text/plain": [
       "'ine'"
      ]
     },
     "execution_count": 61,
     "metadata": {},
     "output_type": "execute_result"
    }
   ],
   "source": [
    "a[1:]"
   ]
  },
  {
   "cell_type": "code",
   "execution_count": 62,
   "id": "b29fc606-17c5-4333-a0ee-394eba7da153",
   "metadata": {},
   "outputs": [
    {
     "data": {
      "text/plain": [
       "'dine'"
      ]
     },
     "execution_count": 62,
     "metadata": {},
     "output_type": "execute_result"
    }
   ],
   "source": [
    "\"d\" + a[1:]"
   ]
  },
  {
   "cell_type": "code",
   "execution_count": 63,
   "id": "7a8f827b-0bce-432a-bee5-00cc7c0fec7c",
   "metadata": {},
   "outputs": [],
   "source": [
    "# in or not in."
   ]
  },
  {
   "cell_type": "code",
   "execution_count": 64,
   "id": "e0274419-e4f0-48aa-8589-1e7afad5353c",
   "metadata": {},
   "outputs": [
    {
     "data": {
      "text/plain": [
       "True"
      ]
     },
     "execution_count": 64,
     "metadata": {},
     "output_type": "execute_result"
    }
   ],
   "source": [
    "\"hello\" in \"hello world\""
   ]
  },
  {
   "cell_type": "code",
   "execution_count": 65,
   "id": "f97915c5-2009-4a1c-b8cd-0104b167b936",
   "metadata": {},
   "outputs": [
    {
     "data": {
      "text/plain": [
       "False"
      ]
     },
     "execution_count": 65,
     "metadata": {},
     "output_type": "execute_result"
    }
   ],
   "source": [
    "\"hello\" in \" hii world\""
   ]
  },
  {
   "cell_type": "code",
   "execution_count": 66,
   "id": "0b23dadd-8638-454f-9968-5e14ba9fcd53",
   "metadata": {},
   "outputs": [
    {
     "data": {
      "text/plain": [
       "True"
      ]
     },
     "execution_count": 66,
     "metadata": {},
     "output_type": "execute_result"
    }
   ],
   "source": [
    "\"hello\" not in \"hii world\""
   ]
  },
  {
   "cell_type": "code",
   "execution_count": 67,
   "id": "50142d1b-0abb-4a6d-953d-4c03f343af68",
   "metadata": {},
   "outputs": [
    {
     "data": {
      "text/plain": [
       "'rehan'"
      ]
     },
     "execution_count": 67,
     "metadata": {},
     "output_type": "execute_result"
    }
   ],
   "source": [
    "name"
   ]
  },
  {
   "cell_type": "code",
   "execution_count": 68,
   "id": "71ce9dd1-0aa1-40c7-a901-53a852cdfe11",
   "metadata": {},
   "outputs": [
    {
     "data": {
      "text/plain": [
       "'REHAN'"
      ]
     },
     "execution_count": 68,
     "metadata": {},
     "output_type": "execute_result"
    }
   ],
   "source": [
    "name.upper()"
   ]
  },
  {
   "cell_type": "code",
   "execution_count": 69,
   "id": "5eab194c-daf8-435b-8495-6f1cf69d1bdb",
   "metadata": {},
   "outputs": [
    {
     "data": {
      "text/plain": [
       "'rehan'"
      ]
     },
     "execution_count": 69,
     "metadata": {},
     "output_type": "execute_result"
    }
   ],
   "source": [
    "name.lower()"
   ]
  },
  {
   "cell_type": "code",
   "execution_count": 70,
   "id": "1d0da8d0-7bff-4f37-ad52-40233249daf5",
   "metadata": {},
   "outputs": [
    {
     "data": {
      "text/plain": [
       "'Rehan'"
      ]
     },
     "execution_count": 70,
     "metadata": {},
     "output_type": "execute_result"
    }
   ],
   "source": [
    "name.title()"
   ]
  },
  {
   "cell_type": "code",
   "execution_count": 71,
   "id": "b00bdfcc-dc1d-4616-9b45-1bbf323340d3",
   "metadata": {},
   "outputs": [
    {
     "data": {
      "text/plain": [
       "'rehan'"
      ]
     },
     "execution_count": 71,
     "metadata": {},
     "output_type": "execute_result"
    }
   ],
   "source": [
    "name"
   ]
  },
  {
   "cell_type": "code",
   "execution_count": 72,
   "id": "fdddd274-b46e-4edd-9ab3-0399ee3e02a1",
   "metadata": {},
   "outputs": [
    {
     "data": {
      "text/plain": [
       "False"
      ]
     },
     "execution_count": 72,
     "metadata": {},
     "output_type": "execute_result"
    }
   ],
   "source": [
    "name.isupper()"
   ]
  },
  {
   "cell_type": "code",
   "execution_count": 73,
   "id": "94c8d201-2555-4806-8b70-fdaf80a58845",
   "metadata": {},
   "outputs": [
    {
     "data": {
      "text/plain": [
       "True"
      ]
     },
     "execution_count": 73,
     "metadata": {},
     "output_type": "execute_result"
    }
   ],
   "source": [
    "name.islower()"
   ]
  },
  {
   "cell_type": "code",
   "execution_count": 74,
   "id": "90f00a81-774a-4e72-9a74-2ed41e93f187",
   "metadata": {},
   "outputs": [
    {
     "data": {
      "text/plain": [
       "'rehan'"
      ]
     },
     "execution_count": 74,
     "metadata": {},
     "output_type": "execute_result"
    }
   ],
   "source": [
    "name"
   ]
  },
  {
   "cell_type": "code",
   "execution_count": 75,
   "id": "26697d1a-eda0-47d7-bbc8-27cf3889a758",
   "metadata": {},
   "outputs": [
    {
     "data": {
      "text/plain": [
       "True"
      ]
     },
     "execution_count": 75,
     "metadata": {},
     "output_type": "execute_result"
    }
   ],
   "source": [
    "name.isalpha()"
   ]
  },
  {
   "cell_type": "code",
   "execution_count": 76,
   "id": "1e852dd8-a976-4580-853d-d187e0dfdf21",
   "metadata": {},
   "outputs": [
    {
     "data": {
      "text/plain": [
       "'abc12'"
      ]
     },
     "execution_count": 76,
     "metadata": {},
     "output_type": "execute_result"
    }
   ],
   "source": [
    "b = \"abc12\"\n",
    "b"
   ]
  },
  {
   "cell_type": "code",
   "execution_count": 77,
   "id": "a14097b0-9ce4-41e5-9281-67e3e08cd112",
   "metadata": {},
   "outputs": [
    {
     "data": {
      "text/plain": [
       "False"
      ]
     },
     "execution_count": 77,
     "metadata": {},
     "output_type": "execute_result"
    }
   ],
   "source": [
    "b.isalpha() #isalpha()\treturns `True` if the string consists only of letters."
   ]
  },
  {
   "cell_type": "code",
   "execution_count": 78,
   "id": "ff289926-1cb5-44ea-b849-a2ed03506334",
   "metadata": {},
   "outputs": [
    {
     "data": {
      "text/plain": [
       "False"
      ]
     },
     "execution_count": 78,
     "metadata": {},
     "output_type": "execute_result"
    }
   ],
   "source": [
    "b.isnumeric()"
   ]
  },
  {
   "cell_type": "code",
   "execution_count": 79,
   "id": "b93f9735-d88e-4c84-99bc-d5657a2e08a9",
   "metadata": {},
   "outputs": [],
   "source": [
    "b = \"123\""
   ]
  },
  {
   "cell_type": "code",
   "execution_count": 80,
   "id": "fc8c709e-073f-45a8-9024-ac126634f37c",
   "metadata": {},
   "outputs": [
    {
     "data": {
      "text/plain": [
       "'123'"
      ]
     },
     "execution_count": 80,
     "metadata": {},
     "output_type": "execute_result"
    }
   ],
   "source": [
    "b"
   ]
  },
  {
   "cell_type": "code",
   "execution_count": 81,
   "id": "e30e0fd0-ad75-42dd-9402-f6a01dafe386",
   "metadata": {},
   "outputs": [
    {
     "data": {
      "text/plain": [
       "True"
      ]
     },
     "execution_count": 81,
     "metadata": {},
     "output_type": "execute_result"
    }
   ],
   "source": [
    "b.isnumeric() # isalnum()\treturns `True` if the string consists only of letters and numbers."
   ]
  },
  {
   "cell_type": "code",
   "execution_count": 82,
   "id": "a5f09b31-bb1f-44a6-88b7-84d4f0cfa745",
   "metadata": {},
   "outputs": [
    {
     "data": {
      "text/plain": [
       "'rehan'"
      ]
     },
     "execution_count": 82,
     "metadata": {},
     "output_type": "execute_result"
    }
   ],
   "source": [
    "name"
   ]
  },
  {
   "cell_type": "code",
   "execution_count": 83,
   "id": "0f9d3b5f-73fe-4e7c-ad96-ae27d771bd15",
   "metadata": {},
   "outputs": [
    {
     "data": {
      "text/plain": [
       "True"
      ]
     },
     "execution_count": 83,
     "metadata": {},
     "output_type": "execute_result"
    }
   ],
   "source": [
    "name.startswith('r')"
   ]
  },
  {
   "cell_type": "code",
   "execution_count": 84,
   "id": "f4a2bdb6-601d-41d7-9a9b-ffc01c0eec9c",
   "metadata": {},
   "outputs": [
    {
     "data": {
      "text/plain": [
       "True"
      ]
     },
     "execution_count": 84,
     "metadata": {},
     "output_type": "execute_result"
    }
   ],
   "source": [
    "name.endswith('n')"
   ]
  },
  {
   "cell_type": "code",
   "execution_count": 85,
   "id": "7b383586-3890-4ae3-a138-28b73f9f7668",
   "metadata": {},
   "outputs": [
    {
     "data": {
      "text/plain": [
       "['my', ' name', ' is', ' rehan']"
      ]
     },
     "execution_count": 85,
     "metadata": {},
     "output_type": "execute_result"
    }
   ],
   "source": [
    "list1 = ['my',' name',' is',' rehan']\n",
    "list1"
   ]
  },
  {
   "cell_type": "code",
   "execution_count": 86,
   "id": "becffbc7-c58b-4306-85d1-db4f3b4b8a81",
   "metadata": {},
   "outputs": [
    {
     "data": {
      "text/plain": [
       "'my name is rehan'"
      ]
     },
     "execution_count": 86,
     "metadata": {},
     "output_type": "execute_result"
    }
   ],
   "source": [
    "''.join(list1) "
   ]
  },
  {
   "cell_type": "raw",
   "id": "b167082c-e789-4434-b138-e14e2eae4fad",
   "metadata": {},
   "source": [
    "The `join()` method takes all the items in an iterable, like a list, dictionary, tuple or set, and joins them into a string."
   ]
  },
  {
   "cell_type": "code",
   "execution_count": 87,
   "id": "fcb093b8-f1ce-44f6-b876-5c264f566f73",
   "metadata": {},
   "outputs": [
    {
     "data": {
      "text/plain": [
       "'rehan'"
      ]
     },
     "execution_count": 87,
     "metadata": {},
     "output_type": "execute_result"
    }
   ],
   "source": [
    "name"
   ]
  },
  {
   "cell_type": "code",
   "execution_count": 88,
   "id": "202e3a1a-6bc8-4820-9831-f8dbdeb5de86",
   "metadata": {},
   "outputs": [
    {
     "data": {
      "text/plain": [
       "['rehan']"
      ]
     },
     "execution_count": 88,
     "metadata": {},
     "output_type": "execute_result"
    }
   ],
   "source": [
    "name.split()"
   ]
  },
  {
   "cell_type": "raw",
   "id": "e4289d38-b21d-4531-9e3a-cc15f628466d",
   "metadata": {},
   "source": [
    "The `join()` method takes all the items in an iterable, like a list, dictionary, tuple or set, and joins them into a string. You can also specify a separator."
   ]
  },
  {
   "cell_type": "code",
   "execution_count": 89,
   "id": "efd6a6c7-2b4e-4d08-a416-9cf1b9610b46",
   "metadata": {},
   "outputs": [],
   "source": [
    "# justifying "
   ]
  },
  {
   "cell_type": "code",
   "execution_count": 90,
   "id": "48b2a49b-1532-41c1-a8fe-35a67197d80b",
   "metadata": {},
   "outputs": [
    {
     "data": {
      "text/plain": [
       "'rehan'"
      ]
     },
     "execution_count": 90,
     "metadata": {},
     "output_type": "execute_result"
    }
   ],
   "source": [
    "name"
   ]
  },
  {
   "cell_type": "code",
   "execution_count": 91,
   "id": "5352eb55-4844-4072-be07-413bb96147cd",
   "metadata": {},
   "outputs": [
    {
     "data": {
      "text/plain": [
       "'     rehan'"
      ]
     },
     "execution_count": 91,
     "metadata": {},
     "output_type": "execute_result"
    }
   ],
   "source": [
    "name.rjust(10)"
   ]
  },
  {
   "cell_type": "code",
   "execution_count": 92,
   "id": "74d62d41-f7fb-410d-bedc-4dbc0cc67fcb",
   "metadata": {},
   "outputs": [
    {
     "data": {
      "text/plain": [
       "'***************rehan'"
      ]
     },
     "execution_count": 92,
     "metadata": {},
     "output_type": "execute_result"
    }
   ],
   "source": [
    "name.rjust(20,'*')"
   ]
  },
  {
   "cell_type": "code",
   "execution_count": 93,
   "id": "62a07707-a8fa-4c85-9baf-608577289c95",
   "metadata": {},
   "outputs": [
    {
     "data": {
      "text/plain": [
       "'rehan     '"
      ]
     },
     "execution_count": 93,
     "metadata": {},
     "output_type": "execute_result"
    }
   ],
   "source": [
    "name.ljust(10)"
   ]
  },
  {
   "cell_type": "code",
   "execution_count": 94,
   "id": "a7bd8188-ad21-415e-9c0c-25eed09fd2b4",
   "metadata": {},
   "outputs": [
    {
     "data": {
      "text/plain": [
       "'       rehan        '"
      ]
     },
     "execution_count": 94,
     "metadata": {},
     "output_type": "execute_result"
    }
   ],
   "source": [
    "name.center(20)"
   ]
  },
  {
   "cell_type": "code",
   "execution_count": 95,
   "id": "d44287f2-d94e-44f7-b47c-500553adfefb",
   "metadata": {},
   "outputs": [
    {
     "data": {
      "text/plain": [
       "'=======rehan========'"
      ]
     },
     "execution_count": 95,
     "metadata": {},
     "output_type": "execute_result"
    }
   ],
   "source": [
    "name.center(20,'=')"
   ]
  },
  {
   "cell_type": "code",
   "execution_count": 96,
   "id": "419b6900-7119-409e-adde-bd3d60d3bfb1",
   "metadata": {},
   "outputs": [],
   "source": [
    "name = '    rehan   '"
   ]
  },
  {
   "cell_type": "code",
   "execution_count": 97,
   "id": "7562de1e-f075-469e-8d2b-6c931eec8c3c",
   "metadata": {},
   "outputs": [
    {
     "data": {
      "text/plain": [
       "'    rehan   '"
      ]
     },
     "execution_count": 97,
     "metadata": {},
     "output_type": "execute_result"
    }
   ],
   "source": [
    "name"
   ]
  },
  {
   "cell_type": "code",
   "execution_count": 98,
   "id": "4d6930c9-2236-44e2-80b2-163d669744f0",
   "metadata": {},
   "outputs": [
    {
     "data": {
      "text/plain": [
       "'    rehan'"
      ]
     },
     "execution_count": 98,
     "metadata": {},
     "output_type": "execute_result"
    }
   ],
   "source": [
    "name.rstrip()"
   ]
  },
  {
   "cell_type": "code",
   "execution_count": 99,
   "id": "237abd5e-40b0-4222-848e-557be1ccd967",
   "metadata": {},
   "outputs": [
    {
     "data": {
      "text/plain": [
       "'rehan   '"
      ]
     },
     "execution_count": 99,
     "metadata": {},
     "output_type": "execute_result"
    }
   ],
   "source": [
    "name.lstrip()"
   ]
  },
  {
   "cell_type": "code",
   "execution_count": 100,
   "id": "21575db0-daa7-4eac-9c4e-d7b54502601a",
   "metadata": {},
   "outputs": [
    {
     "data": {
      "text/plain": [
       "'rehan'"
      ]
     },
     "execution_count": 100,
     "metadata": {},
     "output_type": "execute_result"
    }
   ],
   "source": [
    "name.strip()"
   ]
  },
  {
   "cell_type": "code",
   "execution_count": 101,
   "id": "212e32a8-be32-41ec-b776-f290b00c3e3f",
   "metadata": {},
   "outputs": [
    {
     "data": {
      "text/plain": [
       "' hello guys my name is rehan '"
      ]
     },
     "execution_count": 101,
     "metadata": {},
     "output_type": "execute_result"
    }
   ],
   "source": [
    "str = \" hello guys my name is rehan \"\n",
    "str"
   ]
  },
  {
   "cell_type": "code",
   "execution_count": 102,
   "id": "7fd5b020-b1d5-4767-bbc1-a8848e400e91",
   "metadata": {},
   "outputs": [
    {
     "data": {
      "text/plain": [
       "3"
      ]
     },
     "execution_count": 102,
     "metadata": {},
     "output_type": "execute_result"
    }
   ],
   "source": [
    "str.count('e')"
   ]
  },
  {
   "cell_type": "code",
   "execution_count": 103,
   "id": "0400ecb2-96b8-4b3e-8d37-28942fe5945a",
   "metadata": {},
   "outputs": [
    {
     "data": {
      "text/plain": [
       "29"
      ]
     },
     "execution_count": 103,
     "metadata": {},
     "output_type": "execute_result"
    }
   ],
   "source": [
    "len(str)"
   ]
  },
  {
   "cell_type": "code",
   "execution_count": 104,
   "id": "9bb16f57-904d-4028-b589-6ee1b12f8749",
   "metadata": {},
   "outputs": [
    {
     "data": {
      "text/plain": [
       "' hello guys my name is rehan '"
      ]
     },
     "execution_count": 104,
     "metadata": {},
     "output_type": "execute_result"
    }
   ],
   "source": [
    "str"
   ]
  },
  {
   "cell_type": "code",
   "execution_count": 105,
   "id": "c6798ce0-f921-4940-a116-68acc60cdd56",
   "metadata": {},
   "outputs": [
    {
     "data": {
      "text/plain": [
       "' hello bro my name is rehan '"
      ]
     },
     "execution_count": 105,
     "metadata": {},
     "output_type": "execute_result"
    }
   ],
   "source": [
    "str.replace(\"guys\",\"bro\")"
   ]
  },
  {
   "cell_type": "code",
   "execution_count": 106,
   "id": "6618116e-f6d3-4606-bfa2-8918cb23aec0",
   "metadata": {},
   "outputs": [
    {
     "data": {
      "text/plain": [
       "'    rehan   '"
      ]
     },
     "execution_count": 106,
     "metadata": {},
     "output_type": "execute_result"
    }
   ],
   "source": [
    "name"
   ]
  },
  {
   "cell_type": "code",
   "execution_count": 107,
   "id": "b0b28023-96f0-402f-884b-4867f4c830f4",
   "metadata": {},
   "outputs": [
    {
     "data": {
      "text/plain": [
       "'    rehan   '"
      ]
     },
     "execution_count": 107,
     "metadata": {},
     "output_type": "execute_result"
    }
   ],
   "source": [
    "name.capitalize()"
   ]
  },
  {
   "cell_type": "code",
   "execution_count": 108,
   "id": "22cceee8-72cf-45c9-b641-499238c61f3b",
   "metadata": {},
   "outputs": [],
   "source": [
    "x = ' HELLO '"
   ]
  },
  {
   "cell_type": "code",
   "execution_count": 109,
   "id": "13a26df8-a405-4715-b85e-8aaf187a5fb1",
   "metadata": {},
   "outputs": [
    {
     "data": {
      "text/plain": [
       "' HELLO '"
      ]
     },
     "execution_count": 109,
     "metadata": {},
     "output_type": "execute_result"
    }
   ],
   "source": [
    "x"
   ]
  },
  {
   "cell_type": "code",
   "execution_count": 110,
   "id": "9515db57-2802-4470-8bf1-ecc539ef5959",
   "metadata": {},
   "outputs": [
    {
     "data": {
      "text/plain": [
       "' hello '"
      ]
     },
     "execution_count": 110,
     "metadata": {},
     "output_type": "execute_result"
    }
   ],
   "source": [
    "x.lower()"
   ]
  },
  {
   "cell_type": "code",
   "execution_count": 111,
   "id": "94e13d23-6d42-4cca-b793-958665290f58",
   "metadata": {},
   "outputs": [
    {
     "data": {
      "text/plain": [
       "' HELLO '"
      ]
     },
     "execution_count": 111,
     "metadata": {},
     "output_type": "execute_result"
    }
   ],
   "source": [
    "x"
   ]
  },
  {
   "cell_type": "code",
   "execution_count": 112,
   "id": "c7ca43ba-1bb1-4dae-8c09-c0baa9f82271",
   "metadata": {},
   "outputs": [
    {
     "data": {
      "text/plain": [
       "' hello '"
      ]
     },
     "execution_count": 112,
     "metadata": {},
     "output_type": "execute_result"
    }
   ],
   "source": [
    "x.swapcase()"
   ]
  },
  {
   "cell_type": "code",
   "execution_count": 113,
   "id": "da88909b-aa74-43fb-9101-acb2d98840a4",
   "metadata": {},
   "outputs": [],
   "source": [
    "#concat"
   ]
  },
  {
   "cell_type": "code",
   "execution_count": 114,
   "id": "dec5021b-b184-4660-8694-f961c4fb8f01",
   "metadata": {},
   "outputs": [
    {
     "data": {
      "text/plain": [
       "'hellorehan'"
      ]
     },
     "execution_count": 114,
     "metadata": {},
     "output_type": "execute_result"
    }
   ],
   "source": [
    "'hello' + 'rehan'"
   ]
  },
  {
   "cell_type": "code",
   "execution_count": 115,
   "id": "b5b25d8d-25ec-4f3c-9a63-0993609fc2c5",
   "metadata": {},
   "outputs": [
    {
     "data": {
      "text/plain": [
       "' HELLO '"
      ]
     },
     "execution_count": 115,
     "metadata": {},
     "output_type": "execute_result"
    }
   ],
   "source": [
    "x"
   ]
  },
  {
   "cell_type": "code",
   "execution_count": 116,
   "id": "768bf094-f6c5-4e6a-b589-197ac11c051c",
   "metadata": {},
   "outputs": [
    {
     "data": {
      "text/plain": [
       "'rehan rehan rehan rehan rehan '"
      ]
     },
     "execution_count": 116,
     "metadata": {},
     "output_type": "execute_result"
    }
   ],
   "source": [
    "'rehan '*5"
   ]
  },
  {
   "cell_type": "code",
   "execution_count": 117,
   "id": "203f2fa4-ff77-4c51-ae9d-4448fd47301b",
   "metadata": {},
   "outputs": [
    {
     "data": {
      "text/plain": [
       "' HELLO '"
      ]
     },
     "execution_count": 117,
     "metadata": {},
     "output_type": "execute_result"
    }
   ],
   "source": [
    "x"
   ]
  },
  {
   "cell_type": "code",
   "execution_count": 118,
   "id": "32993ed0-b283-440f-8926-c820be954695",
   "metadata": {},
   "outputs": [
    {
     "data": {
      "text/plain": [
       "'1 HELLO 2 HELLO 3 HELLO 4'"
      ]
     },
     "execution_count": 118,
     "metadata": {},
     "output_type": "execute_result"
    }
   ],
   "source": [
    "x.join('1234')"
   ]
  },
  {
   "cell_type": "code",
   "execution_count": 119,
   "id": "50a50da0-fb25-4a7f-b5b3-7ae57c8e6161",
   "metadata": {},
   "outputs": [
    {
     "data": {
      "text/plain": [
       "' HELLO '"
      ]
     },
     "execution_count": 119,
     "metadata": {},
     "output_type": "execute_result"
    }
   ],
   "source": [
    "x"
   ]
  },
  {
   "cell_type": "code",
   "execution_count": 120,
   "id": "b0f82b3b-b93a-4aa0-96b2-26f6d82c2f64",
   "metadata": {},
   "outputs": [],
   "source": [
    "str = \"hello guys how are you \""
   ]
  },
  {
   "cell_type": "code",
   "execution_count": 121,
   "id": "e0485574-d643-4074-9e89-c99823b6d6ef",
   "metadata": {},
   "outputs": [
    {
     "data": {
      "text/plain": [
       "'hello guys how are you '"
      ]
     },
     "execution_count": 121,
     "metadata": {},
     "output_type": "execute_result"
    }
   ],
   "source": [
    "str"
   ]
  },
  {
   "cell_type": "code",
   "execution_count": 122,
   "id": "b9b0b2c6-cbc4-4d33-b231-2fac92789594",
   "metadata": {},
   "outputs": [
    {
     "data": {
      "text/plain": [
       "('hello guys ', 'how', ' are you ')"
      ]
     },
     "execution_count": 122,
     "metadata": {},
     "output_type": "execute_result"
    }
   ],
   "source": [
    "str.partition(\"how\")"
   ]
  },
  {
   "cell_type": "code",
   "execution_count": null,
   "id": "d47d7e54-a7bd-4a22-989d-44d58cd66eeb",
   "metadata": {},
   "outputs": [],
   "source": []
  },
  {
   "cell_type": "code",
   "execution_count": null,
   "id": "08424f88-e6d2-446b-8ff6-0b0919619ff2",
   "metadata": {},
   "outputs": [],
   "source": []
  },
  {
   "cell_type": "code",
   "execution_count": null,
   "id": "1abcad82-1051-4995-8b6e-ca677f28a75a",
   "metadata": {},
   "outputs": [],
   "source": []
  },
  {
   "cell_type": "code",
   "execution_count": null,
   "id": "b6faa3fb-d7b7-4a30-8359-0e574ce97ee4",
   "metadata": {},
   "outputs": [],
   "source": []
  },
  {
   "cell_type": "code",
   "execution_count": null,
   "id": "8f920511-a59a-4bb1-8162-625b26b2c859",
   "metadata": {},
   "outputs": [],
   "source": []
  }
 ],
 "metadata": {
  "kernelspec": {
   "display_name": "Python 3 (ipykernel)",
   "language": "python",
   "name": "python3"
  },
  "language_info": {
   "codemirror_mode": {
    "name": "ipython",
    "version": 3
   },
   "file_extension": ".py",
   "mimetype": "text/x-python",
   "name": "python",
   "nbconvert_exporter": "python",
   "pygments_lexer": "ipython3",
   "version": "3.12.7"
  }
 },
 "nbformat": 4,
 "nbformat_minor": 5
}
