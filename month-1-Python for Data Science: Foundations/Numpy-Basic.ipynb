{
 "cells": [
  {
   "cell_type": "markdown",
   "id": "67c7649c-ef31-4653-b26c-7ae8cdca26a9",
   "metadata": {},
   "source": [
    "Numpy"
   ]
  },
  {
   "cell_type": "code",
   "execution_count": 1,
   "id": "a027e065-9d89-44fc-9ef6-a4346e33404d",
   "metadata": {},
   "outputs": [],
   "source": [
    "# first of all we need to import numpy."
   ]
  },
  {
   "cell_type": "code",
   "execution_count": 5,
   "id": "008a7283-aedf-4c71-b6b9-00716abeec56",
   "metadata": {},
   "outputs": [],
   "source": [
    "import numpy as np"
   ]
  },
  {
   "cell_type": "code",
   "execution_count": 6,
   "id": "5add5ef4-9feb-4355-ac19-235fa201ea05",
   "metadata": {},
   "outputs": [],
   "source": [
    "# creating np array."
   ]
  },
  {
   "cell_type": "code",
   "execution_count": 7,
   "id": "2c5f8bee-0d09-4e86-865a-3070fbaa1af9",
   "metadata": {},
   "outputs": [],
   "source": [
    "arr = np.array([1,2,3,4,5]) # 1D array"
   ]
  },
  {
   "cell_type": "code",
   "execution_count": 8,
   "id": "8a8d770e-3761-4ca7-9a6d-4fd7bc045669",
   "metadata": {},
   "outputs": [
    {
     "data": {
      "text/plain": [
       "array([1, 2, 3, 4, 5])"
      ]
     },
     "execution_count": 8,
     "metadata": {},
     "output_type": "execute_result"
    }
   ],
   "source": [
    "arr"
   ]
  },
  {
   "cell_type": "code",
   "execution_count": 9,
   "id": "41ab168c-6835-4a4e-b6a1-78e8c7e89f76",
   "metadata": {},
   "outputs": [],
   "source": [
    "arr = np.array([[1,2,3,4] ,[5,6,7,8]]) # 2D array"
   ]
  },
  {
   "cell_type": "code",
   "execution_count": 10,
   "id": "41461c05-2484-4a1a-9152-c10f72830e10",
   "metadata": {},
   "outputs": [
    {
     "data": {
      "text/plain": [
       "array([[1, 2, 3, 4],\n",
       "       [5, 6, 7, 8]])"
      ]
     },
     "execution_count": 10,
     "metadata": {},
     "output_type": "execute_result"
    }
   ],
   "source": [
    "arr"
   ]
  },
  {
   "cell_type": "code",
   "execution_count": 11,
   "id": "171c4f26-acee-4fd1-af14-4f61527d440f",
   "metadata": {},
   "outputs": [],
   "source": [
    "# converting list into array"
   ]
  },
  {
   "cell_type": "code",
   "execution_count": 12,
   "id": "367b0811-54d3-4265-afc5-d69595aec268",
   "metadata": {},
   "outputs": [],
   "source": [
    "list1 = [1,2,3,4,5,6,7,8,9]"
   ]
  },
  {
   "cell_type": "code",
   "execution_count": 13,
   "id": "25723b28-5971-4e07-9df1-f27300069481",
   "metadata": {},
   "outputs": [
    {
     "data": {
      "text/plain": [
       "list"
      ]
     },
     "execution_count": 13,
     "metadata": {},
     "output_type": "execute_result"
    }
   ],
   "source": [
    "type(list1)"
   ]
  },
  {
   "cell_type": "code",
   "execution_count": 14,
   "id": "fb21f971-7526-4768-bcd3-406648d0e0cb",
   "metadata": {},
   "outputs": [],
   "source": [
    "arr1 = np.array(list1)"
   ]
  },
  {
   "cell_type": "code",
   "execution_count": 15,
   "id": "2deca9bb-69d6-4ff3-876a-39ffcbc84067",
   "metadata": {},
   "outputs": [
    {
     "data": {
      "text/plain": [
       "array([1, 2, 3, 4, 5, 6, 7, 8, 9])"
      ]
     },
     "execution_count": 15,
     "metadata": {},
     "output_type": "execute_result"
    }
   ],
   "source": [
    "arr1"
   ]
  },
  {
   "cell_type": "code",
   "execution_count": 16,
   "id": "ae5abfdf-35a4-4b44-87ba-49219e6d5b36",
   "metadata": {},
   "outputs": [
    {
     "data": {
      "text/plain": [
       "numpy.ndarray"
      ]
     },
     "execution_count": 16,
     "metadata": {},
     "output_type": "execute_result"
    }
   ],
   "source": [
    "type(arr1)"
   ]
  },
  {
   "cell_type": "code",
   "execution_count": 17,
   "id": "4bb59ced-ad91-44ec-9cc3-cd14601cb66c",
   "metadata": {},
   "outputs": [],
   "source": [
    "# arange()"
   ]
  },
  {
   "cell_type": "code",
   "execution_count": 33,
   "id": "e37d28ba-f62b-4710-b8e6-20c61f8ed570",
   "metadata": {},
   "outputs": [],
   "source": [
    "a = np.arange(5)"
   ]
  },
  {
   "cell_type": "code",
   "execution_count": 34,
   "id": "8d8b8455-6de0-44fe-984b-cd369ba90975",
   "metadata": {},
   "outputs": [
    {
     "data": {
      "text/plain": [
       "array([0, 1, 2, 3, 4])"
      ]
     },
     "execution_count": 34,
     "metadata": {},
     "output_type": "execute_result"
    }
   ],
   "source": [
    "a"
   ]
  },
  {
   "cell_type": "code",
   "execution_count": 35,
   "id": "c7b6146b-07b8-4be6-98e4-1bb7250a590c",
   "metadata": {},
   "outputs": [],
   "source": [
    "a1 = np.arange(0,10) "
   ]
  },
  {
   "cell_type": "code",
   "execution_count": 36,
   "id": "37a86c1e-6475-43fc-b3e1-479aeae990b1",
   "metadata": {},
   "outputs": [
    {
     "data": {
      "text/plain": [
       "array([0, 1, 2, 3, 4, 5, 6, 7, 8, 9])"
      ]
     },
     "execution_count": 36,
     "metadata": {},
     "output_type": "execute_result"
    }
   ],
   "source": [
    "a1"
   ]
  },
  {
   "cell_type": "code",
   "execution_count": 37,
   "id": "a2961cfb-f5d6-4a23-af95-38659a5c0dcf",
   "metadata": {},
   "outputs": [],
   "source": [
    "a2 = np.arange(0,10,2) # start-end-step"
   ]
  },
  {
   "cell_type": "code",
   "execution_count": 38,
   "id": "f50b91d8-8c15-4a93-a25c-941a3dda3a22",
   "metadata": {},
   "outputs": [
    {
     "data": {
      "text/plain": [
       "array([0, 2, 4, 6, 8])"
      ]
     },
     "execution_count": 38,
     "metadata": {},
     "output_type": "execute_result"
    }
   ],
   "source": [
    "a2"
   ]
  },
  {
   "cell_type": "code",
   "execution_count": 39,
   "id": "bb4044fd-7e24-4a92-a8f4-5cf32a946910",
   "metadata": {},
   "outputs": [],
   "source": [
    "# zeros"
   ]
  },
  {
   "cell_type": "code",
   "execution_count": 40,
   "id": "fe6c7dc4-8c04-4b4f-94c6-2ff16215009d",
   "metadata": {},
   "outputs": [],
   "source": [
    "b = np.zeros(10) #create a array of value zeros.But it is by default float."
   ]
  },
  {
   "cell_type": "code",
   "execution_count": 41,
   "id": "376a4529-b69f-4361-9692-dcc5aa241334",
   "metadata": {},
   "outputs": [
    {
     "data": {
      "text/plain": [
       "array([0., 0., 0., 0., 0., 0., 0., 0., 0., 0.])"
      ]
     },
     "execution_count": 41,
     "metadata": {},
     "output_type": "execute_result"
    }
   ],
   "source": [
    "b"
   ]
  },
  {
   "cell_type": "code",
   "execution_count": 44,
   "id": "5858dcf5-0598-481f-94b5-7e61b7242508",
   "metadata": {},
   "outputs": [],
   "source": [
    "b = np.zeros((5,5))"
   ]
  },
  {
   "cell_type": "code",
   "execution_count": 45,
   "id": "ac1fe1ed-1b7c-45ce-93da-8e37698f32bf",
   "metadata": {},
   "outputs": [
    {
     "data": {
      "text/plain": [
       "array([[0., 0., 0., 0., 0.],\n",
       "       [0., 0., 0., 0., 0.],\n",
       "       [0., 0., 0., 0., 0.],\n",
       "       [0., 0., 0., 0., 0.],\n",
       "       [0., 0., 0., 0., 0.]])"
      ]
     },
     "execution_count": 45,
     "metadata": {},
     "output_type": "execute_result"
    }
   ],
   "source": [
    "b"
   ]
  },
  {
   "cell_type": "code",
   "execution_count": 46,
   "id": "8674cdb2-5c13-488d-9ff7-604c5d2ce4cb",
   "metadata": {},
   "outputs": [],
   "source": [
    "b1 = np.zeros(10, dtype=int) # for integer."
   ]
  },
  {
   "cell_type": "code",
   "execution_count": 47,
   "id": "5bbb325e-4204-4ad2-a39a-d29c399418e9",
   "metadata": {},
   "outputs": [
    {
     "data": {
      "text/plain": [
       "array([0, 0, 0, 0, 0, 0, 0, 0, 0, 0])"
      ]
     },
     "execution_count": 47,
     "metadata": {},
     "output_type": "execute_result"
    }
   ],
   "source": [
    "b1"
   ]
  },
  {
   "cell_type": "code",
   "execution_count": 48,
   "id": "9de7865e-4888-42f9-8e81-8b99c9f46d35",
   "metadata": {},
   "outputs": [],
   "source": [
    "b1 = np.zeros((10,10),dtype=int) # 10 x 10 matrix"
   ]
  },
  {
   "cell_type": "code",
   "execution_count": 49,
   "id": "1cff41e0-7e7f-41e2-8f4c-018e5fbf00d1",
   "metadata": {},
   "outputs": [
    {
     "data": {
      "text/plain": [
       "array([[0, 0, 0, 0, 0, 0, 0, 0, 0, 0],\n",
       "       [0, 0, 0, 0, 0, 0, 0, 0, 0, 0],\n",
       "       [0, 0, 0, 0, 0, 0, 0, 0, 0, 0],\n",
       "       [0, 0, 0, 0, 0, 0, 0, 0, 0, 0],\n",
       "       [0, 0, 0, 0, 0, 0, 0, 0, 0, 0],\n",
       "       [0, 0, 0, 0, 0, 0, 0, 0, 0, 0],\n",
       "       [0, 0, 0, 0, 0, 0, 0, 0, 0, 0],\n",
       "       [0, 0, 0, 0, 0, 0, 0, 0, 0, 0],\n",
       "       [0, 0, 0, 0, 0, 0, 0, 0, 0, 0],\n",
       "       [0, 0, 0, 0, 0, 0, 0, 0, 0, 0]])"
      ]
     },
     "execution_count": 49,
     "metadata": {},
     "output_type": "execute_result"
    }
   ],
   "source": [
    "b1"
   ]
  },
  {
   "cell_type": "code",
   "execution_count": 50,
   "id": "4366593b-6bce-4d50-b70b-ec4f22539c9c",
   "metadata": {},
   "outputs": [],
   "source": [
    "# ones"
   ]
  },
  {
   "cell_type": "code",
   "execution_count": 51,
   "id": "35fc5d77-431c-4b4c-8c32-c58f29ffdbe9",
   "metadata": {},
   "outputs": [],
   "source": [
    "c = np.ones(10) # now element value is 1"
   ]
  },
  {
   "cell_type": "code",
   "execution_count": 52,
   "id": "41b088a7-78be-45f2-a294-4c451f235cda",
   "metadata": {},
   "outputs": [
    {
     "data": {
      "text/plain": [
       "array([1., 1., 1., 1., 1., 1., 1., 1., 1., 1.])"
      ]
     },
     "execution_count": 52,
     "metadata": {},
     "output_type": "execute_result"
    }
   ],
   "source": [
    "c"
   ]
  },
  {
   "cell_type": "code",
   "execution_count": 53,
   "id": "e0693482-8421-4061-b2a5-8610d10facfb",
   "metadata": {},
   "outputs": [],
   "source": [
    "c = np.ones((5,5)) # 5x5 matrix dtype float."
   ]
  },
  {
   "cell_type": "code",
   "execution_count": 54,
   "id": "8149ab96-9801-4e6f-97f7-92c66aa9c61c",
   "metadata": {},
   "outputs": [
    {
     "data": {
      "text/plain": [
       "array([[1., 1., 1., 1., 1.],\n",
       "       [1., 1., 1., 1., 1.],\n",
       "       [1., 1., 1., 1., 1.],\n",
       "       [1., 1., 1., 1., 1.],\n",
       "       [1., 1., 1., 1., 1.]])"
      ]
     },
     "execution_count": 54,
     "metadata": {},
     "output_type": "execute_result"
    }
   ],
   "source": [
    "c"
   ]
  },
  {
   "cell_type": "code",
   "execution_count": 55,
   "id": "799fe4c4-052d-473c-9dc1-9937fb3f12d7",
   "metadata": {},
   "outputs": [],
   "source": [
    "c1 = np.ones(10,dtype=int) # change data type"
   ]
  },
  {
   "cell_type": "code",
   "execution_count": 56,
   "id": "6c433e8c-7bc3-47ea-931c-825e12686493",
   "metadata": {},
   "outputs": [
    {
     "data": {
      "text/plain": [
       "array([1, 1, 1, 1, 1, 1, 1, 1, 1, 1])"
      ]
     },
     "execution_count": 56,
     "metadata": {},
     "output_type": "execute_result"
    }
   ],
   "source": [
    "c1"
   ]
  },
  {
   "cell_type": "code",
   "execution_count": 57,
   "id": "661008f5-a9b6-438e-992a-6758c1554f88",
   "metadata": {},
   "outputs": [],
   "source": [
    "c1 = np.ones((10,10),dtype=int)"
   ]
  },
  {
   "cell_type": "code",
   "execution_count": 58,
   "id": "7c2c1672-7727-4acc-8740-1789f41224b7",
   "metadata": {},
   "outputs": [
    {
     "data": {
      "text/plain": [
       "array([[1, 1, 1, 1, 1, 1, 1, 1, 1, 1],\n",
       "       [1, 1, 1, 1, 1, 1, 1, 1, 1, 1],\n",
       "       [1, 1, 1, 1, 1, 1, 1, 1, 1, 1],\n",
       "       [1, 1, 1, 1, 1, 1, 1, 1, 1, 1],\n",
       "       [1, 1, 1, 1, 1, 1, 1, 1, 1, 1],\n",
       "       [1, 1, 1, 1, 1, 1, 1, 1, 1, 1],\n",
       "       [1, 1, 1, 1, 1, 1, 1, 1, 1, 1],\n",
       "       [1, 1, 1, 1, 1, 1, 1, 1, 1, 1],\n",
       "       [1, 1, 1, 1, 1, 1, 1, 1, 1, 1],\n",
       "       [1, 1, 1, 1, 1, 1, 1, 1, 1, 1]])"
      ]
     },
     "execution_count": 58,
     "metadata": {},
     "output_type": "execute_result"
    }
   ],
   "source": [
    "c1"
   ]
  },
  {
   "cell_type": "code",
   "execution_count": 59,
   "id": "cbc4332c-8efa-404d-9dda-10353b3874f2",
   "metadata": {},
   "outputs": [],
   "source": [
    "# random,rand,randint."
   ]
  },
  {
   "cell_type": "code",
   "execution_count": 60,
   "id": "d3afce07-282b-4df7-a6b5-45723b690fa8",
   "metadata": {},
   "outputs": [],
   "source": [
    "r = np.random.rand(5) # generating 5 diff random no. but in float"
   ]
  },
  {
   "cell_type": "code",
   "execution_count": 61,
   "id": "c190e9df-b177-4988-adf3-24f02a0ae9a4",
   "metadata": {},
   "outputs": [
    {
     "data": {
      "text/plain": [
       "array([0.7185825 , 0.92328269, 0.0124276 , 0.66921911, 0.96176153])"
      ]
     },
     "execution_count": 61,
     "metadata": {},
     "output_type": "execute_result"
    }
   ],
   "source": [
    "r"
   ]
  },
  {
   "cell_type": "code",
   "execution_count": 63,
   "id": "ef4b4ae9-0879-42f8-9ebd-179b0a85df07",
   "metadata": {},
   "outputs": [],
   "source": [
    "r = np.random.rand(5,6) # 5 x 6 matrix"
   ]
  },
  {
   "cell_type": "code",
   "execution_count": 64,
   "id": "47748de1-f88b-48ab-a95f-dc8f94b9bc35",
   "metadata": {},
   "outputs": [
    {
     "data": {
      "text/plain": [
       "array([[0.9179252 , 0.43717315, 0.41115114, 0.35872803, 0.5152995 ,\n",
       "        0.17351494],\n",
       "       [0.92730192, 0.11108429, 0.88451948, 0.98795354, 0.14926806,\n",
       "        0.4590612 ],\n",
       "       [0.45565922, 0.73455445, 0.69803034, 0.03431995, 0.87656505,\n",
       "        0.97989136],\n",
       "       [0.77823382, 0.87157767, 0.42784771, 0.59982108, 0.51173167,\n",
       "        0.30572614],\n",
       "       [0.02626809, 0.98320416, 0.3793626 , 0.20289052, 0.62991135,\n",
       "        0.28159964]])"
      ]
     },
     "execution_count": 64,
     "metadata": {},
     "output_type": "execute_result"
    }
   ],
   "source": [
    "r"
   ]
  },
  {
   "cell_type": "code",
   "execution_count": 65,
   "id": "b935cb32-a8a3-4b2e-9db4-32f54c19019b",
   "metadata": {},
   "outputs": [],
   "source": [
    "# for int no."
   ]
  },
  {
   "cell_type": "code",
   "execution_count": 69,
   "id": "86024681-123d-4f6c-ae72-7b328cd7f1ef",
   "metadata": {},
   "outputs": [],
   "source": [
    "rint = np.random.randint(5) # generating random no. but less than 5 ."
   ]
  },
  {
   "cell_type": "code",
   "execution_count": 70,
   "id": "c5664a60-7f6a-45c6-8a4f-d70a4155e91a",
   "metadata": {},
   "outputs": [
    {
     "data": {
      "text/plain": [
       "1"
      ]
     },
     "execution_count": 70,
     "metadata": {},
     "output_type": "execute_result"
    }
   ],
   "source": [
    "rint"
   ]
  },
  {
   "cell_type": "code",
   "execution_count": 73,
   "id": "fbd9f9c8-6597-4b93-8f9e-0605b9fe2965",
   "metadata": {},
   "outputs": [],
   "source": [
    "rint1 = np.random.randint(0,10) # range between 0-10 . 10 not come."
   ]
  },
  {
   "cell_type": "code",
   "execution_count": 74,
   "id": "7b619a5f-c114-4df7-a341-0039dc6eab8b",
   "metadata": {},
   "outputs": [
    {
     "data": {
      "text/plain": [
       "6"
      ]
     },
     "execution_count": 74,
     "metadata": {},
     "output_type": "execute_result"
    }
   ],
   "source": [
    "rint1"
   ]
  },
  {
   "cell_type": "code",
   "execution_count": 88,
   "id": "09d8446c-6ad1-4154-9a07-4813d483b26a",
   "metadata": {},
   "outputs": [],
   "source": [
    "rint2 = np.random.randint(0,10,5) # generating values between 0-10 and third argument for how many values."
   ]
  },
  {
   "cell_type": "code",
   "execution_count": 89,
   "id": "a2da3f37-6e8f-4348-9719-421a4598c82a",
   "metadata": {},
   "outputs": [
    {
     "data": {
      "text/plain": [
       "array([9, 7, 1, 6, 3])"
      ]
     },
     "execution_count": 89,
     "metadata": {},
     "output_type": "execute_result"
    }
   ],
   "source": [
    "rint2"
   ]
  },
  {
   "cell_type": "code",
   "execution_count": 91,
   "id": "4ade9542-efce-41e3-b8b8-3e4ab4fcba8b",
   "metadata": {},
   "outputs": [],
   "source": [
    "rintmatrix = np.random.randint(0,10,(5,2)) # 5 x 2 matrix --> 5-- rows , 2-- col."
   ]
  },
  {
   "cell_type": "code",
   "execution_count": 92,
   "id": "7e1fec4e-7c98-4d3f-a7e3-7dce9eacac1f",
   "metadata": {},
   "outputs": [
    {
     "data": {
      "text/plain": [
       "array([[3, 9],\n",
       "       [2, 0],\n",
       "       [3, 3],\n",
       "       [5, 6],\n",
       "       [1, 3]])"
      ]
     },
     "execution_count": 92,
     "metadata": {},
     "output_type": "execute_result"
    }
   ],
   "source": [
    "rintmatrix"
   ]
  },
  {
   "cell_type": "code",
   "execution_count": null,
   "id": "48d232be-57d1-4fd2-ae2c-ad20ccae0b2c",
   "metadata": {},
   "outputs": [],
   "source": []
  }
 ],
 "metadata": {
  "kernelspec": {
   "display_name": "Python 3 (ipykernel)",
   "language": "python",
   "name": "python3"
  },
  "language_info": {
   "codemirror_mode": {
    "name": "ipython",
    "version": 3
   },
   "file_extension": ".py",
   "mimetype": "text/x-python",
   "name": "python",
   "nbconvert_exporter": "python",
   "pygments_lexer": "ipython3",
   "version": "3.12.7"
  }
 },
 "nbformat": 4,
 "nbformat_minor": 5
}
