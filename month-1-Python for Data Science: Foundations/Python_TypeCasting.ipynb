{
 "cells": [
  {
   "cell_type": "code",
   "execution_count": 1,
   "id": "b3716f6e-cb48-4db5-b693-d8bd96c9b9be",
   "metadata": {},
   "outputs": [],
   "source": [
    "#Python type casting"
   ]
  },
  {
   "cell_type": "code",
   "execution_count": 2,
   "id": "ff80a278-af26-4b13-970b-3cd09cfb6cf6",
   "metadata": {},
   "outputs": [],
   "source": [
    "#In int"
   ]
  },
  {
   "cell_type": "code",
   "execution_count": 4,
   "id": "a468ca3a-cf16-4de3-8d36-cd1a455f672b",
   "metadata": {},
   "outputs": [
    {
     "data": {
      "text/plain": [
       "3"
      ]
     },
     "execution_count": 4,
     "metadata": {},
     "output_type": "execute_result"
    }
   ],
   "source": [
    "int(3.4) # floating value into integer are possible"
   ]
  },
  {
   "cell_type": "code",
   "execution_count": 5,
   "id": "0aa0b27a-f0ef-41c1-8dea-07c705bf0b3f",
   "metadata": {},
   "outputs": [
    {
     "ename": "TypeError",
     "evalue": "'float' object cannot be interpreted as an integer",
     "output_type": "error",
     "traceback": [
      "\u001b[1;31m---------------------------------------------------------------------------\u001b[0m",
      "\u001b[1;31mTypeError\u001b[0m                                 Traceback (most recent call last)",
      "Cell \u001b[1;32mIn[5], line 1\u001b[0m\n\u001b[1;32m----> 1\u001b[0m \u001b[38;5;28mint\u001b[39m(\u001b[38;5;241m3.4\u001b[39m,\u001b[38;5;241m3.1\u001b[39m)\n",
      "\u001b[1;31mTypeError\u001b[0m: 'float' object cannot be interpreted as an integer"
     ]
    }
   ],
   "source": [
    "int(3.4,3.1) # error cuz of two arguments"
   ]
  },
  {
   "cell_type": "code",
   "execution_count": 7,
   "id": "cb6acbe1-4dff-48a2-aeaf-2d7083641ea9",
   "metadata": {},
   "outputs": [
    {
     "data": {
      "text/plain": [
       "1"
      ]
     },
     "execution_count": 7,
     "metadata": {},
     "output_type": "execute_result"
    }
   ],
   "source": [
    "int(True) # boolean into integer are possible"
   ]
  },
  {
   "cell_type": "code",
   "execution_count": 8,
   "id": "cb8b44df-b8d3-41f0-8775-42a1cafb7417",
   "metadata": {},
   "outputs": [
    {
     "ename": "TypeError",
     "evalue": "int() argument must be a string, a bytes-like object or a real number, not 'complex'",
     "output_type": "error",
     "traceback": [
      "\u001b[1;31m---------------------------------------------------------------------------\u001b[0m",
      "\u001b[1;31mTypeError\u001b[0m                                 Traceback (most recent call last)",
      "Cell \u001b[1;32mIn[8], line 1\u001b[0m\n\u001b[1;32m----> 1\u001b[0m \u001b[38;5;28mint\u001b[39m(\u001b[38;5;241m1\u001b[39m\u001b[38;5;241m+\u001b[39m\u001b[38;5;241m2\u001b[39mj)\n",
      "\u001b[1;31mTypeError\u001b[0m: int() argument must be a string, a bytes-like object or a real number, not 'complex'"
     ]
    }
   ],
   "source": [
    "int(1+2j) # erroe cuz complex value into integer are not possible"
   ]
  },
  {
   "cell_type": "code",
   "execution_count": 9,
   "id": "4f7cae73-21a2-4dd8-be39-a0c456084a11",
   "metadata": {},
   "outputs": [
    {
     "data": {
      "text/plain": [
       "10"
      ]
     },
     "execution_count": 9,
     "metadata": {},
     "output_type": "execute_result"
    }
   ],
   "source": [
    "int('10') # possible"
   ]
  },
  {
   "cell_type": "code",
   "execution_count": 10,
   "id": "8b9e2aa6-0d8b-4245-a31a-fab9e879118a",
   "metadata": {},
   "outputs": [
    {
     "ename": "ValueError",
     "evalue": "invalid literal for int() with base 10: 'ten'",
     "output_type": "error",
     "traceback": [
      "\u001b[1;31m---------------------------------------------------------------------------\u001b[0m",
      "\u001b[1;31mValueError\u001b[0m                                Traceback (most recent call last)",
      "Cell \u001b[1;32mIn[10], line 1\u001b[0m\n\u001b[1;32m----> 1\u001b[0m \u001b[38;5;28mint\u001b[39m(\u001b[38;5;124m'\u001b[39m\u001b[38;5;124mten\u001b[39m\u001b[38;5;124m'\u001b[39m)\n",
      "\u001b[1;31mValueError\u001b[0m: invalid literal for int() with base 10: 'ten'"
     ]
    }
   ],
   "source": [
    "int('ten') #error cuz string with text into integer are not possible"
   ]
  },
  {
   "cell_type": "code",
   "execution_count": 11,
   "id": "4441f175-8e52-40a2-9111-fa43c6f97e22",
   "metadata": {},
   "outputs": [],
   "source": [
    "#In Float"
   ]
  },
  {
   "cell_type": "code",
   "execution_count": 12,
   "id": "09e228de-ae6d-45b7-995a-c869ecb40942",
   "metadata": {},
   "outputs": [
    {
     "data": {
      "text/plain": [
       "23.0"
      ]
     },
     "execution_count": 12,
     "metadata": {},
     "output_type": "execute_result"
    }
   ],
   "source": [
    "float(23) # possible"
   ]
  },
  {
   "cell_type": "code",
   "execution_count": 13,
   "id": "402a246f-bc85-43fa-bac5-2d9b6e821d3b",
   "metadata": {},
   "outputs": [
    {
     "data": {
      "text/plain": [
       "1.0"
      ]
     },
     "execution_count": 13,
     "metadata": {},
     "output_type": "execute_result"
    }
   ],
   "source": [
    "float(True) # possible"
   ]
  },
  {
   "cell_type": "code",
   "execution_count": 14,
   "id": "573d4330-03a3-48fc-b7ad-7f88399f6333",
   "metadata": {},
   "outputs": [
    {
     "data": {
      "text/plain": [
       "0.0"
      ]
     },
     "execution_count": 14,
     "metadata": {},
     "output_type": "execute_result"
    }
   ],
   "source": [
    "float(False) # possible"
   ]
  },
  {
   "cell_type": "code",
   "execution_count": 15,
   "id": "4edd51ed-2afa-492d-bea7-c4e0701beead",
   "metadata": {},
   "outputs": [
    {
     "ename": "TypeError",
     "evalue": "float() argument must be a string or a real number, not 'complex'",
     "output_type": "error",
     "traceback": [
      "\u001b[1;31m---------------------------------------------------------------------------\u001b[0m",
      "\u001b[1;31mTypeError\u001b[0m                                 Traceback (most recent call last)",
      "Cell \u001b[1;32mIn[15], line 1\u001b[0m\n\u001b[1;32m----> 1\u001b[0m \u001b[38;5;28mfloat\u001b[39m(\u001b[38;5;241m1\u001b[39m\u001b[38;5;241m+\u001b[39m\u001b[38;5;241m2\u001b[39mj)\n",
      "\u001b[1;31mTypeError\u001b[0m: float() argument must be a string or a real number, not 'complex'"
     ]
    }
   ],
   "source": [
    "float(1+2j) # error cuz complex into float are not possible"
   ]
  },
  {
   "cell_type": "code",
   "execution_count": 16,
   "id": "b73002b9-a27a-4b8a-8e95-91eca1e6f896",
   "metadata": {},
   "outputs": [
    {
     "data": {
      "text/plain": [
       "10.0"
      ]
     },
     "execution_count": 16,
     "metadata": {},
     "output_type": "execute_result"
    }
   ],
   "source": [
    "float('10') # possible"
   ]
  },
  {
   "cell_type": "code",
   "execution_count": 17,
   "id": "01ac57aa-6f38-4892-bfce-d6ffbb9fa0ef",
   "metadata": {},
   "outputs": [
    {
     "ename": "ValueError",
     "evalue": "could not convert string to float: 'ten'",
     "output_type": "error",
     "traceback": [
      "\u001b[1;31m---------------------------------------------------------------------------\u001b[0m",
      "\u001b[1;31mValueError\u001b[0m                                Traceback (most recent call last)",
      "Cell \u001b[1;32mIn[17], line 1\u001b[0m\n\u001b[1;32m----> 1\u001b[0m \u001b[38;5;28mfloat\u001b[39m(\u001b[38;5;124m'\u001b[39m\u001b[38;5;124mten\u001b[39m\u001b[38;5;124m'\u001b[39m)\n",
      "\u001b[1;31mValueError\u001b[0m: could not convert string to float: 'ten'"
     ]
    }
   ],
   "source": [
    "float('ten') # error cuz string with text into float are not possible"
   ]
  },
  {
   "cell_type": "code",
   "execution_count": 18,
   "id": "0659a187-c7d9-483f-85f8-b7f9a8dafb4e",
   "metadata": {},
   "outputs": [],
   "source": [
    "#In  complex"
   ]
  },
  {
   "cell_type": "code",
   "execution_count": 19,
   "id": "dd9030e9-7556-480f-87f2-2bcd21045bfc",
   "metadata": {},
   "outputs": [
    {
     "data": {
      "text/plain": [
       "(10+0j)"
      ]
     },
     "execution_count": 19,
     "metadata": {},
     "output_type": "execute_result"
    }
   ],
   "source": [
    "complex(10) #possible"
   ]
  },
  {
   "cell_type": "code",
   "execution_count": 20,
   "id": "fad138f5-0a11-482a-9da8-c3f7277a172b",
   "metadata": {},
   "outputs": [
    {
     "data": {
      "text/plain": [
       "(10+20j)"
      ]
     },
     "execution_count": 20,
     "metadata": {},
     "output_type": "execute_result"
    }
   ],
   "source": [
    "complex(10,20) #possible"
   ]
  },
  {
   "cell_type": "code",
   "execution_count": 21,
   "id": "edad5249-c93d-4850-90ff-2a58c0b20d1d",
   "metadata": {},
   "outputs": [
    {
     "ename": "TypeError",
     "evalue": "complex() takes at most 2 arguments (3 given)",
     "output_type": "error",
     "traceback": [
      "\u001b[1;31m---------------------------------------------------------------------------\u001b[0m",
      "\u001b[1;31mTypeError\u001b[0m                                 Traceback (most recent call last)",
      "Cell \u001b[1;32mIn[21], line 1\u001b[0m\n\u001b[1;32m----> 1\u001b[0m \u001b[38;5;28mcomplex\u001b[39m(\u001b[38;5;241m10\u001b[39m,\u001b[38;5;241m20\u001b[39m,\u001b[38;5;241m30\u001b[39m)\n",
      "\u001b[1;31mTypeError\u001b[0m: complex() takes at most 2 arguments (3 given)"
     ]
    }
   ],
   "source": [
    "complex(10,20,30) #error cuz of three arguments"
   ]
  },
  {
   "cell_type": "code",
   "execution_count": 22,
   "id": "40c7c22a-7469-4413-8edf-203f5a7b573b",
   "metadata": {},
   "outputs": [
    {
     "data": {
      "text/plain": [
       "(3.4+0j)"
      ]
     },
     "execution_count": 22,
     "metadata": {},
     "output_type": "execute_result"
    }
   ],
   "source": [
    "complex(3.4) #possible"
   ]
  },
  {
   "cell_type": "code",
   "execution_count": 23,
   "id": "ec0500e8-8b3b-4212-a27b-1d6b2ae7b9e4",
   "metadata": {},
   "outputs": [
    {
     "data": {
      "text/plain": [
       "(3.4+34j)"
      ]
     },
     "execution_count": 23,
     "metadata": {},
     "output_type": "execute_result"
    }
   ],
   "source": [
    "complex(3.4,34) #possible"
   ]
  },
  {
   "cell_type": "code",
   "execution_count": 24,
   "id": "5eeafff7-0b82-4f7d-bdab-3a0358577284",
   "metadata": {},
   "outputs": [
    {
     "data": {
      "text/plain": [
       "(1+0j)"
      ]
     },
     "execution_count": 24,
     "metadata": {},
     "output_type": "execute_result"
    }
   ],
   "source": [
    "complex(True,False) #possible"
   ]
  },
  {
   "cell_type": "code",
   "execution_count": 25,
   "id": "b1bbaf43-5d01-4053-a8be-aaa2b88f5220",
   "metadata": {},
   "outputs": [],
   "source": [
    "#In boolean"
   ]
  },
  {
   "cell_type": "code",
   "execution_count": 26,
   "id": "13093902-e4ad-4e9a-ac58-cce7a7b24587",
   "metadata": {},
   "outputs": [
    {
     "data": {
      "text/plain": [
       "True"
      ]
     },
     "execution_count": 26,
     "metadata": {},
     "output_type": "execute_result"
    }
   ],
   "source": [
    "bool(1) #possible"
   ]
  },
  {
   "cell_type": "code",
   "execution_count": 27,
   "id": "1c1f9bd0-58a6-4880-82fd-e04adcd78f7b",
   "metadata": {},
   "outputs": [
    {
     "data": {
      "text/plain": [
       "False"
      ]
     },
     "execution_count": 27,
     "metadata": {},
     "output_type": "execute_result"
    }
   ],
   "source": [
    "bool(0) #possible"
   ]
  },
  {
   "cell_type": "code",
   "execution_count": 28,
   "id": "518b318c-5530-43e5-8c92-d182a2aa27f2",
   "metadata": {},
   "outputs": [
    {
     "data": {
      "text/plain": [
       "False"
      ]
     },
     "execution_count": 28,
     "metadata": {},
     "output_type": "execute_result"
    }
   ],
   "source": [
    "bool() #possible"
   ]
  },
  {
   "cell_type": "code",
   "execution_count": 29,
   "id": "6d542f55-67bf-4c4c-9f36-13590ce32563",
   "metadata": {},
   "outputs": [
    {
     "data": {
      "text/plain": [
       "True"
      ]
     },
     "execution_count": 29,
     "metadata": {},
     "output_type": "execute_result"
    }
   ],
   "source": [
    "bool(1+2j) # it is also possible"
   ]
  },
  {
   "cell_type": "code",
   "execution_count": 31,
   "id": "035ff875-f6fc-4289-8121-8421ec93fd66",
   "metadata": {},
   "outputs": [
    {
     "data": {
      "text/plain": [
       "True"
      ]
     },
     "execution_count": 31,
     "metadata": {},
     "output_type": "execute_result"
    }
   ],
   "source": [
    "bool('ten') # possible"
   ]
  },
  {
   "cell_type": "code",
   "execution_count": null,
   "id": "4983d861-767f-4d12-bb2a-ee70e0ff0256",
   "metadata": {},
   "outputs": [],
   "source": []
  }
 ],
 "metadata": {
  "kernelspec": {
   "display_name": "Python 3 (ipykernel)",
   "language": "python",
   "name": "python3"
  },
  "language_info": {
   "codemirror_mode": {
    "name": "ipython",
    "version": 3
   },
   "file_extension": ".py",
   "mimetype": "text/x-python",
   "name": "python",
   "nbconvert_exporter": "python",
   "pygments_lexer": "ipython3",
   "version": "3.12.7"
  }
 },
 "nbformat": 4,
 "nbformat_minor": 5
}
