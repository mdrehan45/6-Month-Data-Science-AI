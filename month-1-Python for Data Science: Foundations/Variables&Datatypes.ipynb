{
 "cells": [
  {
   "cell_type": "code",
   "execution_count": 1,
   "id": "5523bb3e-27fd-4aa2-b6ab-45afd74e7e0c",
   "metadata": {},
   "outputs": [],
   "source": [
    "name = \" Rehan \" #Strings"
   ]
  },
  {
   "cell_type": "code",
   "execution_count": 2,
   "id": "24e6fa46-0894-475e-9b45-cffd97f335a6",
   "metadata": {},
   "outputs": [],
   "source": [
    "age = 20 # integer"
   ]
  },
  {
   "cell_type": "code",
   "execution_count": 3,
   "id": "2ace4e75-2548-4316-9c20-2b500388b206",
   "metadata": {},
   "outputs": [],
   "source": [
    "hieght = 5.8 # float"
   ]
  },
  {
   "cell_type": "code",
   "execution_count": 4,
   "id": "b0da4097-94f1-4393-bd70-403218fe2845",
   "metadata": {},
   "outputs": [],
   "source": [
    "is_student = True # Boolean"
   ]
  },
  {
   "cell_type": "raw",
   "id": "2cf7150e-2ec5-4ef2-afd6-47f0b9972ec2",
   "metadata": {},
   "source": [
    "Variables are containers for storing data values"
   ]
  },
  {
   "cell_type": "code",
   "execution_count": 5,
   "id": "c5e38ae4-a06b-484c-b4db-161f26dc1035",
   "metadata": {},
   "outputs": [],
   "source": [
    "x = 5"
   ]
  },
  {
   "cell_type": "code",
   "execution_count": 6,
   "id": "6497b293-de1e-4fcd-990a-a1a565cdd13d",
   "metadata": {},
   "outputs": [],
   "source": [
    "y = 'rehan'"
   ]
  },
  {
   "cell_type": "code",
   "execution_count": 7,
   "id": "ba82dc1c-0492-40b5-b86a-cf8be3880b2f",
   "metadata": {},
   "outputs": [
    {
     "name": "stdout",
     "output_type": "stream",
     "text": [
      "5\n",
      "rehan\n"
     ]
    }
   ],
   "source": [
    "print(x)\n",
    "print(y)"
   ]
  },
  {
   "cell_type": "markdown",
   "id": "4217c451-fd45-4a36-8297-ea7a0ff8d43e",
   "metadata": {},
   "source": [
    "Most important things to know about variables in python"
   ]
  },
  {
   "cell_type": "markdown",
   "id": "ce0d3d48-41af-4551-abf8-5b97b5d01c2c",
   "metadata": {},
   "source": [
    "1) Dynamic Typing"
   ]
  },
  {
   "cell_type": "raw",
   "id": "be8c8e50-df5c-4569-8913-8dd557fb0a58",
   "metadata": {},
   "source": [
    "- we dont need to declare the type of data\n",
    "- pyhton automatically detect which type of data are stored."
   ]
  },
  {
   "cell_type": "code",
   "execution_count": 8,
   "id": "7a3276f9-71ba-407e-8386-5679cf58d4fd",
   "metadata": {},
   "outputs": [],
   "source": [
    "x = 20 # integer"
   ]
  },
  {
   "cell_type": "code",
   "execution_count": 9,
   "id": "7d9d6b32-1f0d-4d12-9d37-c7debf7e8c0e",
   "metadata": {},
   "outputs": [
    {
     "data": {
      "text/plain": [
       "20"
      ]
     },
     "execution_count": 9,
     "metadata": {},
     "output_type": "execute_result"
    }
   ],
   "source": [
    "x"
   ]
  },
  {
   "cell_type": "code",
   "execution_count": 10,
   "id": "36bfbc8a-f3db-4f25-893c-c03a0205f25e",
   "metadata": {},
   "outputs": [],
   "source": [
    "y = \"rehan\" # string"
   ]
  },
  {
   "cell_type": "code",
   "execution_count": 11,
   "id": "9c3a67a6-7771-44a5-b25b-389cb52a8f06",
   "metadata": {},
   "outputs": [
    {
     "data": {
      "text/plain": [
       "'rehan'"
      ]
     },
     "execution_count": 11,
     "metadata": {},
     "output_type": "execute_result"
    }
   ],
   "source": [
    "y"
   ]
  },
  {
   "cell_type": "markdown",
   "id": "6a6bc96e-2558-4f8f-a7c9-63d17443bf29",
   "metadata": {},
   "source": [
    "2) Case Sensitive"
   ]
  },
  {
   "cell_type": "raw",
   "id": "df63b67c-42aa-4d6c-af4b-cccb3df77ef3",
   "metadata": {},
   "source": [
    "- It means capital and small metter."
   ]
  },
  {
   "cell_type": "code",
   "execution_count": 12,
   "id": "7592d2dd-d610-4edb-b6ad-d2d2d84fa2a0",
   "metadata": {},
   "outputs": [],
   "source": [
    " Name = \" rehan \" # capital"
   ]
  },
  {
   "cell_type": "code",
   "execution_count": 13,
   "id": "60421bd7-4fd5-4ad9-bd0d-7dc393669729",
   "metadata": {},
   "outputs": [],
   "source": [
    "name = \" warner \" # small"
   ]
  },
  {
   "cell_type": "code",
   "execution_count": 20,
   "id": "fc4439ed-55f3-4382-8fa0-820ff71abc8c",
   "metadata": {},
   "outputs": [
    {
     "data": {
      "text/plain": [
       "' rehan '"
      ]
     },
     "execution_count": 20,
     "metadata": {},
     "output_type": "execute_result"
    }
   ],
   "source": [
    "Name"
   ]
  },
  {
   "cell_type": "code",
   "execution_count": 15,
   "id": "747098eb-1f15-4d3f-94d7-0d0945fff614",
   "metadata": {},
   "outputs": [
    {
     "data": {
      "text/plain": [
       "' warner '"
      ]
     },
     "execution_count": 15,
     "metadata": {},
     "output_type": "execute_result"
    }
   ],
   "source": [
    "name"
   ]
  },
  {
   "cell_type": "markdown",
   "id": "806f7ccc-a63c-41da-b540-3b86b926de79",
   "metadata": {},
   "source": [
    "3.Multiple Assignments"
   ]
  },
  {
   "cell_type": "raw",
   "id": "15fb63c7-bec5-4d27-9766-ee26210e834a",
   "metadata": {},
   "source": [
    "- Python allows assigning values to multiple variables in a single line."
   ]
  },
  {
   "cell_type": "code",
   "execution_count": 16,
   "id": "752109cf-6de5-402c-b42a-761c444ba7ea",
   "metadata": {},
   "outputs": [],
   "source": [
    "x,y,z = 1,2,3"
   ]
  },
  {
   "cell_type": "code",
   "execution_count": 17,
   "id": "3c93a6f5-ab1d-4595-866f-b6ad792f876b",
   "metadata": {},
   "outputs": [
    {
     "data": {
      "text/plain": [
       "1"
      ]
     },
     "execution_count": 17,
     "metadata": {},
     "output_type": "execute_result"
    }
   ],
   "source": [
    "x"
   ]
  },
  {
   "cell_type": "code",
   "execution_count": 18,
   "id": "7deb9577-a429-4817-89aa-84143f37345d",
   "metadata": {},
   "outputs": [
    {
     "data": {
      "text/plain": [
       "2"
      ]
     },
     "execution_count": 18,
     "metadata": {},
     "output_type": "execute_result"
    }
   ],
   "source": [
    "y"
   ]
  },
  {
   "cell_type": "code",
   "execution_count": 19,
   "id": "9604ade1-351a-4b9e-ace6-d1de8c156edc",
   "metadata": {},
   "outputs": [
    {
     "data": {
      "text/plain": [
       "3"
      ]
     },
     "execution_count": 19,
     "metadata": {},
     "output_type": "execute_result"
    }
   ],
   "source": [
    "z"
   ]
  },
  {
   "cell_type": "markdown",
   "id": "2986315d-19f5-44c4-ad0f-cbc27b735b37",
   "metadata": {},
   "source": [
    "4.Swapping Variables"
   ]
  },
  {
   "cell_type": "raw",
   "id": "31a6eded-ca03-489c-b125-faf75272abad",
   "metadata": {},
   "source": [
    "- exchanging values with another variables."
   ]
  },
  {
   "cell_type": "code",
   "execution_count": 21,
   "id": "d2ec01ec-1100-4873-88ea-59166d32cf65",
   "metadata": {},
   "outputs": [],
   "source": [
    "a,b = 10,20 "
   ]
  },
  {
   "cell_type": "code",
   "execution_count": 22,
   "id": "02915983-9517-4301-9123-959f5f42e0f4",
   "metadata": {},
   "outputs": [
    {
     "data": {
      "text/plain": [
       "(10, 20)"
      ]
     },
     "execution_count": 22,
     "metadata": {},
     "output_type": "execute_result"
    }
   ],
   "source": [
    "a,b"
   ]
  },
  {
   "cell_type": "code",
   "execution_count": 23,
   "id": "b199be35-1d61-44ae-9469-d8f2e83d6dda",
   "metadata": {},
   "outputs": [],
   "source": [
    "a,b = b,a"
   ]
  },
  {
   "cell_type": "code",
   "execution_count": 24,
   "id": "6a0a5690-eac2-43c9-881f-5cb3cae684ad",
   "metadata": {},
   "outputs": [
    {
     "data": {
      "text/plain": [
       "(20, 10)"
      ]
     },
     "execution_count": 24,
     "metadata": {},
     "output_type": "execute_result"
    }
   ],
   "source": [
    "a,b"
   ]
  },
  {
   "cell_type": "code",
   "execution_count": 25,
   "id": "e65bac4e-9e12-41a4-afc1-d76c88936305",
   "metadata": {},
   "outputs": [
    {
     "data": {
      "text/plain": [
       "1"
      ]
     },
     "execution_count": 25,
     "metadata": {},
     "output_type": "execute_result"
    }
   ],
   "source": [
    "x"
   ]
  },
  {
   "cell_type": "code",
   "execution_count": 26,
   "id": "a337c53a-de2f-46f1-abff-83ffb5f7fa91",
   "metadata": {},
   "outputs": [
    {
     "data": {
      "text/plain": [
       "140705791224248"
      ]
     },
     "execution_count": 26,
     "metadata": {},
     "output_type": "execute_result"
    }
   ],
   "source": [
    "id(x) # it show the memoery adress of x variables"
   ]
  },
  {
   "cell_type": "markdown",
   "id": "8dd1ece7-9f1f-4fa0-b29f-39d12b0c020a",
   "metadata": {},
   "source": [
    "* Rules"
   ]
  },
  {
   "cell_type": "raw",
   "id": "469d0110-77f9-4229-89de-8eb88cc1882b",
   "metadata": {},
   "source": [
    "- use letters , numbers , and underscore.\n",
    "- can not start with number .\n",
    "- avoid using pyhton keywords ."
   ]
  },
  {
   "cell_type": "code",
   "execution_count": 28,
   "id": "f0d25744-b016-4cb1-a430-dc1e4e9823cc",
   "metadata": {},
   "outputs": [],
   "source": [
    "user_name = 'mdrehan45' # possible"
   ]
  },
  {
   "cell_type": "code",
   "execution_count": 29,
   "id": "1b8f8499-3b1e-4325-8987-d70a69e47451",
   "metadata": {},
   "outputs": [
    {
     "data": {
      "text/plain": [
       "'mdrehan45'"
      ]
     },
     "execution_count": 29,
     "metadata": {},
     "output_type": "execute_result"
    }
   ],
   "source": [
    "user_name"
   ]
  },
  {
   "cell_type": "code",
   "execution_count": 30,
   "id": "112eba39-aa8f-4465-91fd-fbe5a92902a0",
   "metadata": {},
   "outputs": [],
   "source": [
    "age1 = 20 # possible "
   ]
  },
  {
   "cell_type": "code",
   "execution_count": 31,
   "id": "69608277-8abb-44d8-a0b8-ca41379fc5c5",
   "metadata": {},
   "outputs": [
    {
     "data": {
      "text/plain": [
       "20"
      ]
     },
     "execution_count": 31,
     "metadata": {},
     "output_type": "execute_result"
    }
   ],
   "source": [
    "age1"
   ]
  },
  {
   "cell_type": "code",
   "execution_count": 32,
   "id": "a945482a-eb55-440e-945a-da2858709438",
   "metadata": {},
   "outputs": [
    {
     "ename": "SyntaxError",
     "evalue": "invalid decimal literal (2438726859.py, line 1)",
     "output_type": "error",
     "traceback": [
      "\u001b[1;36m  Cell \u001b[1;32mIn[32], line 1\u001b[1;36m\u001b[0m\n\u001b[1;33m    1user = 'rehan' # error cuz username can't start with number in python.\u001b[0m\n\u001b[1;37m    ^\u001b[0m\n\u001b[1;31mSyntaxError\u001b[0m\u001b[1;31m:\u001b[0m invalid decimal literal\n"
     ]
    }
   ],
   "source": [
    "1user = 'rehan' # error cuz username can't start with number in python."
   ]
  },
  {
   "cell_type": "code",
   "execution_count": null,
   "id": "8ec52755-75d1-4ecb-8ed3-466fba06c0ba",
   "metadata": {},
   "outputs": [],
   "source": []
  }
 ],
 "metadata": {
  "kernelspec": {
   "display_name": "Python 3 (ipykernel)",
   "language": "python",
   "name": "python3"
  },
  "language_info": {
   "codemirror_mode": {
    "name": "ipython",
    "version": 3
   },
   "file_extension": ".py",
   "mimetype": "text/x-python",
   "name": "python",
   "nbconvert_exporter": "python",
   "pygments_lexer": "ipython3",
   "version": "3.12.7"
  }
 },
 "nbformat": 4,
 "nbformat_minor": 5
}
