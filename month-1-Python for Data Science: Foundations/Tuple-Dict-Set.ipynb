{
 "cells": [
  {
   "cell_type": "markdown",
   "id": "25209089-8239-4d09-b290-9c79e6c14d46",
   "metadata": {},
   "source": [
    "Tuple"
   ]
  },
  {
   "cell_type": "code",
   "execution_count": 1,
   "id": "e84c1e1b-1de9-4e49-8583-2403ad2b63d2",
   "metadata": {},
   "outputs": [],
   "source": [
    " tup1 = (1,2,3,\"rehan\") # Creating a tuple"
   ]
  },
  {
   "cell_type": "code",
   "execution_count": 2,
   "id": "d3d2ae99-2075-4066-aa89-fc5acaaf5b29",
   "metadata": {},
   "outputs": [
    {
     "data": {
      "text/plain": [
       "(1, 2, 3, 'rehan')"
      ]
     },
     "execution_count": 2,
     "metadata": {},
     "output_type": "execute_result"
    }
   ],
   "source": [
    "tup1"
   ]
  },
  {
   "cell_type": "code",
   "execution_count": 3,
   "id": "aebe1631-fccc-43d3-b0f4-85e4cb1017d1",
   "metadata": {},
   "outputs": [],
   "source": [
    "# tuple is an ordered collection of elements.\n",
    "# tuple are immutable."
   ]
  },
  {
   "cell_type": "code",
   "execution_count": 4,
   "id": "3f3c195e-9ae4-4638-abc9-c132799790a0",
   "metadata": {},
   "outputs": [
    {
     "data": {
      "text/plain": [
       "(1, 2, 3, 'rehan')"
      ]
     },
     "execution_count": 4,
     "metadata": {},
     "output_type": "execute_result"
    }
   ],
   "source": [
    "tup1"
   ]
  },
  {
   "cell_type": "code",
   "execution_count": 5,
   "id": "24a471c2-adbf-4556-9c5c-2f7401696eb3",
   "metadata": {},
   "outputs": [
    {
     "data": {
      "text/plain": [
       "1"
      ]
     },
     "execution_count": 5,
     "metadata": {},
     "output_type": "execute_result"
    }
   ],
   "source": [
    "tup1.count(3) # count() returns how many times a specific value appears in a tuple."
   ]
  },
  {
   "cell_type": "code",
   "execution_count": 6,
   "id": "ccd58a28-3b36-4d30-8e03-48bb03460c04",
   "metadata": {},
   "outputs": [],
   "source": [
    "# tuple indexing"
   ]
  },
  {
   "cell_type": "code",
   "execution_count": 7,
   "id": "2166bf29-1acd-47d4-a583-28b142380425",
   "metadata": {},
   "outputs": [
    {
     "data": {
      "text/plain": [
       "1"
      ]
     },
     "execution_count": 7,
     "metadata": {},
     "output_type": "execute_result"
    }
   ],
   "source": [
    "tup1[0] # Display the value present at index 0."
   ]
  },
  {
   "cell_type": "code",
   "execution_count": 8,
   "id": "d49a305b-cacd-48b5-9a24-ed9de9d1d3d3",
   "metadata": {},
   "outputs": [
    {
     "data": {
      "text/plain": [
       "'rehan'"
      ]
     },
     "execution_count": 8,
     "metadata": {},
     "output_type": "execute_result"
    }
   ],
   "source": [
    "tup1[-1] # Backword indexing"
   ]
  },
  {
   "cell_type": "code",
   "execution_count": 9,
   "id": "74f8dd0b-6029-4bdb-adbf-b72766e28587",
   "metadata": {},
   "outputs": [],
   "source": [
    "#slicing "
   ]
  },
  {
   "cell_type": "code",
   "execution_count": 10,
   "id": "2b76e260-9f0f-423e-9e38-cc73629110d1",
   "metadata": {},
   "outputs": [
    {
     "data": {
      "text/plain": [
       "(1, 2, 3, 'rehan')"
      ]
     },
     "execution_count": 10,
     "metadata": {},
     "output_type": "execute_result"
    }
   ],
   "source": [
    "tup1"
   ]
  },
  {
   "cell_type": "code",
   "execution_count": 11,
   "id": "48063aeb-a1d8-44db-9c44-37acc3503669",
   "metadata": {},
   "outputs": [
    {
     "data": {
      "text/plain": [
       "(2, 3)"
      ]
     },
     "execution_count": 11,
     "metadata": {},
     "output_type": "execute_result"
    }
   ],
   "source": [
    "tup1[1:3] "
   ]
  },
  {
   "cell_type": "code",
   "execution_count": 12,
   "id": "34e868ee-54b2-4201-abc1-80e73159f671",
   "metadata": {},
   "outputs": [
    {
     "data": {
      "text/plain": [
       "('rehan', 3, 2, 1)"
      ]
     },
     "execution_count": 12,
     "metadata": {},
     "output_type": "execute_result"
    }
   ],
   "source": [
    "tup1[::-1] # it's reverse the tuple eelemts"
   ]
  },
  {
   "cell_type": "code",
   "execution_count": 13,
   "id": "3f3abfb3-cee2-410f-8fe3-bd111175a539",
   "metadata": {},
   "outputs": [
    {
     "data": {
      "text/plain": [
       "(1, 2, 3, 'rehan')"
      ]
     },
     "execution_count": 13,
     "metadata": {},
     "output_type": "execute_result"
    }
   ],
   "source": [
    "tup1"
   ]
  },
  {
   "cell_type": "code",
   "execution_count": 14,
   "id": "01ca4e42-3fc5-442d-8a9c-427c8692d1f1",
   "metadata": {},
   "outputs": [],
   "source": [
    "tup2 = (4,5,6,7)"
   ]
  },
  {
   "cell_type": "code",
   "execution_count": 15,
   "id": "d15e8299-f107-4266-8ae0-fa49acd76d44",
   "metadata": {},
   "outputs": [
    {
     "data": {
      "text/plain": [
       "(4, 5, 6, 7)"
      ]
     },
     "execution_count": 15,
     "metadata": {},
     "output_type": "execute_result"
    }
   ],
   "source": [
    "tup2"
   ]
  },
  {
   "cell_type": "code",
   "execution_count": 16,
   "id": "df8bb9f9-e4bc-4ab9-b49b-619faadcb0b3",
   "metadata": {},
   "outputs": [
    {
     "data": {
      "text/plain": [
       "(1, 2, 3, 'rehan', 4, 5, 6, 7)"
      ]
     },
     "execution_count": 16,
     "metadata": {},
     "output_type": "execute_result"
    }
   ],
   "source": [
    "tup1 + tup2 # Concatenation"
   ]
  },
  {
   "cell_type": "code",
   "execution_count": 17,
   "id": "9ef80cc5-802f-4e51-9eac-6bd7ec6597ff",
   "metadata": {},
   "outputs": [
    {
     "data": {
      "text/plain": [
       "(4, 5, 6, 7, 1, 2, 3, 'rehan')"
      ]
     },
     "execution_count": 17,
     "metadata": {},
     "output_type": "execute_result"
    }
   ],
   "source": [
    "tup2 + tup1"
   ]
  },
  {
   "cell_type": "code",
   "execution_count": 18,
   "id": "ed73a5db-acc7-42a7-aa10-1ea9d13f23ea",
   "metadata": {},
   "outputs": [
    {
     "data": {
      "text/plain": [
       "(1, 2, 3, 'rehan')"
      ]
     },
     "execution_count": 18,
     "metadata": {},
     "output_type": "execute_result"
    }
   ],
   "source": [
    "tup1"
   ]
  },
  {
   "cell_type": "code",
   "execution_count": 19,
   "id": "02184962-9bc5-4980-b5ad-a16e37c2ba36",
   "metadata": {},
   "outputs": [
    {
     "data": {
      "text/plain": [
       "(1, 2, 3, 'rehan', 1, 2, 3, 'rehan')"
      ]
     },
     "execution_count": 19,
     "metadata": {},
     "output_type": "execute_result"
    }
   ],
   "source": [
    "tup1*2 # Repeating elements"
   ]
  },
  {
   "cell_type": "code",
   "execution_count": 20,
   "id": "1b43b5cc-d909-4565-ab67-3b80214cf7e0",
   "metadata": {},
   "outputs": [
    {
     "data": {
      "text/plain": [
       "(1, 2, 3, 'rehan', 1, 2, 3, 'rehan', 1, 2, 3, 'rehan')"
      ]
     },
     "execution_count": 20,
     "metadata": {},
     "output_type": "execute_result"
    }
   ],
   "source": [
    "tup1*3"
   ]
  },
  {
   "cell_type": "code",
   "execution_count": 21,
   "id": "b46978fc-8848-4aea-a0ad-346bdb97ef71",
   "metadata": {},
   "outputs": [
    {
     "data": {
      "text/plain": [
       "(1, 2, 3, 'rehan', 1, 2, 3, 'rehan', 4, 5, 6, 7)"
      ]
     },
     "execution_count": 21,
     "metadata": {},
     "output_type": "execute_result"
    }
   ],
   "source": [
    "tup1*2 + tup2 # Repeating + Concatenation"
   ]
  },
  {
   "cell_type": "code",
   "execution_count": 22,
   "id": "23b20e6f-1ba9-46c7-923c-abd863b93279",
   "metadata": {},
   "outputs": [
    {
     "data": {
      "text/plain": [
       "(4, 5, 6, 7)"
      ]
     },
     "execution_count": 22,
     "metadata": {},
     "output_type": "execute_result"
    }
   ],
   "source": [
    "tup2"
   ]
  },
  {
   "cell_type": "code",
   "execution_count": 23,
   "id": "0d785440-b5c9-41f0-996c-cf3249b3f2f0",
   "metadata": {},
   "outputs": [
    {
     "data": {
      "text/plain": [
       "7"
      ]
     },
     "execution_count": 23,
     "metadata": {},
     "output_type": "execute_result"
    }
   ],
   "source": [
    "max(tup2) # print the maximum value from tuple"
   ]
  },
  {
   "cell_type": "code",
   "execution_count": 24,
   "id": "b14e9b72-1e31-4008-a303-45664b0f3d56",
   "metadata": {},
   "outputs": [
    {
     "data": {
      "text/plain": [
       "4"
      ]
     },
     "execution_count": 24,
     "metadata": {},
     "output_type": "execute_result"
    }
   ],
   "source": [
    "min(tup2) # for minimum value"
   ]
  },
  {
   "cell_type": "code",
   "execution_count": 25,
   "id": "d1a26001-ff4f-4c05-ac74-1177d66ff78a",
   "metadata": {},
   "outputs": [
    {
     "data": {
      "text/plain": [
       "(1, 2, 3, 'rehan')"
      ]
     },
     "execution_count": 25,
     "metadata": {},
     "output_type": "execute_result"
    }
   ],
   "source": [
    "tup1"
   ]
  },
  {
   "cell_type": "code",
   "execution_count": 26,
   "id": "5f85ac52-323c-4555-8887-e1c40e8b68e6",
   "metadata": {},
   "outputs": [
    {
     "ename": "TypeError",
     "evalue": "'>' not supported between instances of 'str' and 'int'",
     "output_type": "error",
     "traceback": [
      "\u001b[1;31m---------------------------------------------------------------------------\u001b[0m",
      "\u001b[1;31mTypeError\u001b[0m                                 Traceback (most recent call last)",
      "Cell \u001b[1;32mIn[26], line 1\u001b[0m\n\u001b[1;32m----> 1\u001b[0m \u001b[38;5;28mmax\u001b[39m(tup1)\n",
      "\u001b[1;31mTypeError\u001b[0m: '>' not supported between instances of 'str' and 'int'"
     ]
    }
   ],
   "source": [
    "max(tup1) # it is show error if tuple have sting element"
   ]
  },
  {
   "cell_type": "code",
   "execution_count": null,
   "id": "ff68f246-05e6-48ce-abc0-f62d68291ac9",
   "metadata": {},
   "outputs": [],
   "source": [
    "# Tuple completed"
   ]
  },
  {
   "cell_type": "markdown",
   "id": "2af6401f-58d2-42ee-804d-d6e457018b91",
   "metadata": {},
   "source": [
    "Dictionary"
   ]
  },
  {
   "cell_type": "code",
   "execution_count": 27,
   "id": "bb3869e1-8eac-4867-90d5-d0822e884d1c",
   "metadata": {},
   "outputs": [],
   "source": [
    "# Dictionary is an unordered collection of key-values pairs enclosed with {}.\n",
    "# Dict is mutable."
   ]
  },
  {
   "cell_type": "code",
   "execution_count": 28,
   "id": "ea75e57a-2859-4899-9b9d-95444be44eab",
   "metadata": {},
   "outputs": [],
   "source": [
    "d1 = { \"apple\" : 200 , \"banana\" : 50 , \"grapes\" : 250 } # Creating a new dict"
   ]
  },
  {
   "cell_type": "code",
   "execution_count": 29,
   "id": "f5f1ff4b-5947-4c8e-ae52-db3ea6111402",
   "metadata": {},
   "outputs": [
    {
     "data": {
      "text/plain": [
       "{'apple': 200, 'banana': 50, 'grapes': 250}"
      ]
     },
     "execution_count": 29,
     "metadata": {},
     "output_type": "execute_result"
    }
   ],
   "source": [
    "d1"
   ]
  },
  {
   "cell_type": "code",
   "execution_count": 30,
   "id": "cfe8396c-002d-45e6-92e4-fb886af1a426",
   "metadata": {},
   "outputs": [
    {
     "data": {
      "text/plain": [
       "dict_keys(['apple', 'banana', 'grapes'])"
      ]
     },
     "execution_count": 30,
     "metadata": {},
     "output_type": "execute_result"
    }
   ],
   "source": [
    "d1.keys() # extracking keys "
   ]
  },
  {
   "cell_type": "code",
   "execution_count": 31,
   "id": "876d7a05-34b8-4ef0-a3c2-86cc02ed1e20",
   "metadata": {},
   "outputs": [
    {
     "data": {
      "text/plain": [
       "dict_values([200, 50, 250])"
      ]
     },
     "execution_count": 31,
     "metadata": {},
     "output_type": "execute_result"
    }
   ],
   "source": [
    "d1.values() # extracking values"
   ]
  },
  {
   "cell_type": "code",
   "execution_count": 32,
   "id": "d57bd082-0937-4ce1-ae1a-63c1670767d7",
   "metadata": {},
   "outputs": [],
   "source": [
    "d1[\"watermeloon\"] = 75 # add new element"
   ]
  },
  {
   "cell_type": "code",
   "execution_count": 33,
   "id": "b20101ec-776f-4290-b695-e51c0cb778ed",
   "metadata": {},
   "outputs": [
    {
     "data": {
      "text/plain": [
       "{'apple': 200, 'banana': 50, 'grapes': 250, 'watermeloon': 75}"
      ]
     },
     "execution_count": 33,
     "metadata": {},
     "output_type": "execute_result"
    }
   ],
   "source": [
    "d1"
   ]
  },
  {
   "cell_type": "code",
   "execution_count": 34,
   "id": "25368e59-8f4d-4937-934c-c29b7bb8a7bd",
   "metadata": {},
   "outputs": [],
   "source": [
    "d1[\"banana\"] = 30 # modifying values"
   ]
  },
  {
   "cell_type": "code",
   "execution_count": 35,
   "id": "a34b0ada-d164-44f8-a5aa-e1f832ff2bc8",
   "metadata": {},
   "outputs": [
    {
     "data": {
      "text/plain": [
       "{'apple': 200, 'banana': 30, 'grapes': 250, 'watermeloon': 75}"
      ]
     },
     "execution_count": 35,
     "metadata": {},
     "output_type": "execute_result"
    }
   ],
   "source": [
    "d1"
   ]
  },
  {
   "cell_type": "code",
   "execution_count": 36,
   "id": "62cd5ac4-6cb3-497f-b868-49cf948cb7e9",
   "metadata": {},
   "outputs": [],
   "source": [
    "d2 = {\"name\":\"rehan\",\"age\":20,\"city\":\"parbhani\"}"
   ]
  },
  {
   "cell_type": "code",
   "execution_count": 37,
   "id": "a562da1f-3b73-4a71-b01d-dfbdc5c83c37",
   "metadata": {},
   "outputs": [
    {
     "data": {
      "text/plain": [
       "{'name': 'rehan', 'age': 20, 'city': 'parbhani'}"
      ]
     },
     "execution_count": 37,
     "metadata": {},
     "output_type": "execute_result"
    }
   ],
   "source": [
    "d2"
   ]
  },
  {
   "cell_type": "code",
   "execution_count": 38,
   "id": "623aa862-2446-4249-932e-7419354bcee9",
   "metadata": {},
   "outputs": [],
   "source": [
    "d1.update(d2) # marging two dict"
   ]
  },
  {
   "cell_type": "code",
   "execution_count": 39,
   "id": "8bd028c0-c14d-4838-9c5a-32b7edb599a4",
   "metadata": {},
   "outputs": [
    {
     "data": {
      "text/plain": [
       "{'apple': 200,\n",
       " 'banana': 30,\n",
       " 'grapes': 250,\n",
       " 'watermeloon': 75,\n",
       " 'name': 'rehan',\n",
       " 'age': 20,\n",
       " 'city': 'parbhani'}"
      ]
     },
     "execution_count": 39,
     "metadata": {},
     "output_type": "execute_result"
    }
   ],
   "source": [
    "d1"
   ]
  },
  {
   "cell_type": "code",
   "execution_count": 40,
   "id": "06c1a913-b280-4b32-bed0-7bb7c7796537",
   "metadata": {},
   "outputs": [
    {
     "data": {
      "text/plain": [
       "{'name': 'rehan', 'age': 20, 'city': 'parbhani'}"
      ]
     },
     "execution_count": 40,
     "metadata": {},
     "output_type": "execute_result"
    }
   ],
   "source": [
    "d2"
   ]
  },
  {
   "cell_type": "code",
   "execution_count": 41,
   "id": "dc869b0c-4cf1-4c0f-b578-c42aa48282a9",
   "metadata": {},
   "outputs": [
    {
     "data": {
      "text/plain": [
       "'parbhani'"
      ]
     },
     "execution_count": 41,
     "metadata": {},
     "output_type": "execute_result"
    }
   ],
   "source": [
    "d2.pop(\"city\") # remove and return elemnet "
   ]
  },
  {
   "cell_type": "code",
   "execution_count": 42,
   "id": "dcae63c5-8c94-4b8c-b02d-744c5c535d77",
   "metadata": {},
   "outputs": [
    {
     "data": {
      "text/plain": [
       "{'name': 'rehan', 'age': 20}"
      ]
     },
     "execution_count": 42,
     "metadata": {},
     "output_type": "execute_result"
    }
   ],
   "source": [
    "d2"
   ]
  },
  {
   "cell_type": "code",
   "execution_count": 43,
   "id": "0ec8295d-2de1-4641-87c9-88e1a3c88662",
   "metadata": {},
   "outputs": [],
   "source": [
    "d1.clear() #remove all items from a dictionary."
   ]
  },
  {
   "cell_type": "code",
   "execution_count": 44,
   "id": "d11e7e9f-1847-4fd3-86df-654020dba1e4",
   "metadata": {},
   "outputs": [
    {
     "data": {
      "text/plain": [
       "{}"
      ]
     },
     "execution_count": 44,
     "metadata": {},
     "output_type": "execute_result"
    }
   ],
   "source": [
    "d1"
   ]
  },
  {
   "cell_type": "code",
   "execution_count": 45,
   "id": "b8de58be-b1ca-44e3-a44d-57dfdebb4662",
   "metadata": {},
   "outputs": [
    {
     "data": {
      "text/plain": [
       "dict_items([('name', 'rehan'), ('age', 20)])"
      ]
     },
     "execution_count": 45,
     "metadata": {},
     "output_type": "execute_result"
    }
   ],
   "source": [
    "d2.items() # Returns all (key, value) pairs as tuples."
   ]
  },
  {
   "cell_type": "code",
   "execution_count": 46,
   "id": "4f20e310-3f02-4db3-a5a0-7c32cbe41732",
   "metadata": {},
   "outputs": [],
   "source": [
    "d3 = d2.copy() # copy element from d2 and paste in d3"
   ]
  },
  {
   "cell_type": "code",
   "execution_count": 47,
   "id": "445a802a-b328-438f-9dee-9757885d2b47",
   "metadata": {},
   "outputs": [
    {
     "data": {
      "text/plain": [
       "{'name': 'rehan', 'age': 20}"
      ]
     },
     "execution_count": 47,
     "metadata": {},
     "output_type": "execute_result"
    }
   ],
   "source": [
    "d2"
   ]
  },
  {
   "cell_type": "code",
   "execution_count": 48,
   "id": "4763244e-d356-438f-bff8-bd3869625798",
   "metadata": {},
   "outputs": [
    {
     "data": {
      "text/plain": [
       "{'name': 'rehan', 'age': 20}"
      ]
     },
     "execution_count": 48,
     "metadata": {},
     "output_type": "execute_result"
    }
   ],
   "source": [
    "d3"
   ]
  },
  {
   "cell_type": "code",
   "execution_count": 49,
   "id": "0e533a34-8bae-4095-9044-f45b62f3b74b",
   "metadata": {},
   "outputs": [],
   "source": [
    "# Dict Completed."
   ]
  },
  {
   "cell_type": "markdown",
   "id": "435a187d-e8ff-4445-aab3-3c03621e0d04",
   "metadata": {},
   "source": [
    "SET"
   ]
  },
  {
   "cell_type": "code",
   "execution_count": 50,
   "id": "77603f13-3437-459f-9dc8-3a461ef0ba63",
   "metadata": {},
   "outputs": [],
   "source": [
    "# set is an unordered collection of elements enclosed in {}.\n",
    "# duplicate  are not allowed in set."
   ]
  },
  {
   "cell_type": "code",
   "execution_count": 57,
   "id": "7040c587-22f7-41ab-a501-7bd014b22017",
   "metadata": {},
   "outputs": [],
   "source": [
    "s1 = {1,\"rehan\",False,} # creating a set"
   ]
  },
  {
   "cell_type": "code",
   "execution_count": 58,
   "id": "119d3990-8a41-43fe-b4a4-0a42b07ec38e",
   "metadata": {},
   "outputs": [
    {
     "data": {
      "text/plain": [
       "{1, False, 'rehan'}"
      ]
     },
     "execution_count": 58,
     "metadata": {},
     "output_type": "execute_result"
    }
   ],
   "source": [
    "s1"
   ]
  },
  {
   "cell_type": "code",
   "execution_count": 59,
   "id": "d25fdbf7-fab4-4f4a-83e3-baa0914ff060",
   "metadata": {},
   "outputs": [],
   "source": [
    "s1.add(\"hey\") # adding new element"
   ]
  },
  {
   "cell_type": "code",
   "execution_count": 60,
   "id": "75f55c02-affc-48ba-b471-3f5abdd78d8a",
   "metadata": {},
   "outputs": [
    {
     "data": {
      "text/plain": [
       "{1, False, 'hey', 'rehan'}"
      ]
     },
     "execution_count": 60,
     "metadata": {},
     "output_type": "execute_result"
    }
   ],
   "source": [
    "s1"
   ]
  },
  {
   "cell_type": "code",
   "execution_count": 61,
   "id": "84e5739e-2d9e-4420-9e3a-704f56fc0016",
   "metadata": {},
   "outputs": [],
   "source": [
    "s1.remove(False) # removing elemnt from set"
   ]
  },
  {
   "cell_type": "code",
   "execution_count": 62,
   "id": "69bd446b-14ae-43bc-bbf5-a11f39533d37",
   "metadata": {},
   "outputs": [
    {
     "data": {
      "text/plain": [
       "{1, 'hey', 'rehan'}"
      ]
     },
     "execution_count": 62,
     "metadata": {},
     "output_type": "execute_result"
    }
   ],
   "source": [
    "s1"
   ]
  },
  {
   "cell_type": "code",
   "execution_count": 63,
   "id": "3360e4c8-b871-4cf7-8892-5446dd0c5973",
   "metadata": {},
   "outputs": [],
   "source": [
    "# functions"
   ]
  },
  {
   "cell_type": "code",
   "execution_count": 64,
   "id": "54d8b5da-4c00-46b2-ad5d-4bdae8ea54c1",
   "metadata": {},
   "outputs": [
    {
     "data": {
      "text/plain": [
       "{1, 'hey', 'rehan'}"
      ]
     },
     "execution_count": 64,
     "metadata": {},
     "output_type": "execute_result"
    }
   ],
   "source": [
    "s1"
   ]
  },
  {
   "cell_type": "code",
   "execution_count": 65,
   "id": "3b1959ca-6771-4cba-bdbc-ee1f682a940c",
   "metadata": {},
   "outputs": [],
   "source": [
    "s2 = {\"hello\",20,} # creating another set"
   ]
  },
  {
   "cell_type": "code",
   "execution_count": 66,
   "id": "03527e2f-db54-4e66-9882-b9bd15f8939f",
   "metadata": {},
   "outputs": [
    {
     "data": {
      "text/plain": [
       "{20, 'hello'}"
      ]
     },
     "execution_count": 66,
     "metadata": {},
     "output_type": "execute_result"
    }
   ],
   "source": [
    "s2"
   ]
  },
  {
   "cell_type": "code",
   "execution_count": 67,
   "id": "17e5e17b-e576-40b5-a0db-ee87ca75b716",
   "metadata": {},
   "outputs": [
    {
     "data": {
      "text/plain": [
       "{1, 20, 'hello', 'hey', 'rehan'}"
      ]
     },
     "execution_count": 67,
     "metadata": {},
     "output_type": "execute_result"
    }
   ],
   "source": [
    "s1.union(s2) # appending s2 into s1."
   ]
  },
  {
   "cell_type": "code",
   "execution_count": 72,
   "id": "bb4c36a5-0eb3-428a-a344-64ce301b612d",
   "metadata": {},
   "outputs": [],
   "source": [
    "new1 = {1,2,3,4,5}"
   ]
  },
  {
   "cell_type": "code",
   "execution_count": 73,
   "id": "773516d7-de8b-4e4e-a345-31c423f195ab",
   "metadata": {},
   "outputs": [
    {
     "data": {
      "text/plain": [
       "{1, 2, 3, 4, 5}"
      ]
     },
     "execution_count": 73,
     "metadata": {},
     "output_type": "execute_result"
    }
   ],
   "source": [
    "new1"
   ]
  },
  {
   "cell_type": "code",
   "execution_count": 74,
   "id": "75345442-ef03-4671-9dca-ba8452e13bde",
   "metadata": {},
   "outputs": [
    {
     "data": {
      "text/plain": [
       "{1, 2, 3, 4}"
      ]
     },
     "execution_count": 74,
     "metadata": {},
     "output_type": "execute_result"
    }
   ],
   "source": [
    "new2 = {2,1,3,4}\n",
    "new2"
   ]
  },
  {
   "cell_type": "code",
   "execution_count": 75,
   "id": "4c89add3-b78a-4050-9431-2bd0525e477b",
   "metadata": {},
   "outputs": [
    {
     "data": {
      "text/plain": [
       "{1, 2, 3, 4}"
      ]
     },
     "execution_count": 75,
     "metadata": {},
     "output_type": "execute_result"
    }
   ],
   "source": [
    "new1.intersection(new2) # finding common values between two sets"
   ]
  },
  {
   "cell_type": "code",
   "execution_count": 76,
   "id": "9d577a7c-4bf1-4643-8aac-8e9f15e87b42",
   "metadata": {},
   "outputs": [],
   "source": [
    "new1.update([10,20,30]) # adding multiple elemet "
   ]
  },
  {
   "cell_type": "code",
   "execution_count": 77,
   "id": "b380a6b5-1b91-4549-a601-3266be6bbd6b",
   "metadata": {},
   "outputs": [
    {
     "data": {
      "text/plain": [
       "{1, 2, 3, 4, 5, 10, 20, 30}"
      ]
     },
     "execution_count": 77,
     "metadata": {},
     "output_type": "execute_result"
    }
   ],
   "source": [
    "new1"
   ]
  },
  {
   "cell_type": "code",
   "execution_count": 78,
   "id": "5415ef4e-72a4-4a08-a8e2-eb373264c3d3",
   "metadata": {},
   "outputs": [],
   "source": [
    "new1.clear() # clear all set elemts"
   ]
  },
  {
   "cell_type": "code",
   "execution_count": 79,
   "id": "119135e7-b203-4292-84d1-bd7ef49ac907",
   "metadata": {},
   "outputs": [
    {
     "data": {
      "text/plain": [
       "set()"
      ]
     },
     "execution_count": 79,
     "metadata": {},
     "output_type": "execute_result"
    }
   ],
   "source": [
    "new1"
   ]
  },
  {
   "cell_type": "code",
   "execution_count": null,
   "id": "b3c5e88c-7170-41f5-b9fd-fa2b125a59d5",
   "metadata": {},
   "outputs": [],
   "source": []
  }
 ],
 "metadata": {
  "kernelspec": {
   "display_name": "Python 3 (ipykernel)",
   "language": "python",
   "name": "python3"
  },
  "language_info": {
   "codemirror_mode": {
    "name": "ipython",
    "version": 3
   },
   "file_extension": ".py",
   "mimetype": "text/x-python",
   "name": "python",
   "nbconvert_exporter": "python",
   "pygments_lexer": "ipython3",
   "version": "3.12.7"
  }
 },
 "nbformat": 4,
 "nbformat_minor": 5
}
