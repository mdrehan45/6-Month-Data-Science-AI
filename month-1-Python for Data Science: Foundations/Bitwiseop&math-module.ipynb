{
 "cells": [
  {
   "cell_type": "markdown",
   "id": "4c33e65a-1bf9-4950-bc89-70906df25e8b",
   "metadata": {},
   "source": [
    "Bitwise Operator"
   ]
  },
  {
   "cell_type": "code",
   "execution_count": 1,
   "id": "6774434c-f36f-40b7-824e-b9cca1fb4f5a",
   "metadata": {},
   "outputs": [],
   "source": [
    "a,b = 30,15"
   ]
  },
  {
   "cell_type": "code",
   "execution_count": 2,
   "id": "ea8d89a6-af61-420b-8ddf-ec6d19f71f84",
   "metadata": {},
   "outputs": [
    {
     "name": "stdout",
     "output_type": "stream",
     "text": [
      "0b11110\n",
      "0b1111\n"
     ]
    }
   ],
   "source": [
    "print(bin(a))\n",
    "print(bin(b))"
   ]
  },
  {
   "cell_type": "code",
   "execution_count": 7,
   "id": "a90f39b4-ac23-4600-a88e-7ef7734fbc7e",
   "metadata": {},
   "outputs": [
    {
     "data": {
      "text/plain": [
       "14"
      ]
     },
     "execution_count": 7,
     "metadata": {},
     "output_type": "execute_result"
    }
   ],
   "source": [
    "a & b # 1 if both bits are 1\t"
   ]
  },
  {
   "cell_type": "code",
   "execution_count": 8,
   "id": "268ee3bf-7617-41c6-a8cb-f17789175175",
   "metadata": {},
   "outputs": [
    {
     "data": {
      "text/plain": [
       "'0b1110'"
      ]
     },
     "execution_count": 8,
     "metadata": {},
     "output_type": "execute_result"
    }
   ],
   "source": [
    "bin(14)"
   ]
  },
  {
   "cell_type": "code",
   "execution_count": 11,
   "id": "c6d73945-787d-4169-a470-42b8e97cb9f2",
   "metadata": {},
   "outputs": [
    {
     "data": {
      "text/plain": [
       "31"
      ]
     },
     "execution_count": 11,
     "metadata": {},
     "output_type": "execute_result"
    }
   ],
   "source": [
    "a | b  # 1 if at least one bit is 1\t"
   ]
  },
  {
   "cell_type": "code",
   "execution_count": 12,
   "id": "bd78248c-29b8-4f88-9d87-d0c8616db1f2",
   "metadata": {},
   "outputs": [
    {
     "data": {
      "text/plain": [
       "'0b11111'"
      ]
     },
     "execution_count": 12,
     "metadata": {},
     "output_type": "execute_result"
    }
   ],
   "source": [
    "bin(31)"
   ]
  },
  {
   "cell_type": "code",
   "execution_count": 16,
   "id": "8bed6d8b-83ef-43f3-9b1f-4d836a8636c7",
   "metadata": {},
   "outputs": [
    {
     "data": {
      "text/plain": [
       "-31"
      ]
     },
     "execution_count": 16,
     "metadata": {},
     "output_type": "execute_result"
    }
   ],
   "source": [
    "~ 30"
   ]
  },
  {
   "cell_type": "code",
   "execution_count": 17,
   "id": "27bb258b-9360-453c-a488-38d05b85fb11",
   "metadata": {},
   "outputs": [
    {
     "data": {
      "text/plain": [
       "-26"
      ]
     },
     "execution_count": 17,
     "metadata": {},
     "output_type": "execute_result"
    }
   ],
   "source": [
    "~25"
   ]
  },
  {
   "cell_type": "code",
   "execution_count": 18,
   "id": "3f12a183-29db-4e66-8000-964b01266604",
   "metadata": {},
   "outputs": [],
   "source": [
    "# ~ It changes 1 to 0 and 0 to 1"
   ]
  },
  {
   "cell_type": "code",
   "execution_count": 20,
   "id": "13c36187-5546-461c-bae6-8b36e7165ff2",
   "metadata": {},
   "outputs": [
    {
     "name": "stdout",
     "output_type": "stream",
     "text": [
      "0b11110\n",
      "0b11111\n"
     ]
    }
   ],
   "source": [
    "print(bin(30))\n",
    "print(bin(31))"
   ]
  },
  {
   "cell_type": "code",
   "execution_count": 21,
   "id": "f39ba78a-341d-4465-8880-fca360ac67ea",
   "metadata": {},
   "outputs": [
    {
     "data": {
      "text/plain": [
       "1"
      ]
     },
     "execution_count": 21,
     "metadata": {},
     "output_type": "execute_result"
    }
   ],
   "source": [
    "30 ^ 31"
   ]
  },
  {
   "cell_type": "code",
   "execution_count": 22,
   "id": "09d2b0b3-eecf-4259-993a-17cc4709dd02",
   "metadata": {},
   "outputs": [
    {
     "data": {
      "text/plain": [
       "'0b1'"
      ]
     },
     "execution_count": 22,
     "metadata": {},
     "output_type": "execute_result"
    }
   ],
   "source": [
    "bin(1)"
   ]
  },
  {
   "cell_type": "code",
   "execution_count": 23,
   "id": "aa421f0e-4e8e-4de7-beca-ca0ff665f5c5",
   "metadata": {},
   "outputs": [],
   "source": [
    "# 1 if the bits are different\n",
    "# 0 if the bits are same"
   ]
  },
  {
   "cell_type": "raw",
   "id": "21251ae6-326a-4574-9fe1-9e22ddf34324",
   "metadata": {},
   "source": [
    "left shift"
   ]
  },
  {
   "cell_type": "code",
   "execution_count": 25,
   "id": "98c3a865-18f4-4a09-9519-d46a0b694524",
   "metadata": {},
   "outputs": [],
   "source": [
    "# Shifts bits left (adds 0s at right)\t"
   ]
  },
  {
   "cell_type": "code",
   "execution_count": 26,
   "id": "e4ebca50-e9c4-41af-8475-544bc403d53f",
   "metadata": {},
   "outputs": [
    {
     "data": {
      "text/plain": [
       "'0b1010'"
      ]
     },
     "execution_count": 26,
     "metadata": {},
     "output_type": "execute_result"
    }
   ],
   "source": [
    "bin(10)"
   ]
  },
  {
   "cell_type": "code",
   "execution_count": 27,
   "id": "deacfe9e-04ae-4857-b2e2-ace74c1d755f",
   "metadata": {},
   "outputs": [
    {
     "data": {
      "text/plain": [
       "20"
      ]
     },
     "execution_count": 27,
     "metadata": {},
     "output_type": "execute_result"
    }
   ],
   "source": [
    "10 << 1"
   ]
  },
  {
   "cell_type": "code",
   "execution_count": 28,
   "id": "fd6b7155-e2b3-4b89-8a88-a527a79c0952",
   "metadata": {},
   "outputs": [
    {
     "data": {
      "text/plain": [
       "'0b10100'"
      ]
     },
     "execution_count": 28,
     "metadata": {},
     "output_type": "execute_result"
    }
   ],
   "source": [
    "bin(20)"
   ]
  },
  {
   "cell_type": "code",
   "execution_count": 29,
   "id": "1e90d470-1421-486b-b5b5-7309a570a28c",
   "metadata": {},
   "outputs": [
    {
     "data": {
      "text/plain": [
       "40"
      ]
     },
     "execution_count": 29,
     "metadata": {},
     "output_type": "execute_result"
    }
   ],
   "source": [
    "10 << 2"
   ]
  },
  {
   "cell_type": "code",
   "execution_count": 30,
   "id": "c7e8c823-4917-4029-893f-a44979f54dbb",
   "metadata": {},
   "outputs": [
    {
     "data": {
      "text/plain": [
       "'0b10100'"
      ]
     },
     "execution_count": 30,
     "metadata": {},
     "output_type": "execute_result"
    }
   ],
   "source": [
    "bin(20)"
   ]
  },
  {
   "cell_type": "raw",
   "id": "13eda022-c4b9-47fc-acba-7ba01396a2fb",
   "metadata": {},
   "source": [
    "Right Shift"
   ]
  },
  {
   "cell_type": "code",
   "execution_count": 31,
   "id": "7274db47-5086-4298-8dbf-f75691090eb6",
   "metadata": {},
   "outputs": [],
   "source": [
    "# Shifts bits right (drops bits at right)\t"
   ]
  },
  {
   "cell_type": "code",
   "execution_count": 32,
   "id": "1ed904a8-2b3a-47de-8794-2fc168eede28",
   "metadata": {},
   "outputs": [
    {
     "data": {
      "text/plain": [
       "'0b1010'"
      ]
     },
     "execution_count": 32,
     "metadata": {},
     "output_type": "execute_result"
    }
   ],
   "source": [
    "bin(10)"
   ]
  },
  {
   "cell_type": "code",
   "execution_count": 33,
   "id": "6c1a2b67-b60b-438c-9e1a-4b87b9c7d13d",
   "metadata": {},
   "outputs": [
    {
     "data": {
      "text/plain": [
       "5"
      ]
     },
     "execution_count": 33,
     "metadata": {},
     "output_type": "execute_result"
    }
   ],
   "source": [
    "10 >> 1"
   ]
  },
  {
   "cell_type": "code",
   "execution_count": 34,
   "id": "cdd04606-54bf-44be-a454-14881b2cd90c",
   "metadata": {},
   "outputs": [
    {
     "data": {
      "text/plain": [
       "'0b101'"
      ]
     },
     "execution_count": 34,
     "metadata": {},
     "output_type": "execute_result"
    }
   ],
   "source": [
    "bin(5)"
   ]
  },
  {
   "cell_type": "markdown",
   "id": "ab3c000c-9705-4056-8b0b-ab83cd37cb84",
   "metadata": {},
   "source": [
    "Import Math Module"
   ]
  },
  {
   "cell_type": "code",
   "execution_count": 35,
   "id": "12dda43b-4152-4936-8453-e451ceffcbd1",
   "metadata": {},
   "outputs": [
    {
     "ename": "NameError",
     "evalue": "name 'sqrt' is not defined",
     "output_type": "error",
     "traceback": [
      "\u001b[1;31m---------------------------------------------------------------------------\u001b[0m",
      "\u001b[1;31mNameError\u001b[0m                                 Traceback (most recent call last)",
      "Cell \u001b[1;32mIn[35], line 1\u001b[0m\n\u001b[1;32m----> 1\u001b[0m x \u001b[38;5;241m=\u001b[39m sqrt(\u001b[38;5;241m20\u001b[39m)\n",
      "\u001b[1;31mNameError\u001b[0m: name 'sqrt' is not defined"
     ]
    }
   ],
   "source": [
    "x = sqrt(20) # error cuz we need to import math "
   ]
  },
  {
   "cell_type": "code",
   "execution_count": 36,
   "id": "76a00bca-505f-464f-9132-272979c10d9d",
   "metadata": {},
   "outputs": [],
   "source": [
    "import math"
   ]
  },
  {
   "cell_type": "code",
   "execution_count": 38,
   "id": "e8241fc8-8226-4af1-ad9a-35d4507de6ed",
   "metadata": {},
   "outputs": [
    {
     "data": {
      "text/plain": [
       "4.47213595499958"
      ]
     },
     "execution_count": 38,
     "metadata": {},
     "output_type": "execute_result"
    }
   ],
   "source": [
    "math.sqrt(20)"
   ]
  },
  {
   "cell_type": "code",
   "execution_count": 39,
   "id": "d8042ff8-0a2b-4c4a-aa6d-2df06b20592d",
   "metadata": {},
   "outputs": [
    {
     "data": {
      "text/plain": [
       "5.0"
      ]
     },
     "execution_count": 39,
     "metadata": {},
     "output_type": "execute_result"
    }
   ],
   "source": [
    "math.sqrt(25)"
   ]
  },
  {
   "cell_type": "code",
   "execution_count": 40,
   "id": "0900b6a1-c99d-4e8e-9a94-f5efc30a3ae6",
   "metadata": {},
   "outputs": [
    {
     "data": {
      "text/plain": [
       "2"
      ]
     },
     "execution_count": 40,
     "metadata": {},
     "output_type": "execute_result"
    }
   ],
   "source": [
    "math.floor(2.9)"
   ]
  },
  {
   "cell_type": "code",
   "execution_count": 41,
   "id": "ce3d331a-dd85-4ad5-ad43-11e67eeeb948",
   "metadata": {},
   "outputs": [
    {
     "data": {
      "text/plain": [
       "3"
      ]
     },
     "execution_count": 41,
     "metadata": {},
     "output_type": "execute_result"
    }
   ],
   "source": [
    "math.ceil(2.9)"
   ]
  },
  {
   "cell_type": "code",
   "execution_count": 42,
   "id": "583b3e58-ca66-45f7-9b25-2087c9739340",
   "metadata": {},
   "outputs": [
    {
     "data": {
      "text/plain": [
       "9.0"
      ]
     },
     "execution_count": 42,
     "metadata": {},
     "output_type": "execute_result"
    }
   ],
   "source": [
    "math.pow(3,2)"
   ]
  },
  {
   "cell_type": "code",
   "execution_count": 43,
   "id": "1c3d9bb9-3c2a-4197-a445-34ee468c85ce",
   "metadata": {},
   "outputs": [
    {
     "data": {
      "text/plain": [
       "8.0"
      ]
     },
     "execution_count": 43,
     "metadata": {},
     "output_type": "execute_result"
    }
   ],
   "source": [
    "math.pow(2,3)"
   ]
  },
  {
   "cell_type": "code",
   "execution_count": 45,
   "id": "ffad6a5d-34fb-4311-b5d0-3b9cabfd02f2",
   "metadata": {},
   "outputs": [
    {
     "data": {
      "text/plain": [
       "8"
      ]
     },
     "execution_count": 45,
     "metadata": {},
     "output_type": "execute_result"
    }
   ],
   "source": [
    "round(math.pow(2,3))"
   ]
  },
  {
   "cell_type": "code",
   "execution_count": 46,
   "id": "f6cfbb3d-9060-4eff-80fe-3ea856b9e2b1",
   "metadata": {},
   "outputs": [],
   "source": [
    "# we can import in this way"
   ]
  },
  {
   "cell_type": "code",
   "execution_count": 47,
   "id": "7d443f4f-7320-4688-b7ea-3c6a0dba342f",
   "metadata": {},
   "outputs": [],
   "source": [
    "from math import *"
   ]
  },
  {
   "cell_type": "code",
   "execution_count": 48,
   "id": "506305d7-55d3-42c0-a4f6-6e767454818d",
   "metadata": {},
   "outputs": [
    {
     "name": "stdout",
     "output_type": "stream",
     "text": [
      "5.477225575051661\n"
     ]
    }
   ],
   "source": [
    "print(sqrt(30))"
   ]
  },
  {
   "cell_type": "code",
   "execution_count": 49,
   "id": "652656ef-53fb-4535-b8bf-1c4e68b1ce4a",
   "metadata": {},
   "outputs": [
    {
     "name": "stdout",
     "output_type": "stream",
     "text": [
      "8.0\n"
     ]
    }
   ],
   "source": [
    "print(pow(2,3))"
   ]
  }
 ],
 "metadata": {
  "kernelspec": {
   "display_name": "Python 3 (ipykernel)",
   "language": "python",
   "name": "python3"
  },
  "language_info": {
   "codemirror_mode": {
    "name": "ipython",
    "version": 3
   },
   "file_extension": ".py",
   "mimetype": "text/x-python",
   "name": "python",
   "nbconvert_exporter": "python",
   "pygments_lexer": "ipython3",
   "version": "3.12.7"
  }
 },
 "nbformat": 4,
 "nbformat_minor": 5
}
