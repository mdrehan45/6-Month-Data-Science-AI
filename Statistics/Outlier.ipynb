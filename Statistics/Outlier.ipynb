{
 "cells": [
  {
   "cell_type": "markdown",
   "id": "fc128c5d-6ec8-4a33-aa93-ec93b8d743e2",
   "metadata": {},
   "source": [
    "Importing Labraires"
   ]
  },
  {
   "cell_type": "code",
   "execution_count": 2,
   "id": "de3b01ab-5f82-43a8-b336-0198e0748364",
   "metadata": {},
   "outputs": [],
   "source": [
    "import numpy as np\n",
    "import seaborn as sns"
   ]
  },
  {
   "cell_type": "markdown",
   "id": "bbc55b15-1670-4606-9d39-b5722e61ee99",
   "metadata": {},
   "source": [
    "Creating Array"
   ]
  },
  {
   "cell_type": "code",
   "execution_count": 5,
   "id": "4a9c480b-7ced-4ec4-9a65-e943d7eab675",
   "metadata": {},
   "outputs": [],
   "source": [
    "arr = np.array([2,4,6,8,10,12,14,16,18,20,100])"
   ]
  },
  {
   "cell_type": "code",
   "execution_count": 6,
   "id": "947515b2-93e3-414c-ba02-786d889fa622",
   "metadata": {},
   "outputs": [
    {
     "data": {
      "text/plain": [
       "array([  2,   4,   6,   8,  10,  12,  14,  16,  18,  20, 100])"
      ]
     },
     "execution_count": 6,
     "metadata": {},
     "output_type": "execute_result"
    }
   ],
   "source": [
    "arr"
   ]
  },
  {
   "cell_type": "markdown",
   "id": "61249a65-d8c9-4da1-8295-a427eff9bbce",
   "metadata": {},
   "source": [
    "Calculating Q1,Q3"
   ]
  },
  {
   "cell_type": "code",
   "execution_count": 9,
   "id": "a1026ce7-12d0-47cf-8f6b-17f090661631",
   "metadata": {},
   "outputs": [],
   "source": [
    "Q1 = np.percentile(arr,25)\n",
    "Q3 = np.percentile(arr,75)"
   ]
  },
  {
   "cell_type": "code",
   "execution_count": 10,
   "id": "b6ab9a4e-0c91-4020-bcf9-757630e3a86e",
   "metadata": {},
   "outputs": [],
   "source": [
    "IQR = Q3-Q1"
   ]
  },
  {
   "cell_type": "code",
   "execution_count": 11,
   "id": "895b8c5e-4917-4628-b994-354e056988c1",
   "metadata": {},
   "outputs": [
    {
     "data": {
      "text/plain": [
       "10.0"
      ]
     },
     "execution_count": 11,
     "metadata": {},
     "output_type": "execute_result"
    }
   ],
   "source": [
    "IQR"
   ]
  },
  {
   "cell_type": "markdown",
   "id": "d274f9ce-1604-4dff-a9bb-9114877a31df",
   "metadata": {},
   "source": [
    "Removing Outlier"
   ]
  },
  {
   "cell_type": "code",
   "execution_count": 14,
   "id": "f212e1fe-2361-4ac9-9dcf-0976060ba6dd",
   "metadata": {},
   "outputs": [],
   "source": [
    "UF = Q3+(1.5*IQR)"
   ]
  },
  {
   "cell_type": "code",
   "execution_count": 15,
   "id": "be58d301-b5a9-438c-b576-e0166cd6d61f",
   "metadata": {},
   "outputs": [
    {
     "data": {
      "text/plain": [
       "32.0"
      ]
     },
     "execution_count": 15,
     "metadata": {},
     "output_type": "execute_result"
    }
   ],
   "source": [
    "UF"
   ]
  },
  {
   "cell_type": "code",
   "execution_count": 16,
   "id": "2123dc23-39b3-4a13-98f7-3c02e6726745",
   "metadata": {},
   "outputs": [
    {
     "data": {
      "text/plain": [
       "-8.0"
      ]
     },
     "execution_count": 16,
     "metadata": {},
     "output_type": "execute_result"
    }
   ],
   "source": [
    "LF = Q1-(1.5*IQR)\n",
    "LF"
   ]
  },
  {
   "cell_type": "code",
   "execution_count": 17,
   "id": "dbcb9715-2b20-46ab-81ef-ccdfed8c54f6",
   "metadata": {},
   "outputs": [],
   "source": [
    "l = []"
   ]
  },
  {
   "cell_type": "code",
   "execution_count": 18,
   "id": "1308976f-d0ac-4e14-92f5-9d4f302955a2",
   "metadata": {},
   "outputs": [],
   "source": [
    "for i in arr:\n",
    "    if i>=LF and i<=UP:\n",
    "        l.append(i)\n",
    "        \n",
    "        "
   ]
  },
  {
   "cell_type": "code",
   "execution_count": 19,
   "id": "a23eaa80-02da-42f1-9070-9374fd763bf9",
   "metadata": {},
   "outputs": [
    {
     "data": {
      "text/plain": [
       "[2, 4, 6, 8, 10, 12, 14, 16, 18, 20]"
      ]
     },
     "execution_count": 19,
     "metadata": {},
     "output_type": "execute_result"
    }
   ],
   "source": [
    "l"
   ]
  },
  {
   "cell_type": "code",
   "execution_count": 20,
   "id": "bef25121-212b-49e1-a3f6-c806d3876d31",
   "metadata": {},
   "outputs": [],
   "source": [
    "arr2 = np.array(l)"
   ]
  },
  {
   "cell_type": "code",
   "execution_count": 21,
   "id": "af5765e3-726a-4090-8b20-4ec924211620",
   "metadata": {},
   "outputs": [
    {
     "data": {
      "text/plain": [
       "array([ 2,  4,  6,  8, 10, 12, 14, 16, 18, 20])"
      ]
     },
     "execution_count": 21,
     "metadata": {},
     "output_type": "execute_result"
    }
   ],
   "source": [
    "arr2"
   ]
  },
  {
   "cell_type": "markdown",
   "id": "173c6568-ceb5-499d-82ef-7de921c3454c",
   "metadata": {},
   "source": [
    "Creating Box Plot With Outlier"
   ]
  },
  {
   "cell_type": "code",
   "execution_count": 23,
   "id": "41f3523f-0b3b-433d-8106-c0220f3329d8",
   "metadata": {},
   "outputs": [
    {
     "data": {
      "text/plain": [
       "<Axes: >"
      ]
     },
     "execution_count": 23,
     "metadata": {},
     "output_type": "execute_result"
    },
    {
     "data": {
      "image/png": "[encoded data removed]",
      "text/plain": [
       "<Figure size 640x480 with 1 Axes>"
      ]
     },
     "metadata": {},
     "output_type": "display_data"
    }
   ],
   "source": [
    "sns.boxplot(x=arr)"
   ]
  },
  {
   "cell_type": "markdown",
   "id": "8dae1f08-415d-420a-adac-9e72e95caeb7",
   "metadata": {},
   "source": [
    "Creating Box Plot Without Outlier"
   ]
  },
  {
   "cell_type": "code",
   "execution_count": 24,
   "id": "b94bc87f-dbcc-4eb4-bab8-1b05b5c13edc",
   "metadata": {},
   "outputs": [
    {
     "data": {
      "text/plain": [
       "<Axes: >"
      ]
     },
     "execution_count": 24,
     "metadata": {},
     "output_type": "execute_result"
    },
    {
     "data": {
      "image/png": "[encoded data removed]",
      "text/plain": [
       "<Figure size 640x480 with 1 Axes>"
      ]
     },
     "metadata": {},
     "output_type": "display_data"
    }
   ],
   "source": [
    "sns.boxplot(x=arr2)"
   ]
  },
  {
   "cell_type": "markdown",
   "id": "f88156eb-8365-4eb2-b217-242e45d1bf11",
   "metadata": {},
   "source": [
    "* 5 Number Summary :-\n",
    "  - Min = 2\n",
    "  - Q1 = 6\n",
    "  - Q2 = 11\n",
    "  - Q3 = 16\n",
    "  - max = 20\n",
    "    "
   ]
  },
  {
   "cell_type": "code",
   "execution_count": null,
   "id": "f485dfd6-bacc-4d80-97dd-e14fd048c812",
   "metadata": {},
   "outputs": [],
   "source": []
  }
 ],
 "metadata": {
  "kernelspec": {
   "display_name": "Python 3 (ipykernel)",
   "language": "python",
   "name": "python3"
  },
  "language_info": {
   "codemirror_mode": {
    "name": "ipython",
    "version": 3
   },
   "file_extension": ".py",
   "mimetype": "text/x-python",
   "name": "python",
   "nbconvert_exporter": "python",
   "pygments_lexer": "ipython3",
   "version": "3.12.7"
  }
 },
 "nbformat": 4,
 "nbformat_minor": 5
}
