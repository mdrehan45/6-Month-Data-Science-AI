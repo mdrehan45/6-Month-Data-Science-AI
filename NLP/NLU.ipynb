{
 "cells": [
  {
   "cell_type": "code",
   "execution_count": 8,
   "id": "2d3fb3de-ae5d-4473-a0ab-e12a3bc5b53d",
   "metadata": {},
   "outputs": [
    {
     "name": "stdout",
     "output_type": "stream",
     "text": [
      "showing info https://raw.githubusercontent.com/nltk/nltk_data/gh-pages/index.xml\n"
     ]
    },
    {
     "data": {
      "text/plain": [
       "True"
      ]
     },
     "execution_count": 8,
     "metadata": {},
     "output_type": "execute_result"
    }
   ],
   "source": [
    "import os\n",
    "import nltk\n",
    "\n",
    "nltk.download()  # Opens the NLTK Downloader GUI\n"
   ]
  },
  {
   "cell_type": "markdown",
   "id": "d2945bbe-36a5-4057-83ae-dd9ef26803ff",
   "metadata": {},
   "source": [
    "## NLU"
   ]
  },
  {
   "cell_type": "markdown",
   "id": "5c01eba4-1c25-4e7d-9eef-d7e20678902f",
   "metadata": {},
   "source": [
    "## token = words"
   ]
  },
  {
   "cell_type": "code",
   "execution_count": 52,
   "id": "9e382ef1-874d-4e15-80c8-f949e1f5b76f",
   "metadata": {},
   "outputs": [],
   "source": [
    "AI = '''Artificial Intelligence refers to the intelligence of machines. This is in contrast to the natural intelligence of\n",
    "humans and animals. With Artificial Intelligence, machines perform functions such as learning, planning, reasoning and\n",
    "problem-solving. Most noteworthy, Artificial Intelligence is the simulation of human intelligence by machines.\n",
    "It is probably the fastest-growing development in the World of technology and innovation. Furthermore, many experts believe\n",
    "AI could solve major challenges and crisis situations.'''"
   ]
  },
  {
   "cell_type": "markdown",
   "id": "04fe2732-aa9d-4d81-92c9-11036e99da53",
   "metadata": {},
   "source": [
    "## Words"
   ]
  },
  {
   "cell_type": "code",
   "execution_count": 53,
   "id": "41835de1-7e65-419d-b961-7200dae821a9",
   "metadata": {},
   "outputs": [
    {
     "data": {
      "text/plain": [
       "['Artificial',\n",
       " 'Intelligence',\n",
       " 'refers',\n",
       " 'to',\n",
       " 'the',\n",
       " 'intelligence',\n",
       " 'of',\n",
       " 'machines',\n",
       " '.',\n",
       " 'This',\n",
       " 'is',\n",
       " 'in',\n",
       " 'contrast',\n",
       " 'to',\n",
       " 'the',\n",
       " 'natural',\n",
       " 'intelligence',\n",
       " 'of',\n",
       " 'humans',\n",
       " 'and',\n",
       " 'animals',\n",
       " '.',\n",
       " 'With',\n",
       " 'Artificial',\n",
       " 'Intelligence',\n",
       " ',',\n",
       " 'machines',\n",
       " 'perform',\n",
       " 'functions',\n",
       " 'such',\n",
       " 'as',\n",
       " 'learning',\n",
       " ',',\n",
       " 'planning',\n",
       " ',',\n",
       " 'reasoning',\n",
       " 'and',\n",
       " 'problem-solving',\n",
       " '.',\n",
       " 'Most',\n",
       " 'noteworthy',\n",
       " ',',\n",
       " 'Artificial',\n",
       " 'Intelligence',\n",
       " 'is',\n",
       " 'the',\n",
       " 'simulation',\n",
       " 'of',\n",
       " 'human',\n",
       " 'intelligence',\n",
       " 'by',\n",
       " 'machines',\n",
       " '.',\n",
       " 'It',\n",
       " 'is',\n",
       " 'probably',\n",
       " 'the',\n",
       " 'fastest-growing',\n",
       " 'development',\n",
       " 'in',\n",
       " 'the',\n",
       " 'World',\n",
       " 'of',\n",
       " 'technology',\n",
       " 'and',\n",
       " 'innovation',\n",
       " '.',\n",
       " 'Furthermore',\n",
       " ',',\n",
       " 'many',\n",
       " 'experts',\n",
       " 'believe',\n",
       " 'AI',\n",
       " 'could',\n",
       " 'solve',\n",
       " 'major',\n",
       " 'challenges',\n",
       " 'and',\n",
       " 'crisis',\n",
       " 'situations',\n",
       " '.']"
      ]
     },
     "execution_count": 53,
     "metadata": {},
     "output_type": "execute_result"
    }
   ],
   "source": [
    "from nltk.tokenize import word_tokenize\n",
    "Ai_word = word_tokenize(AI)\n",
    "Ai_word"
   ]
  },
  {
   "cell_type": "code",
   "execution_count": 54,
   "id": "7bce7cff-344e-420b-8068-28324f4bf1f0",
   "metadata": {},
   "outputs": [
    {
     "data": {
      "text/plain": [
       "81"
      ]
     },
     "execution_count": 54,
     "metadata": {},
     "output_type": "execute_result"
    }
   ],
   "source": [
    "len(Ai_word)"
   ]
  },
  {
   "cell_type": "code",
   "execution_count": 55,
   "id": "ba96e27c-c89d-41cc-a829-2dba263444c9",
   "metadata": {},
   "outputs": [],
   "source": [
    "# it have , and . also as word"
   ]
  },
  {
   "cell_type": "markdown",
   "id": "8784c99d-105e-437d-9e4c-fdb203c0c40f",
   "metadata": {},
   "source": [
    "## Sentence"
   ]
  },
  {
   "cell_type": "code",
   "execution_count": 56,
   "id": "3c43b666-05a3-4742-84a9-625d6e5c97ab",
   "metadata": {},
   "outputs": [],
   "source": [
    "from nltk.tokenize import sent_tokenize"
   ]
  },
  {
   "cell_type": "code",
   "execution_count": 57,
   "id": "b7f304ba-2c82-412e-87e9-f905ebafe23d",
   "metadata": {},
   "outputs": [
    {
     "data": {
      "text/plain": [
       "['Artificial Intelligence refers to the intelligence of machines.',\n",
       " 'This is in contrast to the natural intelligence of\\nhumans and animals.',\n",
       " 'With Artificial Intelligence, machines perform functions such as learning, planning, reasoning and\\nproblem-solving.',\n",
       " 'Most noteworthy, Artificial Intelligence is the simulation of human intelligence by machines.',\n",
       " 'It is probably the fastest-growing development in the World of technology and innovation.',\n",
       " 'Furthermore, many experts believe\\nAI could solve major challenges and crisis situations.']"
      ]
     },
     "execution_count": 57,
     "metadata": {},
     "output_type": "execute_result"
    }
   ],
   "source": [
    "Ai_sent = sent_tokenize(AI)\n",
    "Ai_sent"
   ]
  },
  {
   "cell_type": "code",
   "execution_count": 58,
   "id": "4720daf0-83b8-46e0-8476-ea9f701b1d7c",
   "metadata": {},
   "outputs": [
    {
     "data": {
      "text/plain": [
       "6"
      ]
     },
     "execution_count": 58,
     "metadata": {},
     "output_type": "execute_result"
    }
   ],
   "source": [
    "len(Ai_sent)"
   ]
  },
  {
   "cell_type": "markdown",
   "id": "0ca7b060-ee1a-405c-88dd-ceed4db1a4a2",
   "metadata": {},
   "source": [
    "## Paragraph"
   ]
  },
  {
   "cell_type": "code",
   "execution_count": 59,
   "id": "a212e702-1be9-4157-b75c-f1274358025a",
   "metadata": {},
   "outputs": [
    {
     "data": {
      "text/plain": [
       "['Artificial Intelligence refers to the intelligence of machines. This is in contrast to the natural intelligence of\\nhumans and animals. With Artificial Intelligence, machines perform functions such as learning, planning, reasoning and\\nproblem-solving. Most noteworthy, Artificial Intelligence is the simulation of human intelligence by machines.\\nIt is probably the fastest-growing development in the World of technology and innovation. Furthermore, many experts believe\\nAI could solve major challenges and crisis situations.']"
      ]
     },
     "execution_count": 59,
     "metadata": {},
     "output_type": "execute_result"
    }
   ],
   "source": [
    "from nltk.tokenize import blankline_tokenize\n",
    "Ai_blank = blankline_tokenize(AI)\n",
    "Ai_blank"
   ]
  },
  {
   "cell_type": "code",
   "execution_count": 60,
   "id": "4e9ad8fb-18b5-4bf2-a96c-68313c702d28",
   "metadata": {},
   "outputs": [
    {
     "data": {
      "text/plain": [
       "1"
      ]
     },
     "execution_count": 60,
     "metadata": {},
     "output_type": "execute_result"
    }
   ],
   "source": [
    "len(Ai_blank)"
   ]
  },
  {
   "cell_type": "code",
   "execution_count": 61,
   "id": "bfc2f9cd-2be1-4b10-ba19-e4693cb7a21f",
   "metadata": {},
   "outputs": [
    {
     "data": {
      "text/plain": [
       "['Artificial',\n",
       " 'Intelligence',\n",
       " 'refers',\n",
       " 'to',\n",
       " 'the',\n",
       " 'intelligence',\n",
       " 'of',\n",
       " 'machines.',\n",
       " 'This',\n",
       " 'is',\n",
       " 'in',\n",
       " 'contrast',\n",
       " 'to',\n",
       " 'the',\n",
       " 'natural',\n",
       " 'intelligence',\n",
       " 'of',\n",
       " 'humans',\n",
       " 'and',\n",
       " 'animals.',\n",
       " 'With',\n",
       " 'Artificial',\n",
       " 'Intelligence,',\n",
       " 'machines',\n",
       " 'perform',\n",
       " 'functions',\n",
       " 'such',\n",
       " 'as',\n",
       " 'learning,',\n",
       " 'planning,',\n",
       " 'reasoning',\n",
       " 'and',\n",
       " 'problem-solving.',\n",
       " 'Most',\n",
       " 'noteworthy,',\n",
       " 'Artificial',\n",
       " 'Intelligence',\n",
       " 'is',\n",
       " 'the',\n",
       " 'simulation',\n",
       " 'of',\n",
       " 'human',\n",
       " 'intelligence',\n",
       " 'by',\n",
       " 'machines.',\n",
       " 'It',\n",
       " 'is',\n",
       " 'probably',\n",
       " 'the',\n",
       " 'fastest-growing',\n",
       " 'development',\n",
       " 'in',\n",
       " 'the',\n",
       " 'World',\n",
       " 'of',\n",
       " 'technology',\n",
       " 'and',\n",
       " 'innovation.',\n",
       " 'Furthermore,',\n",
       " 'many',\n",
       " 'experts',\n",
       " 'believe',\n",
       " 'AI',\n",
       " 'could',\n",
       " 'solve',\n",
       " 'major',\n",
       " 'challenges',\n",
       " 'and',\n",
       " 'crisis',\n",
       " 'situations.']"
      ]
     },
     "execution_count": 61,
     "metadata": {},
     "output_type": "execute_result"
    }
   ],
   "source": [
    "from nltk.tokenize import WhitespaceTokenizer\n",
    "Ai_white = WhitespaceTokenizer().tokenize(AI)\n",
    "Ai_white"
   ]
  },
  {
   "cell_type": "code",
   "execution_count": 62,
   "id": "4b21dc73-9640-4aad-8c11-6c0356777b36",
   "metadata": {},
   "outputs": [
    {
     "data": {
      "text/plain": [
       "70"
      ]
     },
     "execution_count": 62,
     "metadata": {},
     "output_type": "execute_result"
    }
   ],
   "source": [
    "len(Ai_white)"
   ]
  },
  {
   "cell_type": "code",
   "execution_count": 63,
   "id": "63d9f330-bd9f-46b3-9000-a17a082f9d08",
   "metadata": {},
   "outputs": [],
   "source": [
    "# it is clean no , no . "
   ]
  },
  {
   "cell_type": "code",
   "execution_count": 64,
   "id": "c1e1b600-3d8a-42f7-92d2-82bdc4d00e2e",
   "metadata": {},
   "outputs": [
    {
     "data": {
      "text/plain": [
       "' Good apple cost $3.88 in hydrabad . please buy two of them . thanks'"
      ]
     },
     "execution_count": 64,
     "metadata": {},
     "output_type": "execute_result"
    }
   ],
   "source": [
    "s = \" Good apple cost $3.88 in hydrabad . please buy two of them . thanks\"\n",
    "s"
   ]
  },
  {
   "cell_type": "code",
   "execution_count": 65,
   "id": "1dc3c479-7d61-4dcd-a7d5-3b276fd34283",
   "metadata": {},
   "outputs": [
    {
     "data": {
      "text/plain": [
       "['Good',\n",
       " 'apple',\n",
       " 'cost',\n",
       " '$',\n",
       " '3',\n",
       " '.',\n",
       " '88',\n",
       " 'in',\n",
       " 'hydrabad',\n",
       " '.',\n",
       " 'please',\n",
       " 'buy',\n",
       " 'two',\n",
       " 'of',\n",
       " 'them',\n",
       " '.',\n",
       " 'thanks']"
      ]
     },
     "execution_count": 65,
     "metadata": {},
     "output_type": "execute_result"
    }
   ],
   "source": [
    "from nltk.tokenize import wordpunct_tokenize\n",
    "w_s = wordpunct_tokenize(s)\n",
    "w_s"
   ]
  },
  {
   "cell_type": "code",
   "execution_count": 66,
   "id": "e5e05880-a594-4cf5-a119-77b9d0f290dd",
   "metadata": {},
   "outputs": [
    {
     "data": {
      "text/plain": [
       "17"
      ]
     },
     "execution_count": 66,
     "metadata": {},
     "output_type": "execute_result"
    }
   ],
   "source": [
    "len(w_s)"
   ]
  },
  {
   "cell_type": "code",
   "execution_count": 67,
   "id": "01443963-4502-437c-9965-c932fecf439d",
   "metadata": {},
   "outputs": [],
   "source": [
    "W_p = wordpunct_tokenize(AI)"
   ]
  },
  {
   "cell_type": "code",
   "execution_count": 68,
   "id": "4850b684-e677-45b4-a9fb-750e6d59a2d5",
   "metadata": {},
   "outputs": [
    {
     "data": {
      "text/plain": [
       "85"
      ]
     },
     "execution_count": 68,
     "metadata": {},
     "output_type": "execute_result"
    }
   ],
   "source": [
    "len(W_p)"
   ]
  },
  {
   "cell_type": "code",
   "execution_count": 69,
   "id": "f2de3ba3-f0c2-46f7-a0d3-0214dd65e9e3",
   "metadata": {},
   "outputs": [],
   "source": [
    "from nltk.util import bigrams,trigrams,ngrams"
   ]
  },
  {
   "cell_type": "code",
   "execution_count": 70,
   "id": "d7f07fe1-76e4-4429-b292-82f2cf171c9d",
   "metadata": {},
   "outputs": [
    {
     "data": {
      "text/plain": [
       "['we', 'are', 'learner', 'of', 'prakash', 'senapati', 'from', '4pm', 'batch']"
      ]
     },
     "execution_count": 70,
     "metadata": {},
     "output_type": "execute_result"
    }
   ],
   "source": [
    "string = \" we are learner of prakash senapati from 4pm batch\"\n",
    "quotes_token = nltk.word_tokenize(string)\n",
    "quotes_token\n"
   ]
  },
  {
   "cell_type": "code",
   "execution_count": 71,
   "id": "0ee289f6-dec8-422e-a6e8-fa60f1741e14",
   "metadata": {},
   "outputs": [
    {
     "data": {
      "text/plain": [
       "' we are learner of prakash senapati from 4pm batch'"
      ]
     },
     "execution_count": 71,
     "metadata": {},
     "output_type": "execute_result"
    }
   ],
   "source": [
    "string"
   ]
  },
  {
   "cell_type": "code",
   "execution_count": 72,
   "id": "b4ef27d4-23f4-4fdb-a68b-d5033c2388d0",
   "metadata": {},
   "outputs": [
    {
     "data": {
      "text/plain": [
       "['we', 'are', 'learner', 'of', 'prakash', 'senapati', 'from', '4pm', 'batch']"
      ]
     },
     "execution_count": 72,
     "metadata": {},
     "output_type": "execute_result"
    }
   ],
   "source": [
    "quotes_token"
   ]
  },
  {
   "cell_type": "code",
   "execution_count": 73,
   "id": "1dd60ac1-5178-4786-bb78-e2f8f22a59c0",
   "metadata": {},
   "outputs": [],
   "source": [
    "quotes_biagram = list(nltk.bigrams(quotes_token))"
   ]
  },
  {
   "cell_type": "code",
   "execution_count": 74,
   "id": "759cadb9-3515-41ed-a380-9d87639cd822",
   "metadata": {},
   "outputs": [
    {
     "data": {
      "text/plain": [
       "[('we', 'are'),\n",
       " ('are', 'learner'),\n",
       " ('learner', 'of'),\n",
       " ('of', 'prakash'),\n",
       " ('prakash', 'senapati'),\n",
       " ('senapati', 'from'),\n",
       " ('from', '4pm'),\n",
       " ('4pm', 'batch')]"
      ]
     },
     "execution_count": 74,
     "metadata": {},
     "output_type": "execute_result"
    }
   ],
   "source": [
    "quotes_biagram"
   ]
  },
  {
   "cell_type": "code",
   "execution_count": 75,
   "id": "eac19e26-ce2f-423b-af93-90a0d2853119",
   "metadata": {},
   "outputs": [],
   "source": [
    "quotes_trigram = list(nltk.trigrams(quotes_token))"
   ]
  },
  {
   "cell_type": "code",
   "execution_count": 76,
   "id": "c5c34c9c-c00f-41c0-935b-ced49361c9c4",
   "metadata": {},
   "outputs": [
    {
     "data": {
      "text/plain": [
       "[('we', 'are', 'learner'),\n",
       " ('are', 'learner', 'of'),\n",
       " ('learner', 'of', 'prakash'),\n",
       " ('of', 'prakash', 'senapati'),\n",
       " ('prakash', 'senapati', 'from'),\n",
       " ('senapati', 'from', '4pm'),\n",
       " ('from', '4pm', 'batch')]"
      ]
     },
     "execution_count": 76,
     "metadata": {},
     "output_type": "execute_result"
    }
   ],
   "source": [
    "quotes_trigram"
   ]
  },
  {
   "cell_type": "code",
   "execution_count": 77,
   "id": "0515adea-3f79-4ef6-8d7e-31a3d945ace7",
   "metadata": {},
   "outputs": [],
   "source": [
    "quotes_ngram = list(nltk.ngrams(quotes_token,4))"
   ]
  },
  {
   "cell_type": "code",
   "execution_count": 78,
   "id": "63b87103-738c-4375-9d4a-858bd34756ad",
   "metadata": {},
   "outputs": [
    {
     "data": {
      "text/plain": [
       "[('we', 'are', 'learner', 'of'),\n",
       " ('are', 'learner', 'of', 'prakash'),\n",
       " ('learner', 'of', 'prakash', 'senapati'),\n",
       " ('of', 'prakash', 'senapati', 'from'),\n",
       " ('prakash', 'senapati', 'from', '4pm'),\n",
       " ('senapati', 'from', '4pm', 'batch')]"
      ]
     },
     "execution_count": 78,
     "metadata": {},
     "output_type": "execute_result"
    }
   ],
   "source": [
    "quotes_ngram"
   ]
  },
  {
   "cell_type": "code",
   "execution_count": 79,
   "id": "9f6aba21-f831-4f09-8ead-4d68f7b35fea",
   "metadata": {},
   "outputs": [],
   "source": [
    "from nltk.stem import PorterStemmer\n",
    "pst = PorterStemmer()"
   ]
  },
  {
   "cell_type": "code",
   "execution_count": 80,
   "id": "2f9b57a2-fa67-46ec-bb15-c1dd0fc5db2b",
   "metadata": {},
   "outputs": [
    {
     "data": {
      "text/plain": [
       "'affect'"
      ]
     },
     "execution_count": 80,
     "metadata": {},
     "output_type": "execute_result"
    }
   ],
   "source": [
    "pst.stem('affection')"
   ]
  },
  {
   "cell_type": "code",
   "execution_count": 81,
   "id": "ee4246ec-5bd2-4880-b307-95d18bcbdc30",
   "metadata": {},
   "outputs": [
    {
     "data": {
      "text/plain": [
       "'play'"
      ]
     },
     "execution_count": 81,
     "metadata": {},
     "output_type": "execute_result"
    }
   ],
   "source": [
    "pst.stem('playing')"
   ]
  },
  {
   "cell_type": "code",
   "execution_count": 82,
   "id": "16f78033-02a2-4a88-9236-f2315329861a",
   "metadata": {},
   "outputs": [
    {
     "data": {
      "text/plain": [
       "'maximum'"
      ]
     },
     "execution_count": 82,
     "metadata": {},
     "output_type": "execute_result"
    }
   ],
   "source": [
    "pst.stem('maximum')"
   ]
  },
  {
   "cell_type": "code",
   "execution_count": 83,
   "id": "16397922-395e-448a-9585-9853732ebb94",
   "metadata": {},
   "outputs": [
    {
     "name": "stdout",
     "output_type": "stream",
     "text": [
      "give:give\n",
      "giving:give\n",
      "given:given\n",
      "gave:gave\n"
     ]
    }
   ],
   "source": [
    "words_to_stem = ['give','giving','given','gave']\n",
    "for words in words_to_stem:\n",
    "    print(words+':'+pst.stem(words))"
   ]
  },
  {
   "cell_type": "code",
   "execution_count": 84,
   "id": "4d6b2c33-3058-4f2b-80b4-a1bf49b04b83",
   "metadata": {},
   "outputs": [],
   "source": [
    "ds_to_stem = [\n",
    "    \"give\", \"gives\", \"giving\", \"given\", \"gave\",\n",
    "    \"run\", \"runs\", \"running\", \"ran\",\n",
    "    \"eat\", \"eats\", \"eating\", \"ate\", \"eaten\",\n",
    "    \"write\", \"writes\", \"writing\", \"wrote\", \"written\",\n",
    "    \"go\", \"goes\", \"going\", \"went\", \"gone\",\n",
    "    \"take\", \"takes\", \"taking\", \"took\", \"taken\",\n",
    "    \"make\", \"makes\", \"making\", \"made\",\n",
    "    \"see\", \"sees\", \"seeing\", \"saw\", \"seen\",\n",
    "    \"drive\", \"drives\", \"driving\", \"drove\", \"driven\",\n",
    "    \"fly\", \"flies\", \"flying\", \"flew\", \"flown\",\n",
    "    \"speak\", \"speaks\", \"speaking\", \"spoke\", \"spoken\"\n",
    "]\n"
   ]
  },
  {
   "cell_type": "code",
   "execution_count": 85,
   "id": "ca105ced-f054-4d85-a1cc-43fd68a78f1f",
   "metadata": {},
   "outputs": [
    {
     "name": "stdout",
     "output_type": "stream",
     "text": [
      "give:give\n",
      "gives:give\n",
      "giving:give\n",
      "given:given\n",
      "gave:gave\n",
      "run:run\n",
      "runs:run\n",
      "running:run\n",
      "ran:ran\n",
      "eat:eat\n",
      "eats:eat\n",
      "eating:eat\n",
      "ate:ate\n",
      "eaten:eaten\n",
      "write:write\n",
      "writes:write\n",
      "writing:write\n",
      "wrote:wrote\n",
      "written:written\n",
      "go:go\n",
      "goes:goe\n",
      "going:go\n",
      "went:went\n",
      "gone:gone\n",
      "take:take\n",
      "takes:take\n",
      "taking:take\n",
      "took:took\n",
      "taken:taken\n",
      "make:make\n",
      "makes:make\n",
      "making:make\n",
      "made:made\n",
      "see:see\n",
      "sees:see\n",
      "seeing:see\n",
      "saw:saw\n",
      "seen:seen\n",
      "drive:drive\n",
      "drives:drive\n",
      "driving:drive\n",
      "drove:drove\n",
      "driven:driven\n",
      "fly:fli\n",
      "flies:fli\n",
      "flying:fli\n",
      "flew:flew\n",
      "flown:flown\n",
      "speak:speak\n",
      "speaks:speak\n",
      "speaking:speak\n",
      "spoke:spoke\n",
      "spoken:spoken\n"
     ]
    }
   ],
   "source": [
    "\n",
    "for word in ds_to_stem:\n",
    "    print(word+':'+pst.stem(word))"
   ]
  },
  {
   "cell_type": "code",
   "execution_count": 86,
   "id": "2bb23308-d8bb-4f30-93fb-3a5debc43e4d",
   "metadata": {},
   "outputs": [
    {
     "name": "stdout",
     "output_type": "stream",
     "text": [
      "give:giv\n",
      "giving:giv\n",
      "given:giv\n",
      "gave:gav\n"
     ]
    }
   ],
   "source": [
    "from nltk.stem import LancasterStemmer\n",
    "lst = LancasterStemmer()\n",
    "\n",
    "\n",
    "for words in words_to_stem:\n",
    "    print(words+':'+lst.stem(words))"
   ]
  },
  {
   "cell_type": "code",
   "execution_count": 87,
   "id": "47ddbc33-11be-4ddd-bad9-3424b7521d05",
   "metadata": {},
   "outputs": [
    {
     "name": "stdout",
     "output_type": "stream",
     "text": [
      "give:give\n",
      "giving:give\n",
      "given:given\n",
      "gave:gave\n"
     ]
    }
   ],
   "source": [
    "from nltk.stem import SnowballStemmer\n",
    "lst = SnowballStemmer('english')\n",
    "\n",
    "\n",
    "for words in words_to_stem:\n",
    "    print(words+':'+lst.stem(words))"
   ]
  },
  {
   "cell_type": "code",
   "execution_count": 88,
   "id": "838fb8f8-b658-4c6a-8e79-767eaadd1959",
   "metadata": {},
   "outputs": [],
   "source": [
    "from nltk.stem import wordnet\n",
    "from nltk.stem import WordNetLemmatizer\n",
    "word_lem = WordNetLemmatizer()\n",
    "\n"
   ]
  },
  {
   "cell_type": "code",
   "execution_count": 89,
   "id": "9b3f1ff4-505a-4b14-af52-ecd088f53c7a",
   "metadata": {},
   "outputs": [
    {
     "name": "stdout",
     "output_type": "stream",
     "text": [
      "give:give\n",
      "giving:giving\n",
      "given:given\n",
      "gave:gave\n"
     ]
    }
   ],
   "source": [
    "for words in words_to_stem:\n",
    "    print(words+':'+word_lem.lemmatize(words))"
   ]
  },
  {
   "cell_type": "code",
   "execution_count": 90,
   "id": "3e4bc786-3775-4c0e-b8b9-19377c95089d",
   "metadata": {},
   "outputs": [],
   "source": [
    "from nltk.corpus import stopwords"
   ]
  },
  {
   "cell_type": "code",
   "execution_count": 91,
   "id": "748a600f-a3d0-43e9-9a99-ae009c91a12d",
   "metadata": {},
   "outputs": [
    {
     "data": {
      "text/plain": [
       "['a',\n",
       " 'about',\n",
       " 'above',\n",
       " 'after',\n",
       " 'again',\n",
       " 'against',\n",
       " 'ain',\n",
       " 'all',\n",
       " 'am',\n",
       " 'an',\n",
       " 'and',\n",
       " 'any',\n",
       " 'are',\n",
       " 'aren',\n",
       " \"aren't\",\n",
       " 'as',\n",
       " 'at',\n",
       " 'be',\n",
       " 'because',\n",
       " 'been',\n",
       " 'before',\n",
       " 'being',\n",
       " 'below',\n",
       " 'between',\n",
       " 'both',\n",
       " 'but',\n",
       " 'by',\n",
       " 'can',\n",
       " 'couldn',\n",
       " \"couldn't\",\n",
       " 'd',\n",
       " 'did',\n",
       " 'didn',\n",
       " \"didn't\",\n",
       " 'do',\n",
       " 'does',\n",
       " 'doesn',\n",
       " \"doesn't\",\n",
       " 'doing',\n",
       " 'don',\n",
       " \"don't\",\n",
       " 'down',\n",
       " 'during',\n",
       " 'each',\n",
       " 'few',\n",
       " 'for',\n",
       " 'from',\n",
       " 'further',\n",
       " 'had',\n",
       " 'hadn',\n",
       " \"hadn't\",\n",
       " 'has',\n",
       " 'hasn',\n",
       " \"hasn't\",\n",
       " 'have',\n",
       " 'haven',\n",
       " \"haven't\",\n",
       " 'having',\n",
       " 'he',\n",
       " \"he'd\",\n",
       " \"he'll\",\n",
       " 'her',\n",
       " 'here',\n",
       " 'hers',\n",
       " 'herself',\n",
       " \"he's\",\n",
       " 'him',\n",
       " 'himself',\n",
       " 'his',\n",
       " 'how',\n",
       " 'i',\n",
       " \"i'd\",\n",
       " 'if',\n",
       " \"i'll\",\n",
       " \"i'm\",\n",
       " 'in',\n",
       " 'into',\n",
       " 'is',\n",
       " 'isn',\n",
       " \"isn't\",\n",
       " 'it',\n",
       " \"it'd\",\n",
       " \"it'll\",\n",
       " \"it's\",\n",
       " 'its',\n",
       " 'itself',\n",
       " \"i've\",\n",
       " 'just',\n",
       " 'll',\n",
       " 'm',\n",
       " 'ma',\n",
       " 'me',\n",
       " 'mightn',\n",
       " \"mightn't\",\n",
       " 'more',\n",
       " 'most',\n",
       " 'mustn',\n",
       " \"mustn't\",\n",
       " 'my',\n",
       " 'myself',\n",
       " 'needn',\n",
       " \"needn't\",\n",
       " 'no',\n",
       " 'nor',\n",
       " 'not',\n",
       " 'now',\n",
       " 'o',\n",
       " 'of',\n",
       " 'off',\n",
       " 'on',\n",
       " 'once',\n",
       " 'only',\n",
       " 'or',\n",
       " 'other',\n",
       " 'our',\n",
       " 'ours',\n",
       " 'ourselves',\n",
       " 'out',\n",
       " 'over',\n",
       " 'own',\n",
       " 're',\n",
       " 's',\n",
       " 'same',\n",
       " 'shan',\n",
       " \"shan't\",\n",
       " 'she',\n",
       " \"she'd\",\n",
       " \"she'll\",\n",
       " \"she's\",\n",
       " 'should',\n",
       " 'shouldn',\n",
       " \"shouldn't\",\n",
       " \"should've\",\n",
       " 'so',\n",
       " 'some',\n",
       " 'such',\n",
       " 't',\n",
       " 'than',\n",
       " 'that',\n",
       " \"that'll\",\n",
       " 'the',\n",
       " 'their',\n",
       " 'theirs',\n",
       " 'them',\n",
       " 'themselves',\n",
       " 'then',\n",
       " 'there',\n",
       " 'these',\n",
       " 'they',\n",
       " \"they'd\",\n",
       " \"they'll\",\n",
       " \"they're\",\n",
       " \"they've\",\n",
       " 'this',\n",
       " 'those',\n",
       " 'through',\n",
       " 'to',\n",
       " 'too',\n",
       " 'under',\n",
       " 'until',\n",
       " 'up',\n",
       " 've',\n",
       " 'very',\n",
       " 'was',\n",
       " 'wasn',\n",
       " \"wasn't\",\n",
       " 'we',\n",
       " \"we'd\",\n",
       " \"we'll\",\n",
       " \"we're\",\n",
       " 'were',\n",
       " 'weren',\n",
       " \"weren't\",\n",
       " \"we've\",\n",
       " 'what',\n",
       " 'when',\n",
       " 'where',\n",
       " 'which',\n",
       " 'while',\n",
       " 'who',\n",
       " 'whom',\n",
       " 'why',\n",
       " 'will',\n",
       " 'with',\n",
       " 'won',\n",
       " \"won't\",\n",
       " 'wouldn',\n",
       " \"wouldn't\",\n",
       " 'y',\n",
       " 'you',\n",
       " \"you'd\",\n",
       " \"you'll\",\n",
       " 'your',\n",
       " \"you're\",\n",
       " 'yours',\n",
       " 'yourself',\n",
       " 'yourselves',\n",
       " \"you've\"]"
      ]
     },
     "execution_count": 91,
     "metadata": {},
     "output_type": "execute_result"
    }
   ],
   "source": [
    "stopwords.words('english')"
   ]
  },
  {
   "cell_type": "code",
   "execution_count": 92,
   "id": "cf2b78ed-0a16-4906-8fd0-1324e09ebe19",
   "metadata": {},
   "outputs": [
    {
     "data": {
      "text/plain": [
       "198"
      ]
     },
     "execution_count": 92,
     "metadata": {},
     "output_type": "execute_result"
    }
   ],
   "source": [
    "len(stopwords.words('english'))"
   ]
  },
  {
   "cell_type": "code",
   "execution_count": 93,
   "id": "06be3906-1be3-4dbf-976d-3b4ea21f6454",
   "metadata": {},
   "outputs": [
    {
     "data": {
      "text/plain": [
       "157"
      ]
     },
     "execution_count": 93,
     "metadata": {},
     "output_type": "execute_result"
    }
   ],
   "source": [
    "len(stopwords.words('french'))"
   ]
  },
  {
   "cell_type": "code",
   "execution_count": 94,
   "id": "e2a08bf8-0b08-4dcc-994c-96ddc9e0283a",
   "metadata": {},
   "outputs": [
    {
     "data": {
      "text/plain": [
       "232"
      ]
     },
     "execution_count": 94,
     "metadata": {},
     "output_type": "execute_result"
    }
   ],
   "source": [
    "len(stopwords.words('german'))"
   ]
  },
  {
   "cell_type": "code",
   "execution_count": 95,
   "id": "68664583-7e73-4ed6-92d5-b04ed7f4e0a3",
   "metadata": {},
   "outputs": [
    {
     "data": {
      "text/plain": [
       "125"
      ]
     },
     "execution_count": 95,
     "metadata": {},
     "output_type": "execute_result"
    }
   ],
   "source": [
    "len(stopwords.words('tamil'))"
   ]
  },
  {
   "cell_type": "code",
   "execution_count": 96,
   "id": "ad1381a6-77f9-4fca-ba94-c43868f338b7",
   "metadata": {},
   "outputs": [
    {
     "data": {
      "text/plain": [
       "['sam', 'is', 'a', 'natural', 'when', 'comes', 'to', 'drawing']"
      ]
     },
     "execution_count": 96,
     "metadata": {},
     "output_type": "execute_result"
    }
   ],
   "source": [
    "sent = 'sam is a natural when comes to drawing'\n",
    "sent_token = word_tokenize(sent)\n",
    "sent_token"
   ]
  },
  {
   "cell_type": "code",
   "execution_count": 97,
   "id": "09cb6e01-1e3a-4a4c-8253-f323204d3154",
   "metadata": {},
   "outputs": [
    {
     "name": "stdout",
     "output_type": "stream",
     "text": [
      "[('sam', 'NN')]\n",
      "[('is', 'VBZ')]\n",
      "[('a', 'DT')]\n",
      "[('natural', 'JJ')]\n",
      "[('when', 'WRB')]\n",
      "[('comes', 'VBZ')]\n",
      "[('to', 'TO')]\n",
      "[('drawing', 'VBG')]\n"
     ]
    }
   ],
   "source": [
    "for token in sent_token:\n",
    "    print(nltk.pos_tag([token]))"
   ]
  },
  {
   "cell_type": "code",
   "execution_count": 98,
   "id": "ec87fa0a-b93d-4a4d-9756-aac1f5a82fa1",
   "metadata": {},
   "outputs": [],
   "source": [
    "from nltk import ne_chunk"
   ]
  },
  {
   "cell_type": "code",
   "execution_count": 99,
   "id": "762e1976-693e-4e3a-8c9c-a5e037f94ae4",
   "metadata": {},
   "outputs": [],
   "source": [
    "ne_sent = 'The us president stays in the WHITEHOUSE'"
   ]
  },
  {
   "cell_type": "code",
   "execution_count": 100,
   "id": "a1c985a7-a8c8-4171-a482-ad17c8285dda",
   "metadata": {},
   "outputs": [],
   "source": [
    "ne_token = word_tokenize(ne_sent)"
   ]
  },
  {
   "cell_type": "code",
   "execution_count": 101,
   "id": "ec12bb73-d09d-4c84-97d2-2e78011fb615",
   "metadata": {},
   "outputs": [
    {
     "data": {
      "text/plain": [
       "['The', 'us', 'president', 'stays', 'in', 'the', 'WHITEHOUSE']"
      ]
     },
     "execution_count": 101,
     "metadata": {},
     "output_type": "execute_result"
    }
   ],
   "source": [
    "ne_token"
   ]
  },
  {
   "cell_type": "code",
   "execution_count": 102,
   "id": "a8e70239-eef5-4ac8-869e-396273d96a9d",
   "metadata": {},
   "outputs": [],
   "source": [
    "ne_tags = nltk.pos_tag(ne_token)"
   ]
  },
  {
   "cell_type": "code",
   "execution_count": 103,
   "id": "2d736ebe-20bf-4dc3-a04f-074b3608a19e",
   "metadata": {},
   "outputs": [
    {
     "data": {
      "text/plain": [
       "[('The', 'DT'),\n",
       " ('us', 'PRP'),\n",
       " ('president', 'NN'),\n",
       " ('stays', 'NNS'),\n",
       " ('in', 'IN'),\n",
       " ('the', 'DT'),\n",
       " ('WHITEHOUSE', 'NNP')]"
      ]
     },
     "execution_count": 103,
     "metadata": {},
     "output_type": "execute_result"
    }
   ],
   "source": [
    "ne_tags"
   ]
  },
  {
   "cell_type": "code",
   "execution_count": 106,
   "id": "6b13328b-5235-420f-bb18-9f183187f09c",
   "metadata": {},
   "outputs": [
    {
     "name": "stdout",
     "output_type": "stream",
     "text": [
      "(S\n",
      "  The/DT\n",
      "  us/PRP\n",
      "  president/NN\n",
      "  stays/NNS\n",
      "  in/IN\n",
      "  the/DT\n",
      "  (ORGANIZATION WHITEHOUSE/NNP))\n"
     ]
    }
   ],
   "source": [
    "ne_ner = ne_chunk(ne_tags)\n",
    "print(ne_ner)"
   ]
  },
  {
   "cell_type": "markdown",
   "id": "9c750bdf-a57b-498e-ab43-afbb1d4dc1f3",
   "metadata": {},
   "source": [
    "## Natural Language Generation"
   ]
  },
  {
   "cell_type": "code",
   "execution_count": 110,
   "id": "3e255da3-f210-4a68-9e7a-d2e9c7964821",
   "metadata": {},
   "outputs": [
    {
     "name": "stdout",
     "output_type": "stream",
     "text": [
      "Collecting wordcloud\n",
      "  Downloading wordcloud-1.9.4-cp312-cp312-win_amd64.whl.metadata (3.5 kB)\n",
      "Requirement already satisfied: numpy>=1.6.1 in c:\\users\\mdreh\\anaconda3\\lib\\site-packages (from wordcloud) (1.26.4)\n",
      "Requirement already satisfied: pillow in c:\\users\\mdreh\\anaconda3\\lib\\site-packages (from wordcloud) (10.4.0)\n",
      "Requirement already satisfied: matplotlib in c:\\users\\mdreh\\anaconda3\\lib\\site-packages (from wordcloud) (3.9.2)\n",
      "Requirement already satisfied: contourpy>=1.0.1 in c:\\users\\mdreh\\anaconda3\\lib\\site-packages (from matplotlib->wordcloud) (1.2.0)\n",
      "Requirement already satisfied: cycler>=0.10 in c:\\users\\mdreh\\anaconda3\\lib\\site-packages (from matplotlib->wordcloud) (0.11.0)\n",
      "Requirement already satisfied: fonttools>=4.22.0 in c:\\users\\mdreh\\anaconda3\\lib\\site-packages (from matplotlib->wordcloud) (4.51.0)\n",
      "Requirement already satisfied: kiwisolver>=1.3.1 in c:\\users\\mdreh\\anaconda3\\lib\\site-packages (from matplotlib->wordcloud) (1.4.4)\n",
      "Requirement already satisfied: packaging>=20.0 in c:\\users\\mdreh\\anaconda3\\lib\\site-packages (from matplotlib->wordcloud) (24.1)\n",
      "Requirement already satisfied: pyparsing>=2.3.1 in c:\\users\\mdreh\\anaconda3\\lib\\site-packages (from matplotlib->wordcloud) (3.1.2)\n",
      "Requirement already satisfied: python-dateutil>=2.7 in c:\\users\\mdreh\\anaconda3\\lib\\site-packages (from matplotlib->wordcloud) (2.9.0.post0)\n",
      "Requirement already satisfied: six>=1.5 in c:\\users\\mdreh\\anaconda3\\lib\\site-packages (from python-dateutil>=2.7->matplotlib->wordcloud) (1.16.0)\n",
      "Downloading wordcloud-1.9.4-cp312-cp312-win_amd64.whl (301 kB)\n",
      "Installing collected packages: wordcloud\n",
      "Successfully installed wordcloud-1.9.4\n"
     ]
    }
   ],
   "source": [
    "!pip install wordcloud\n"
   ]
  },
  {
   "cell_type": "code",
   "execution_count": 114,
   "id": "49697c12-979b-4daf-8728-cd333df22c65",
   "metadata": {},
   "outputs": [],
   "source": [
    "from wordcloud import WordCloud\n",
    "import matplotlib.pyplot as plt"
   ]
  },
  {
   "cell_type": "code",
   "execution_count": 115,
   "id": "30ddfd0f-dfe7-4e01-b6bd-26de33f86af9",
   "metadata": {},
   "outputs": [],
   "source": [
    "text = (\"\"\"\n",
    "Machine learning and artificial intelligence are transforming the world. \n",
    "Data science is at the heart of this transformation, helping companies \n",
    "make better decisions, understand customers, and improve products. \n",
    "Natural language processing (NLP) allows computers to understand human language, \n",
    "enabling chatbots, translation tools, and sentiment analysis. \n",
    "Deep learning models power image recognition, speech-to-text, and predictive analytics. \n",
    "Python, Pandas, NumPy, and Scikit-learn are popular tools in the data science toolkit. \n",
    "Visualization libraries like Matplotlib and Seaborn help present insights clearly. \n",
    "As AI continues to grow, the importance of clean, well-structured data will only increase.\n",
    "\"\"\")"
   ]
  },
  {
   "cell_type": "code",
   "execution_count": 117,
   "id": "8133a69c-25d8-4edf-b252-4792d0e6e3bc",
   "metadata": {},
   "outputs": [],
   "source": [
    "wordcloud = WordCloud(width=420, height=200, margin=2 , background_color='black',colormap='Accent',mode='RGBA').generate(text)"
   ]
  },
  {
   "cell_type": "code",
   "execution_count": 118,
   "id": "2bf33823-02ce-4dbd-a388-3457dafc77ca",
   "metadata": {},
   "outputs": [
    {
     "data": {
      "image/png": "[encoded data removed]",
      "text/plain": [
       "<Figure size 640x480 with 1 Axes>"
      ]
     },
     "metadata": {},
     "output_type": "display_data"
    }
   ],
   "source": [
    "# displaying the generated image\n",
    "plt.imshow(wordcloud , interpolation='quadric')\n",
    "plt.axis('off')\n",
    "plt.margins(x=0,y=0)\n",
    "plt.show()"
   ]
  },
  {
   "cell_type": "code",
   "execution_count": null,
   "id": "92effe84-b5c3-427e-b50f-015c7f074926",
   "metadata": {},
   "outputs": [],
   "source": []
  }
 ],
 "metadata": {
  "kernelspec": {
   "display_name": "Python 3 (ipykernel)",
   "language": "python",
   "name": "python3"
  },
  "language_info": {
   "codemirror_mode": {
    "name": "ipython",
    "version": 3
   },
   "file_extension": ".py",
   "mimetype": "text/x-python",
   "name": "python",
   "nbconvert_exporter": "python",
   "pygments_lexer": "ipython3",
   "version": "3.12.7"
  }
 },
 "nbformat": 4,
 "nbformat_minor": 5
}
